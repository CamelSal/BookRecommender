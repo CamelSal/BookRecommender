{
 "cells": [
  {
   "cell_type": "markdown",
   "id": "c9236456-e98f-4089-9e6a-e63cc2908bd9",
   "metadata": {},
   "source": [
    "<div id=\"container\" style=\"position:relative;\">\n",
    "<div style=\"float:left\"><h1> Capstone Project Initil Data Cleaning and Explorations </h1></div>\n",
    "<div style=\"position:relative; float:right\"><img style=\"height:65px\" src =\"https://drive.google.com/uc?export=view&id=1EnB0x-fdqMp6I5iMoEBBEuxB_s7AmE2k\" />\n",
    "</div>\n",
    "</div>"
   ]
  },
  {
   "cell_type": "markdown",
   "id": "f830fc67-5eaa-4071-b108-8316f0d45f48",
   "metadata": {},
   "source": [
    "# Introduction\n",
    "\n",
    "In this notebook, we will embark on the crucial initial data cleaning and exploration phase. We will ensure that these datasets are in optimal condition for analysis by addressing missing values, duplicates, and unnecessary data. This process will prepare the data for the subsequent stages of our project, setting the stage for a book recommender system. This project will be built by using the following four datasets:\n",
    "\n",
    " - **Books Data (books.csv)**: This dataset contains detailed information about 10,000 unique books, \n",
    "\n",
    "- **Tags Data (tags.csv)**: This dataset contains the name and id of the tags that users can attach to books\n",
    "\n",
    "- **Book Tags Data (book_tags.csv)**: this data set includes the number of users that have added a specific tag to a book\n",
    "\n",
    "- **Ratings Data (ratings.csv)**: contains the user id and the rating they have given to a specific book\n"
   ]
  },
  {
   "cell_type": "code",
   "execution_count": 2,
   "id": "afc4556e-f4a9-4521-bbc1-07bca42e1bf3",
   "metadata": {
    "tags": []
   },
   "outputs": [],
   "source": [
    "# imports usefull libraries\n",
    "import numpy as np\n",
    "import pandas as pd\n",
    "import matplotlib.pyplot as plt\n",
    "import seaborn as sns\n",
    "import matplotlib.dates as mdates"
   ]
  },
  {
   "cell_type": "code",
   "execution_count": 3,
   "id": "c8d429a9-9542-49ea-97c6-574fe30086c4",
   "metadata": {
    "tags": []
   },
   "outputs": [],
   "source": [
    "#loading all dataframes\n",
    "book_df = pd.read_csv('data/books.csv')\n",
    "tags_df = pd.read_csv('data/tags.csv')\n",
    "book_tags_df = pd.read_csv('data/book_tags.csv')\n",
    "ratings_df = pd.read_csv('data/ratings.csv')"
   ]
  },
  {
   "cell_type": "markdown",
   "id": "b95a9d8e-c03f-4ae0-8a65-286baa78a119",
   "metadata": {},
   "source": [
    "## Table of Content\n",
    "\n",
    "- [Book Data Frame](#part-1)\n",
    "- [Tags Data Frame](#part-2)\n",
    "- [Book Tags Data Frame](#part-3)\n",
    "- [Rating Data Frame](#part-4)\n"
   ]
  },
  {
   "cell_type": "markdown",
   "id": "2a338933-b6b7-4035-90bf-5e1f487a86ba",
   "metadata": {
    "tags": []
   },
   "source": [
    "## Book Data Frame EDA <a class=\"anchor\" id=\"part-1\"></a>"
   ]
  },
  {
   "cell_type": "markdown",
   "id": "4025c38e-92bb-4109-9108-eaf8090773bf",
   "metadata": {},
   "source": [
    "To begin, let's start by examining the book data to understand its structure, including the shape and data types of each column. We'll also investigate whether any columns contain missing values"
   ]
  },
  {
   "cell_type": "code",
   "execution_count": 4,
   "id": "67fb93c3-4a2c-4813-89da-3e64689735f3",
   "metadata": {
    "tags": []
   },
   "outputs": [
    {
     "data": {
      "text/html": [
       "<div>\n",
       "<style scoped>\n",
       "    .dataframe tbody tr th:only-of-type {\n",
       "        vertical-align: middle;\n",
       "    }\n",
       "\n",
       "    .dataframe tbody tr th {\n",
       "        vertical-align: top;\n",
       "    }\n",
       "\n",
       "    .dataframe thead th {\n",
       "        text-align: right;\n",
       "    }\n",
       "</style>\n",
       "<table border=\"1\" class=\"dataframe\">\n",
       "  <thead>\n",
       "    <tr style=\"text-align: right;\">\n",
       "      <th></th>\n",
       "      <th>book_id</th>\n",
       "      <th>goodreads_book_id</th>\n",
       "      <th>best_book_id</th>\n",
       "      <th>work_id</th>\n",
       "      <th>books_count</th>\n",
       "      <th>isbn</th>\n",
       "      <th>isbn13</th>\n",
       "      <th>authors</th>\n",
       "      <th>original_publication_year</th>\n",
       "      <th>original_title</th>\n",
       "      <th>...</th>\n",
       "      <th>ratings_count</th>\n",
       "      <th>work_ratings_count</th>\n",
       "      <th>work_text_reviews_count</th>\n",
       "      <th>ratings_1</th>\n",
       "      <th>ratings_2</th>\n",
       "      <th>ratings_3</th>\n",
       "      <th>ratings_4</th>\n",
       "      <th>ratings_5</th>\n",
       "      <th>image_url</th>\n",
       "      <th>small_image_url</th>\n",
       "    </tr>\n",
       "  </thead>\n",
       "  <tbody>\n",
       "    <tr>\n",
       "      <th>0</th>\n",
       "      <td>1</td>\n",
       "      <td>2767052</td>\n",
       "      <td>2767052</td>\n",
       "      <td>2792775</td>\n",
       "      <td>272</td>\n",
       "      <td>439023483</td>\n",
       "      <td>9.780439e+12</td>\n",
       "      <td>Suzanne Collins</td>\n",
       "      <td>2008.0</td>\n",
       "      <td>The Hunger Games</td>\n",
       "      <td>...</td>\n",
       "      <td>4780653</td>\n",
       "      <td>4942365</td>\n",
       "      <td>155254</td>\n",
       "      <td>66715</td>\n",
       "      <td>127936</td>\n",
       "      <td>560092</td>\n",
       "      <td>1481305</td>\n",
       "      <td>2706317</td>\n",
       "      <td>https://images.gr-assets.com/books/1447303603m...</td>\n",
       "      <td>https://images.gr-assets.com/books/1447303603s...</td>\n",
       "    </tr>\n",
       "    <tr>\n",
       "      <th>1</th>\n",
       "      <td>2</td>\n",
       "      <td>3</td>\n",
       "      <td>3</td>\n",
       "      <td>4640799</td>\n",
       "      <td>491</td>\n",
       "      <td>439554934</td>\n",
       "      <td>9.780440e+12</td>\n",
       "      <td>J.K. Rowling, Mary GrandPré</td>\n",
       "      <td>1997.0</td>\n",
       "      <td>Harry Potter and the Philosopher's Stone</td>\n",
       "      <td>...</td>\n",
       "      <td>4602479</td>\n",
       "      <td>4800065</td>\n",
       "      <td>75867</td>\n",
       "      <td>75504</td>\n",
       "      <td>101676</td>\n",
       "      <td>455024</td>\n",
       "      <td>1156318</td>\n",
       "      <td>3011543</td>\n",
       "      <td>https://images.gr-assets.com/books/1474154022m...</td>\n",
       "      <td>https://images.gr-assets.com/books/1474154022s...</td>\n",
       "    </tr>\n",
       "    <tr>\n",
       "      <th>2</th>\n",
       "      <td>3</td>\n",
       "      <td>41865</td>\n",
       "      <td>41865</td>\n",
       "      <td>3212258</td>\n",
       "      <td>226</td>\n",
       "      <td>316015849</td>\n",
       "      <td>9.780316e+12</td>\n",
       "      <td>Stephenie Meyer</td>\n",
       "      <td>2005.0</td>\n",
       "      <td>Twilight</td>\n",
       "      <td>...</td>\n",
       "      <td>3866839</td>\n",
       "      <td>3916824</td>\n",
       "      <td>95009</td>\n",
       "      <td>456191</td>\n",
       "      <td>436802</td>\n",
       "      <td>793319</td>\n",
       "      <td>875073</td>\n",
       "      <td>1355439</td>\n",
       "      <td>https://images.gr-assets.com/books/1361039443m...</td>\n",
       "      <td>https://images.gr-assets.com/books/1361039443s...</td>\n",
       "    </tr>\n",
       "    <tr>\n",
       "      <th>3</th>\n",
       "      <td>4</td>\n",
       "      <td>2657</td>\n",
       "      <td>2657</td>\n",
       "      <td>3275794</td>\n",
       "      <td>487</td>\n",
       "      <td>61120081</td>\n",
       "      <td>9.780061e+12</td>\n",
       "      <td>Harper Lee</td>\n",
       "      <td>1960.0</td>\n",
       "      <td>To Kill a Mockingbird</td>\n",
       "      <td>...</td>\n",
       "      <td>3198671</td>\n",
       "      <td>3340896</td>\n",
       "      <td>72586</td>\n",
       "      <td>60427</td>\n",
       "      <td>117415</td>\n",
       "      <td>446835</td>\n",
       "      <td>1001952</td>\n",
       "      <td>1714267</td>\n",
       "      <td>https://images.gr-assets.com/books/1361975680m...</td>\n",
       "      <td>https://images.gr-assets.com/books/1361975680s...</td>\n",
       "    </tr>\n",
       "    <tr>\n",
       "      <th>4</th>\n",
       "      <td>5</td>\n",
       "      <td>4671</td>\n",
       "      <td>4671</td>\n",
       "      <td>245494</td>\n",
       "      <td>1356</td>\n",
       "      <td>743273567</td>\n",
       "      <td>9.780743e+12</td>\n",
       "      <td>F. Scott Fitzgerald</td>\n",
       "      <td>1925.0</td>\n",
       "      <td>The Great Gatsby</td>\n",
       "      <td>...</td>\n",
       "      <td>2683664</td>\n",
       "      <td>2773745</td>\n",
       "      <td>51992</td>\n",
       "      <td>86236</td>\n",
       "      <td>197621</td>\n",
       "      <td>606158</td>\n",
       "      <td>936012</td>\n",
       "      <td>947718</td>\n",
       "      <td>https://images.gr-assets.com/books/1490528560m...</td>\n",
       "      <td>https://images.gr-assets.com/books/1490528560s...</td>\n",
       "    </tr>\n",
       "  </tbody>\n",
       "</table>\n",
       "<p>5 rows × 23 columns</p>\n",
       "</div>"
      ],
      "text/plain": [
       "   book_id  goodreads_book_id  best_book_id  work_id  books_count       isbn  \\\n",
       "0        1            2767052       2767052  2792775          272  439023483   \n",
       "1        2                  3             3  4640799          491  439554934   \n",
       "2        3              41865         41865  3212258          226  316015849   \n",
       "3        4               2657          2657  3275794          487   61120081   \n",
       "4        5               4671          4671   245494         1356  743273567   \n",
       "\n",
       "         isbn13                      authors  original_publication_year  \\\n",
       "0  9.780439e+12              Suzanne Collins                     2008.0   \n",
       "1  9.780440e+12  J.K. Rowling, Mary GrandPré                     1997.0   \n",
       "2  9.780316e+12              Stephenie Meyer                     2005.0   \n",
       "3  9.780061e+12                   Harper Lee                     1960.0   \n",
       "4  9.780743e+12          F. Scott Fitzgerald                     1925.0   \n",
       "\n",
       "                             original_title  ... ratings_count  \\\n",
       "0                          The Hunger Games  ...       4780653   \n",
       "1  Harry Potter and the Philosopher's Stone  ...       4602479   \n",
       "2                                  Twilight  ...       3866839   \n",
       "3                     To Kill a Mockingbird  ...       3198671   \n",
       "4                          The Great Gatsby  ...       2683664   \n",
       "\n",
       "  work_ratings_count  work_text_reviews_count  ratings_1  ratings_2  \\\n",
       "0            4942365                   155254      66715     127936   \n",
       "1            4800065                    75867      75504     101676   \n",
       "2            3916824                    95009     456191     436802   \n",
       "3            3340896                    72586      60427     117415   \n",
       "4            2773745                    51992      86236     197621   \n",
       "\n",
       "   ratings_3  ratings_4  ratings_5  \\\n",
       "0     560092    1481305    2706317   \n",
       "1     455024    1156318    3011543   \n",
       "2     793319     875073    1355439   \n",
       "3     446835    1001952    1714267   \n",
       "4     606158     936012     947718   \n",
       "\n",
       "                                           image_url  \\\n",
       "0  https://images.gr-assets.com/books/1447303603m...   \n",
       "1  https://images.gr-assets.com/books/1474154022m...   \n",
       "2  https://images.gr-assets.com/books/1361039443m...   \n",
       "3  https://images.gr-assets.com/books/1361975680m...   \n",
       "4  https://images.gr-assets.com/books/1490528560m...   \n",
       "\n",
       "                                     small_image_url  \n",
       "0  https://images.gr-assets.com/books/1447303603s...  \n",
       "1  https://images.gr-assets.com/books/1474154022s...  \n",
       "2  https://images.gr-assets.com/books/1361039443s...  \n",
       "3  https://images.gr-assets.com/books/1361975680s...  \n",
       "4  https://images.gr-assets.com/books/1490528560s...  \n",
       "\n",
       "[5 rows x 23 columns]"
      ]
     },
     "execution_count": 4,
     "metadata": {},
     "output_type": "execute_result"
    }
   ],
   "source": [
    "book_df.head()"
   ]
  },
  {
   "cell_type": "code",
   "execution_count": 5,
   "id": "a2fa0077-04f2-4138-a26d-6e625cf09d61",
   "metadata": {
    "tags": []
   },
   "outputs": [
    {
     "name": "stdout",
     "output_type": "stream",
     "text": [
      "Book Data Frame has 10000 rows and 23 columns\n"
     ]
    }
   ],
   "source": [
    "#check size\n",
    "b_rown, b_coln = book_df.shape\n",
    "print(f'Book Data Frame has {b_rown} rows and {b_coln} columns')"
   ]
  },
  {
   "cell_type": "code",
   "execution_count": 6,
   "id": "b3da2bbb-65e8-4aa3-ada9-dc51f8874a1a",
   "metadata": {
    "tags": []
   },
   "outputs": [
    {
     "name": "stdout",
     "output_type": "stream",
     "text": [
      "<class 'pandas.core.frame.DataFrame'>\n",
      "RangeIndex: 10000 entries, 0 to 9999\n",
      "Data columns (total 23 columns):\n",
      " #   Column                     Non-Null Count  Dtype  \n",
      "---  ------                     --------------  -----  \n",
      " 0   book_id                    10000 non-null  int64  \n",
      " 1   goodreads_book_id          10000 non-null  int64  \n",
      " 2   best_book_id               10000 non-null  int64  \n",
      " 3   work_id                    10000 non-null  int64  \n",
      " 4   books_count                10000 non-null  int64  \n",
      " 5   isbn                       9300 non-null   object \n",
      " 6   isbn13                     9415 non-null   float64\n",
      " 7   authors                    10000 non-null  object \n",
      " 8   original_publication_year  9979 non-null   float64\n",
      " 9   original_title             9415 non-null   object \n",
      " 10  title                      10000 non-null  object \n",
      " 11  language_code              8916 non-null   object \n",
      " 12  average_rating             10000 non-null  float64\n",
      " 13  ratings_count              10000 non-null  int64  \n",
      " 14  work_ratings_count         10000 non-null  int64  \n",
      " 15  work_text_reviews_count    10000 non-null  int64  \n",
      " 16  ratings_1                  10000 non-null  int64  \n",
      " 17  ratings_2                  10000 non-null  int64  \n",
      " 18  ratings_3                  10000 non-null  int64  \n",
      " 19  ratings_4                  10000 non-null  int64  \n",
      " 20  ratings_5                  10000 non-null  int64  \n",
      " 21  image_url                  10000 non-null  object \n",
      " 22  small_image_url            10000 non-null  object \n",
      "dtypes: float64(3), int64(13), object(7)\n",
      "memory usage: 1.8+ MB\n"
     ]
    }
   ],
   "source": [
    "# Check column name and dat type\n",
    "book_df.info()"
   ]
  },
  {
   "cell_type": "code",
   "execution_count": 7,
   "id": "2e4b088d-327e-4085-acb0-dd1ba28c06f1",
   "metadata": {
    "tags": []
   },
   "outputs": [
    {
     "data": {
      "text/plain": [
       "book_id                       0.00\n",
       "goodreads_book_id             0.00\n",
       "best_book_id                  0.00\n",
       "work_id                       0.00\n",
       "books_count                   0.00\n",
       "isbn                          7.00\n",
       "isbn13                        5.85\n",
       "authors                       0.00\n",
       "original_publication_year     0.21\n",
       "original_title                5.85\n",
       "title                         0.00\n",
       "language_code                10.84\n",
       "average_rating                0.00\n",
       "ratings_count                 0.00\n",
       "work_ratings_count            0.00\n",
       "work_text_reviews_count       0.00\n",
       "ratings_1                     0.00\n",
       "ratings_2                     0.00\n",
       "ratings_3                     0.00\n",
       "ratings_4                     0.00\n",
       "ratings_5                     0.00\n",
       "image_url                     0.00\n",
       "small_image_url               0.00\n",
       "dtype: float64"
      ]
     },
     "execution_count": 7,
     "metadata": {},
     "output_type": "execute_result"
    }
   ],
   "source": [
    "# check the percent of missing values in each column\n",
    "book_df.isna().sum()/b_rown *100"
   ]
  },
  {
   "cell_type": "markdown",
   "id": "7426d20f-3218-4086-ae40-dfd5901edb4e",
   "metadata": {},
   "source": [
    "We can observe that several columns contain missing values, with `original_title` missing approximately 5% of the data. However, it's worth noting that we already have another column, `title`, which provides the same information. As a result, it's logical to drop the `original_title` column to streamline our dataset.\n",
    "\n",
    "Furthermore, we identify a few additional columns that contain links to images of the books. Given that these image links may not be directly relevant to our primary goal we can safely drop these columns as well."
   ]
  },
  {
   "cell_type": "code",
   "execution_count": 8,
   "id": "c4f4d070-36f0-4a82-a732-04879f3cc7a8",
   "metadata": {
    "tags": []
   },
   "outputs": [
    {
     "data": {
      "text/html": [
       "<div>\n",
       "<style scoped>\n",
       "    .dataframe tbody tr th:only-of-type {\n",
       "        vertical-align: middle;\n",
       "    }\n",
       "\n",
       "    .dataframe tbody tr th {\n",
       "        vertical-align: top;\n",
       "    }\n",
       "\n",
       "    .dataframe thead th {\n",
       "        text-align: right;\n",
       "    }\n",
       "</style>\n",
       "<table border=\"1\" class=\"dataframe\">\n",
       "  <thead>\n",
       "    <tr style=\"text-align: right;\">\n",
       "      <th></th>\n",
       "      <th>book_id</th>\n",
       "      <th>goodreads_book_id</th>\n",
       "      <th>best_book_id</th>\n",
       "      <th>work_id</th>\n",
       "      <th>books_count</th>\n",
       "      <th>isbn</th>\n",
       "      <th>isbn13</th>\n",
       "      <th>authors</th>\n",
       "      <th>original_publication_year</th>\n",
       "      <th>title</th>\n",
       "      <th>language_code</th>\n",
       "      <th>average_rating</th>\n",
       "      <th>ratings_count</th>\n",
       "      <th>work_ratings_count</th>\n",
       "      <th>work_text_reviews_count</th>\n",
       "      <th>ratings_1</th>\n",
       "      <th>ratings_2</th>\n",
       "      <th>ratings_3</th>\n",
       "      <th>ratings_4</th>\n",
       "      <th>ratings_5</th>\n",
       "    </tr>\n",
       "  </thead>\n",
       "  <tbody>\n",
       "    <tr>\n",
       "      <th>0</th>\n",
       "      <td>1</td>\n",
       "      <td>2767052</td>\n",
       "      <td>2767052</td>\n",
       "      <td>2792775</td>\n",
       "      <td>272</td>\n",
       "      <td>439023483</td>\n",
       "      <td>9.780439e+12</td>\n",
       "      <td>Suzanne Collins</td>\n",
       "      <td>2008.0</td>\n",
       "      <td>The Hunger Games (The Hunger Games, #1)</td>\n",
       "      <td>eng</td>\n",
       "      <td>4.34</td>\n",
       "      <td>4780653</td>\n",
       "      <td>4942365</td>\n",
       "      <td>155254</td>\n",
       "      <td>66715</td>\n",
       "      <td>127936</td>\n",
       "      <td>560092</td>\n",
       "      <td>1481305</td>\n",
       "      <td>2706317</td>\n",
       "    </tr>\n",
       "    <tr>\n",
       "      <th>1</th>\n",
       "      <td>2</td>\n",
       "      <td>3</td>\n",
       "      <td>3</td>\n",
       "      <td>4640799</td>\n",
       "      <td>491</td>\n",
       "      <td>439554934</td>\n",
       "      <td>9.780440e+12</td>\n",
       "      <td>J.K. Rowling, Mary GrandPré</td>\n",
       "      <td>1997.0</td>\n",
       "      <td>Harry Potter and the Sorcerer's Stone (Harry P...</td>\n",
       "      <td>eng</td>\n",
       "      <td>4.44</td>\n",
       "      <td>4602479</td>\n",
       "      <td>4800065</td>\n",
       "      <td>75867</td>\n",
       "      <td>75504</td>\n",
       "      <td>101676</td>\n",
       "      <td>455024</td>\n",
       "      <td>1156318</td>\n",
       "      <td>3011543</td>\n",
       "    </tr>\n",
       "    <tr>\n",
       "      <th>2</th>\n",
       "      <td>3</td>\n",
       "      <td>41865</td>\n",
       "      <td>41865</td>\n",
       "      <td>3212258</td>\n",
       "      <td>226</td>\n",
       "      <td>316015849</td>\n",
       "      <td>9.780316e+12</td>\n",
       "      <td>Stephenie Meyer</td>\n",
       "      <td>2005.0</td>\n",
       "      <td>Twilight (Twilight, #1)</td>\n",
       "      <td>en-US</td>\n",
       "      <td>3.57</td>\n",
       "      <td>3866839</td>\n",
       "      <td>3916824</td>\n",
       "      <td>95009</td>\n",
       "      <td>456191</td>\n",
       "      <td>436802</td>\n",
       "      <td>793319</td>\n",
       "      <td>875073</td>\n",
       "      <td>1355439</td>\n",
       "    </tr>\n",
       "    <tr>\n",
       "      <th>3</th>\n",
       "      <td>4</td>\n",
       "      <td>2657</td>\n",
       "      <td>2657</td>\n",
       "      <td>3275794</td>\n",
       "      <td>487</td>\n",
       "      <td>61120081</td>\n",
       "      <td>9.780061e+12</td>\n",
       "      <td>Harper Lee</td>\n",
       "      <td>1960.0</td>\n",
       "      <td>To Kill a Mockingbird</td>\n",
       "      <td>eng</td>\n",
       "      <td>4.25</td>\n",
       "      <td>3198671</td>\n",
       "      <td>3340896</td>\n",
       "      <td>72586</td>\n",
       "      <td>60427</td>\n",
       "      <td>117415</td>\n",
       "      <td>446835</td>\n",
       "      <td>1001952</td>\n",
       "      <td>1714267</td>\n",
       "    </tr>\n",
       "    <tr>\n",
       "      <th>4</th>\n",
       "      <td>5</td>\n",
       "      <td>4671</td>\n",
       "      <td>4671</td>\n",
       "      <td>245494</td>\n",
       "      <td>1356</td>\n",
       "      <td>743273567</td>\n",
       "      <td>9.780743e+12</td>\n",
       "      <td>F. Scott Fitzgerald</td>\n",
       "      <td>1925.0</td>\n",
       "      <td>The Great Gatsby</td>\n",
       "      <td>eng</td>\n",
       "      <td>3.89</td>\n",
       "      <td>2683664</td>\n",
       "      <td>2773745</td>\n",
       "      <td>51992</td>\n",
       "      <td>86236</td>\n",
       "      <td>197621</td>\n",
       "      <td>606158</td>\n",
       "      <td>936012</td>\n",
       "      <td>947718</td>\n",
       "    </tr>\n",
       "  </tbody>\n",
       "</table>\n",
       "</div>"
      ],
      "text/plain": [
       "   book_id  goodreads_book_id  best_book_id  work_id  books_count       isbn  \\\n",
       "0        1            2767052       2767052  2792775          272  439023483   \n",
       "1        2                  3             3  4640799          491  439554934   \n",
       "2        3              41865         41865  3212258          226  316015849   \n",
       "3        4               2657          2657  3275794          487   61120081   \n",
       "4        5               4671          4671   245494         1356  743273567   \n",
       "\n",
       "         isbn13                      authors  original_publication_year  \\\n",
       "0  9.780439e+12              Suzanne Collins                     2008.0   \n",
       "1  9.780440e+12  J.K. Rowling, Mary GrandPré                     1997.0   \n",
       "2  9.780316e+12              Stephenie Meyer                     2005.0   \n",
       "3  9.780061e+12                   Harper Lee                     1960.0   \n",
       "4  9.780743e+12          F. Scott Fitzgerald                     1925.0   \n",
       "\n",
       "                                               title language_code  \\\n",
       "0            The Hunger Games (The Hunger Games, #1)           eng   \n",
       "1  Harry Potter and the Sorcerer's Stone (Harry P...           eng   \n",
       "2                            Twilight (Twilight, #1)         en-US   \n",
       "3                              To Kill a Mockingbird           eng   \n",
       "4                                   The Great Gatsby           eng   \n",
       "\n",
       "   average_rating  ratings_count  work_ratings_count  work_text_reviews_count  \\\n",
       "0            4.34        4780653             4942365                   155254   \n",
       "1            4.44        4602479             4800065                    75867   \n",
       "2            3.57        3866839             3916824                    95009   \n",
       "3            4.25        3198671             3340896                    72586   \n",
       "4            3.89        2683664             2773745                    51992   \n",
       "\n",
       "   ratings_1  ratings_2  ratings_3  ratings_4  ratings_5  \n",
       "0      66715     127936     560092    1481305    2706317  \n",
       "1      75504     101676     455024    1156318    3011543  \n",
       "2     456191     436802     793319     875073    1355439  \n",
       "3      60427     117415     446835    1001952    1714267  \n",
       "4      86236     197621     606158     936012     947718  "
      ]
     },
     "execution_count": 8,
     "metadata": {},
     "output_type": "execute_result"
    }
   ],
   "source": [
    "# drop column with redudna t information\n",
    "book_df.drop(columns=['original_title','image_url','small_image_url'],inplace = True)\n",
    "book_df.head()"
   ]
  },
  {
   "cell_type": "markdown",
   "id": "fc01fde3-2025-44d9-9af0-d0571ba27914",
   "metadata": {},
   "source": [
    "Our next column with missing values is `language_code`, where just over 10% of its values are missing. I was able to find an online source that provides a complete dataset for this specific column. With this additional data source in hand, I can confidently fill in the missing values within the `language_code` column."
   ]
  },
  {
   "cell_type": "code",
   "execution_count": 9,
   "id": "22d9783c-e89f-4600-ad4a-231338cf592d",
   "metadata": {
    "tags": []
   },
   "outputs": [
    {
     "name": "stdout",
     "output_type": "stream",
     "text": [
      "<class 'pandas.core.frame.DataFrame'>\n",
      "Int64Index: 10000 entries, 0 to 9999\n",
      "Data columns (total 20 columns):\n",
      " #   Column                     Non-Null Count  Dtype  \n",
      "---  ------                     --------------  -----  \n",
      " 0   book_id                    10000 non-null  int64  \n",
      " 1   goodreads_book_id          10000 non-null  int64  \n",
      " 2   best_book_id               10000 non-null  int64  \n",
      " 3   work_id                    10000 non-null  int64  \n",
      " 4   books_count                10000 non-null  int64  \n",
      " 5   isbn                       9300 non-null   object \n",
      " 6   isbn13                     9415 non-null   float64\n",
      " 7   authors                    10000 non-null  object \n",
      " 8   original_publication_year  9979 non-null   float64\n",
      " 9   title                      10000 non-null  object \n",
      " 10  average_rating             10000 non-null  float64\n",
      " 11  ratings_count              10000 non-null  int64  \n",
      " 12  work_ratings_count         10000 non-null  int64  \n",
      " 13  work_text_reviews_count    10000 non-null  int64  \n",
      " 14  ratings_1                  10000 non-null  int64  \n",
      " 15  ratings_2                  10000 non-null  int64  \n",
      " 16  ratings_3                  10000 non-null  int64  \n",
      " 17  ratings_4                  10000 non-null  int64  \n",
      " 18  ratings_5                  10000 non-null  int64  \n",
      " 19  language_code              10000 non-null  object \n",
      "dtypes: float64(3), int64(13), object(4)\n",
      "memory usage: 1.6+ MB\n"
     ]
    }
   ],
   "source": [
    "# replaces language column with a copy with the filled data\n",
    "booke_df = pd.read_csv('data/books_enriched.csv', index_col=[0])\n",
    "book_df.drop(columns=['language_code'],inplace = True)\n",
    "book_df = pd.merge(book_df, booke_df[['book_id','language_code']] ,on ='book_id',how = 'left')\n",
    "book_df.info()"
   ]
  },
  {
   "cell_type": "markdown",
   "id": "a48d6598-e3b8-44a9-ae8e-fa4ed7b9a5f7",
   "metadata": {},
   "source": [
    "Our next column with missing values is `original_publication_year` which has just 21 missing values. Given this relatively small number of missing entries. By using the `goodreads_book_id`, I can access the Goodreads website to retrieve the publication year for each of these missing entries."
   ]
  },
  {
   "cell_type": "code",
   "execution_count": 10,
   "id": "87085e00-f0be-4c8c-8838-93123522d2df",
   "metadata": {
    "tags": []
   },
   "outputs": [
    {
     "data": {
      "text/html": [
       "<div>\n",
       "<style scoped>\n",
       "    .dataframe tbody tr th:only-of-type {\n",
       "        vertical-align: middle;\n",
       "    }\n",
       "\n",
       "    .dataframe tbody tr th {\n",
       "        vertical-align: top;\n",
       "    }\n",
       "\n",
       "    .dataframe thead th {\n",
       "        text-align: right;\n",
       "    }\n",
       "</style>\n",
       "<table border=\"1\" class=\"dataframe\">\n",
       "  <thead>\n",
       "    <tr style=\"text-align: right;\">\n",
       "      <th></th>\n",
       "      <th>book_id</th>\n",
       "      <th>goodreads_book_id</th>\n",
       "      <th>authors</th>\n",
       "      <th>title</th>\n",
       "    </tr>\n",
       "  </thead>\n",
       "  <tbody>\n",
       "    <tr>\n",
       "      <th>219</th>\n",
       "      <td>220</td>\n",
       "      <td>3609760</td>\n",
       "      <td>Mark Cotta Vaz</td>\n",
       "      <td>Twilight: The Complete Illustrated Movie Compa...</td>\n",
       "    </tr>\n",
       "    <tr>\n",
       "      <th>975</th>\n",
       "      <td>976</td>\n",
       "      <td>90072</td>\n",
       "      <td>Robert Kapilow, Dr. Seuss</td>\n",
       "      <td>Dr. Seuss's Green Eggs and Ham: For Soprano, B...</td>\n",
       "    </tr>\n",
       "    <tr>\n",
       "      <th>3505</th>\n",
       "      <td>3506</td>\n",
       "      <td>856917</td>\n",
       "      <td>Yuu Watase</td>\n",
       "      <td>Absolute Boyfriend, Vol. 1</td>\n",
       "    </tr>\n",
       "    <tr>\n",
       "      <th>4228</th>\n",
       "      <td>4229</td>\n",
       "      <td>36</td>\n",
       "      <td>Chris   Smith, Christopher Lee, Richard Taylor</td>\n",
       "      <td>The Lord of the Rings: Weapons and Warfare</td>\n",
       "    </tr>\n",
       "    <tr>\n",
       "      <th>4247</th>\n",
       "      <td>4248</td>\n",
       "      <td>8724779</td>\n",
       "      <td>P.C. Cast, Kristin Cast</td>\n",
       "      <td>Marked / Betrayed / Chosen / Untamed / Hunted ...</td>\n",
       "    </tr>\n",
       "    <tr>\n",
       "      <th>4409</th>\n",
       "      <td>4410</td>\n",
       "      <td>349254</td>\n",
       "      <td>Jude Fisher</td>\n",
       "      <td>The Lord of the Rings: The Return of the King:...</td>\n",
       "    </tr>\n",
       "    <tr>\n",
       "      <th>4707</th>\n",
       "      <td>4708</td>\n",
       "      <td>9832370</td>\n",
       "      <td>BookRags</td>\n",
       "      <td>BookRags Summary:  A Storm of Swords</td>\n",
       "    </tr>\n",
       "    <tr>\n",
       "      <th>4770</th>\n",
       "      <td>4771</td>\n",
       "      <td>5171894</td>\n",
       "      <td>James Rollins</td>\n",
       "      <td>The Doomsday Key (Sigma Force, #6)</td>\n",
       "    </tr>\n",
       "    <tr>\n",
       "      <th>4877</th>\n",
       "      <td>4878</td>\n",
       "      <td>17733861</td>\n",
       "      <td>Bella Forrest</td>\n",
       "      <td>A Shade of Blood (A Shade of Vampire, #2)</td>\n",
       "    </tr>\n",
       "    <tr>\n",
       "      <th>5609</th>\n",
       "      <td>5610</td>\n",
       "      <td>1044141</td>\n",
       "      <td>Stephen R. Covey</td>\n",
       "      <td>The 8th Habit: From Effectiveness to Greatness</td>\n",
       "    </tr>\n",
       "    <tr>\n",
       "      <th>5871</th>\n",
       "      <td>5872</td>\n",
       "      <td>9748274</td>\n",
       "      <td>Charles Dickens</td>\n",
       "      <td>A Tale of Two Cities / Great Expectations</td>\n",
       "    </tr>\n",
       "    <tr>\n",
       "      <th>6428</th>\n",
       "      <td>6429</td>\n",
       "      <td>48811</td>\n",
       "      <td>Carolyn Keene</td>\n",
       "      <td>Nancy Drew: #1-64</td>\n",
       "    </tr>\n",
       "    <tr>\n",
       "      <th>7190</th>\n",
       "      <td>7191</td>\n",
       "      <td>9528186</td>\n",
       "      <td>Lambert M. Surhone</td>\n",
       "      <td>Pretty Little Liars (TV Series)</td>\n",
       "    </tr>\n",
       "    <tr>\n",
       "      <th>7215</th>\n",
       "      <td>7216</td>\n",
       "      <td>809849</td>\n",
       "      <td>Rod Campbell</td>\n",
       "      <td>Dear Zoo: A Lift-the-Flap Book</td>\n",
       "    </tr>\n",
       "    <tr>\n",
       "      <th>7416</th>\n",
       "      <td>7417</td>\n",
       "      <td>765148</td>\n",
       "      <td>Giles Andreae, Guy Parker-Rees</td>\n",
       "      <td>Giraffes Can't Dance</td>\n",
       "    </tr>\n",
       "    <tr>\n",
       "      <th>7645</th>\n",
       "      <td>7646</td>\n",
       "      <td>197436</td>\n",
       "      <td>Gloria Levine</td>\n",
       "      <td>Ralph S. Mouse by Beverly Cleary: Teacher Guid...</td>\n",
       "    </tr>\n",
       "    <tr>\n",
       "      <th>8476</th>\n",
       "      <td>8477</td>\n",
       "      <td>351023</td>\n",
       "      <td>Jill Murphy</td>\n",
       "      <td>The Worst Witch (Worst Witch, #1)</td>\n",
       "    </tr>\n",
       "    <tr>\n",
       "      <th>9196</th>\n",
       "      <td>9197</td>\n",
       "      <td>11318</td>\n",
       "      <td>Raymond Chandler</td>\n",
       "      <td>Trouble Is My Business</td>\n",
       "    </tr>\n",
       "    <tr>\n",
       "      <th>9510</th>\n",
       "      <td>9511</td>\n",
       "      <td>6054190</td>\n",
       "      <td>Jane Green</td>\n",
       "      <td>Dune Road</td>\n",
       "    </tr>\n",
       "    <tr>\n",
       "      <th>9533</th>\n",
       "      <td>9534</td>\n",
       "      <td>1056627</td>\n",
       "      <td>Joel Osteen</td>\n",
       "      <td>Become a Better You: 7 Keys to Improving Your ...</td>\n",
       "    </tr>\n",
       "    <tr>\n",
       "      <th>9928</th>\n",
       "      <td>9929</td>\n",
       "      <td>6614886</td>\n",
       "      <td>أحمد خالد توفيق</td>\n",
       "      <td>زغازيغ</td>\n",
       "    </tr>\n",
       "  </tbody>\n",
       "</table>\n",
       "</div>"
      ],
      "text/plain": [
       "      book_id  goodreads_book_id  \\\n",
       "219       220            3609760   \n",
       "975       976              90072   \n",
       "3505     3506             856917   \n",
       "4228     4229                 36   \n",
       "4247     4248            8724779   \n",
       "4409     4410             349254   \n",
       "4707     4708            9832370   \n",
       "4770     4771            5171894   \n",
       "4877     4878           17733861   \n",
       "5609     5610            1044141   \n",
       "5871     5872            9748274   \n",
       "6428     6429              48811   \n",
       "7190     7191            9528186   \n",
       "7215     7216             809849   \n",
       "7416     7417             765148   \n",
       "7645     7646             197436   \n",
       "8476     8477             351023   \n",
       "9196     9197              11318   \n",
       "9510     9511            6054190   \n",
       "9533     9534            1056627   \n",
       "9928     9929            6614886   \n",
       "\n",
       "                                             authors  \\\n",
       "219                                   Mark Cotta Vaz   \n",
       "975                        Robert Kapilow, Dr. Seuss   \n",
       "3505                                      Yuu Watase   \n",
       "4228  Chris   Smith, Christopher Lee, Richard Taylor   \n",
       "4247                         P.C. Cast, Kristin Cast   \n",
       "4409                                     Jude Fisher   \n",
       "4707                                        BookRags   \n",
       "4770                                   James Rollins   \n",
       "4877                                   Bella Forrest   \n",
       "5609                                Stephen R. Covey   \n",
       "5871                                 Charles Dickens   \n",
       "6428                                   Carolyn Keene   \n",
       "7190                              Lambert M. Surhone   \n",
       "7215                                    Rod Campbell   \n",
       "7416                  Giles Andreae, Guy Parker-Rees   \n",
       "7645                                   Gloria Levine   \n",
       "8476                                     Jill Murphy   \n",
       "9196                                Raymond Chandler   \n",
       "9510                                      Jane Green   \n",
       "9533                                     Joel Osteen   \n",
       "9928                                 أحمد خالد توفيق   \n",
       "\n",
       "                                                  title  \n",
       "219   Twilight: The Complete Illustrated Movie Compa...  \n",
       "975   Dr. Seuss's Green Eggs and Ham: For Soprano, B...  \n",
       "3505                         Absolute Boyfriend, Vol. 1  \n",
       "4228         The Lord of the Rings: Weapons and Warfare  \n",
       "4247  Marked / Betrayed / Chosen / Untamed / Hunted ...  \n",
       "4409  The Lord of the Rings: The Return of the King:...  \n",
       "4707               BookRags Summary:  A Storm of Swords  \n",
       "4770                 The Doomsday Key (Sigma Force, #6)  \n",
       "4877          A Shade of Blood (A Shade of Vampire, #2)  \n",
       "5609     The 8th Habit: From Effectiveness to Greatness  \n",
       "5871          A Tale of Two Cities / Great Expectations  \n",
       "6428                                  Nancy Drew: #1-64  \n",
       "7190                    Pretty Little Liars (TV Series)  \n",
       "7215                     Dear Zoo: A Lift-the-Flap Book  \n",
       "7416                               Giraffes Can't Dance  \n",
       "7645  Ralph S. Mouse by Beverly Cleary: Teacher Guid...  \n",
       "8476                  The Worst Witch (Worst Witch, #1)  \n",
       "9196                             Trouble Is My Business  \n",
       "9510                                          Dune Road  \n",
       "9533  Become a Better You: 7 Keys to Improving Your ...  \n",
       "9928                                             زغازيغ  "
      ]
     },
     "execution_count": 10,
     "metadata": {},
     "output_type": "execute_result"
    }
   ],
   "source": [
    "# check the info of the book with missing year\n",
    "book_df[book_df['original_publication_year'].isna()][['book_id','goodreads_book_id','authors','title']]"
   ]
  },
  {
   "cell_type": "code",
   "execution_count": 11,
   "id": "9bbc4a98-77de-4287-8828-e81c4e90098a",
   "metadata": {
    "tags": []
   },
   "outputs": [
    {
     "data": {
      "text/plain": [
       "0"
      ]
     },
     "execution_count": 11,
     "metadata": {},
     "output_type": "execute_result"
    }
   ],
   "source": [
    "# manually adding the missing year\n",
    "book_df.loc[219,'original_publication_year'] = 2008\n",
    "book_df.loc[975,'original_publication_year'] = 1996\n",
    "book_df.loc[3505,'original_publication_year'] = 2003\n",
    "book_df.loc[4228,'original_publication_year'] = 2003\n",
    "book_df.loc[4247,'original_publication_year'] = 2009\n",
    "book_df.loc[4409,'original_publication_year'] = 2003\n",
    "book_df.loc[4707,'original_publication_year'] = 2010\n",
    "book_df.loc[4770,'original_publication_year'] = 2009\n",
    "book_df.loc[4877,'original_publication_year'] = 2013\n",
    "book_df.loc[5609,'original_publication_year'] = 2004\n",
    "book_df.loc[5871,'original_publication_year'] = 1858\n",
    "book_df.loc[6428,'original_publication_year'] = 2006\n",
    "book_df.loc[7190,'original_publication_year'] = 2010\n",
    "book_df.loc[7215,'original_publication_year'] = 1982\n",
    "book_df.loc[7416,'original_publication_year'] = 2012\n",
    "book_df.loc[7645,'original_publication_year'] = 2000\n",
    "book_df.loc[8476,'original_publication_year'] = 1974\n",
    "book_df.loc[9196,'original_publication_year'] = 1939\n",
    "book_df.loc[9510,'original_publication_year'] = 2009\n",
    "book_df.loc[9533,'original_publication_year'] = 2007\n",
    "book_df.loc[9928,'original_publication_year'] = 2009\n",
    "\n",
    "# checking for no missing values\n",
    "book_df['original_publication_year'].isna().sum()"
   ]
  },
  {
   "cell_type": "markdown",
   "id": "eeb71ec1-98b2-4d16-af6c-898a73a58274",
   "metadata": {},
   "source": [
    "Our last two columns with missing values are `isbn` and `isbn13`, with approximately 7% and 5% of their values missing, respectively. These columns provide unique codes assigned to each book, with 'isbn13' essentially incorporating an additional three digits at the beginning of the old 'isbn' code. The substantial amount of missing values in both columns makes manual filling impractical. Fortunately, we already possess other identifiers that we can utilize to identify the books via the Goodreads website. As such, we can drop both of these columns."
   ]
  },
  {
   "cell_type": "code",
   "execution_count": 12,
   "id": "dc1220f3-4046-496b-9e8b-f2225ba7dfd9",
   "metadata": {
    "tags": []
   },
   "outputs": [
    {
     "name": "stdout",
     "output_type": "stream",
     "text": [
      "<class 'pandas.core.frame.DataFrame'>\n",
      "Int64Index: 10000 entries, 0 to 9999\n",
      "Data columns (total 18 columns):\n",
      " #   Column                     Non-Null Count  Dtype  \n",
      "---  ------                     --------------  -----  \n",
      " 0   book_id                    10000 non-null  int64  \n",
      " 1   goodreads_book_id          10000 non-null  int64  \n",
      " 2   best_book_id               10000 non-null  int64  \n",
      " 3   work_id                    10000 non-null  int64  \n",
      " 4   books_count                10000 non-null  int64  \n",
      " 5   authors                    10000 non-null  object \n",
      " 6   original_publication_year  10000 non-null  float64\n",
      " 7   title                      10000 non-null  object \n",
      " 8   average_rating             10000 non-null  float64\n",
      " 9   ratings_count              10000 non-null  int64  \n",
      " 10  work_ratings_count         10000 non-null  int64  \n",
      " 11  work_text_reviews_count    10000 non-null  int64  \n",
      " 12  ratings_1                  10000 non-null  int64  \n",
      " 13  ratings_2                  10000 non-null  int64  \n",
      " 14  ratings_3                  10000 non-null  int64  \n",
      " 15  ratings_4                  10000 non-null  int64  \n",
      " 16  ratings_5                  10000 non-null  int64  \n",
      " 17  language_code              10000 non-null  object \n",
      "dtypes: float64(2), int64(13), object(3)\n",
      "memory usage: 1.7+ MB\n"
     ]
    }
   ],
   "source": [
    "#drop missing columns\n",
    "book_df.drop(columns=['isbn13','isbn'],inplace = True)\n",
    "book_df.info()"
   ]
  },
  {
   "cell_type": "markdown",
   "id": "ac963de9-ce4b-4b93-8f64-269d68473d60",
   "metadata": {},
   "source": [
    "With all null values addressed, we can now proceed to the final step, which involves checking for duplicates before transitioning to the exploratory phase."
   ]
  },
  {
   "cell_type": "code",
   "execution_count": 92,
   "id": "fca3fdde-5e8e-486b-aa0b-f355b4b84b21",
   "metadata": {
    "tags": []
   },
   "outputs": [
    {
     "data": {
      "text/plain": [
       "0"
      ]
     },
     "execution_count": 92,
     "metadata": {},
     "output_type": "execute_result"
    }
   ],
   "source": [
    "book_df.duplicated().sum()"
   ]
  },
  {
   "cell_type": "code",
   "execution_count": 13,
   "id": "31654d40-4c91-4e30-b776-abfe1095908b",
   "metadata": {
    "tags": []
   },
   "outputs": [
    {
     "data": {
      "text/html": [
       "<div>\n",
       "<style scoped>\n",
       "    .dataframe tbody tr th:only-of-type {\n",
       "        vertical-align: middle;\n",
       "    }\n",
       "\n",
       "    .dataframe tbody tr th {\n",
       "        vertical-align: top;\n",
       "    }\n",
       "\n",
       "    .dataframe thead th {\n",
       "        text-align: right;\n",
       "    }\n",
       "</style>\n",
       "<table border=\"1\" class=\"dataframe\">\n",
       "  <thead>\n",
       "    <tr style=\"text-align: right;\">\n",
       "      <th></th>\n",
       "      <th>book_id</th>\n",
       "      <th>goodreads_book_id</th>\n",
       "      <th>best_book_id</th>\n",
       "      <th>work_id</th>\n",
       "      <th>books_count</th>\n",
       "      <th>authors</th>\n",
       "      <th>original_publication_year</th>\n",
       "      <th>title</th>\n",
       "      <th>average_rating</th>\n",
       "      <th>ratings_count</th>\n",
       "      <th>work_ratings_count</th>\n",
       "      <th>work_text_reviews_count</th>\n",
       "      <th>ratings_1</th>\n",
       "      <th>ratings_2</th>\n",
       "      <th>ratings_3</th>\n",
       "      <th>ratings_4</th>\n",
       "      <th>ratings_5</th>\n",
       "      <th>language_code</th>\n",
       "    </tr>\n",
       "  </thead>\n",
       "  <tbody>\n",
       "    <tr>\n",
       "      <th>0</th>\n",
       "      <td>1</td>\n",
       "      <td>2767052</td>\n",
       "      <td>2767052</td>\n",
       "      <td>2792775</td>\n",
       "      <td>272</td>\n",
       "      <td>Suzanne Collins</td>\n",
       "      <td>2008.0</td>\n",
       "      <td>The Hunger Games (The Hunger Games, #1)</td>\n",
       "      <td>4.34</td>\n",
       "      <td>4780653</td>\n",
       "      <td>4942365</td>\n",
       "      <td>155254</td>\n",
       "      <td>66715</td>\n",
       "      <td>127936</td>\n",
       "      <td>560092</td>\n",
       "      <td>1481305</td>\n",
       "      <td>2706317</td>\n",
       "      <td>eng</td>\n",
       "    </tr>\n",
       "    <tr>\n",
       "      <th>1</th>\n",
       "      <td>2</td>\n",
       "      <td>3</td>\n",
       "      <td>3</td>\n",
       "      <td>4640799</td>\n",
       "      <td>491</td>\n",
       "      <td>J.K. Rowling, Mary GrandPré</td>\n",
       "      <td>1997.0</td>\n",
       "      <td>Harry Potter and the Sorcerer's Stone (Harry P...</td>\n",
       "      <td>4.44</td>\n",
       "      <td>4602479</td>\n",
       "      <td>4800065</td>\n",
       "      <td>75867</td>\n",
       "      <td>75504</td>\n",
       "      <td>101676</td>\n",
       "      <td>455024</td>\n",
       "      <td>1156318</td>\n",
       "      <td>3011543</td>\n",
       "      <td>eng</td>\n",
       "    </tr>\n",
       "    <tr>\n",
       "      <th>2</th>\n",
       "      <td>3</td>\n",
       "      <td>41865</td>\n",
       "      <td>41865</td>\n",
       "      <td>3212258</td>\n",
       "      <td>226</td>\n",
       "      <td>Stephenie Meyer</td>\n",
       "      <td>2005.0</td>\n",
       "      <td>Twilight (Twilight, #1)</td>\n",
       "      <td>3.57</td>\n",
       "      <td>3866839</td>\n",
       "      <td>3916824</td>\n",
       "      <td>95009</td>\n",
       "      <td>456191</td>\n",
       "      <td>436802</td>\n",
       "      <td>793319</td>\n",
       "      <td>875073</td>\n",
       "      <td>1355439</td>\n",
       "      <td>eng</td>\n",
       "    </tr>\n",
       "    <tr>\n",
       "      <th>3</th>\n",
       "      <td>4</td>\n",
       "      <td>2657</td>\n",
       "      <td>2657</td>\n",
       "      <td>3275794</td>\n",
       "      <td>487</td>\n",
       "      <td>Harper Lee</td>\n",
       "      <td>1960.0</td>\n",
       "      <td>To Kill a Mockingbird</td>\n",
       "      <td>4.25</td>\n",
       "      <td>3198671</td>\n",
       "      <td>3340896</td>\n",
       "      <td>72586</td>\n",
       "      <td>60427</td>\n",
       "      <td>117415</td>\n",
       "      <td>446835</td>\n",
       "      <td>1001952</td>\n",
       "      <td>1714267</td>\n",
       "      <td>eng</td>\n",
       "    </tr>\n",
       "    <tr>\n",
       "      <th>4</th>\n",
       "      <td>5</td>\n",
       "      <td>4671</td>\n",
       "      <td>4671</td>\n",
       "      <td>245494</td>\n",
       "      <td>1356</td>\n",
       "      <td>F. Scott Fitzgerald</td>\n",
       "      <td>1925.0</td>\n",
       "      <td>The Great Gatsby</td>\n",
       "      <td>3.89</td>\n",
       "      <td>2683664</td>\n",
       "      <td>2773745</td>\n",
       "      <td>51992</td>\n",
       "      <td>86236</td>\n",
       "      <td>197621</td>\n",
       "      <td>606158</td>\n",
       "      <td>936012</td>\n",
       "      <td>947718</td>\n",
       "      <td>eng</td>\n",
       "    </tr>\n",
       "  </tbody>\n",
       "</table>\n",
       "</div>"
      ],
      "text/plain": [
       "   book_id  goodreads_book_id  best_book_id  work_id  books_count  \\\n",
       "0        1            2767052       2767052  2792775          272   \n",
       "1        2                  3             3  4640799          491   \n",
       "2        3              41865         41865  3212258          226   \n",
       "3        4               2657          2657  3275794          487   \n",
       "4        5               4671          4671   245494         1356   \n",
       "\n",
       "                       authors  original_publication_year  \\\n",
       "0              Suzanne Collins                     2008.0   \n",
       "1  J.K. Rowling, Mary GrandPré                     1997.0   \n",
       "2              Stephenie Meyer                     2005.0   \n",
       "3                   Harper Lee                     1960.0   \n",
       "4          F. Scott Fitzgerald                     1925.0   \n",
       "\n",
       "                                               title  average_rating  \\\n",
       "0            The Hunger Games (The Hunger Games, #1)            4.34   \n",
       "1  Harry Potter and the Sorcerer's Stone (Harry P...            4.44   \n",
       "2                            Twilight (Twilight, #1)            3.57   \n",
       "3                              To Kill a Mockingbird            4.25   \n",
       "4                                   The Great Gatsby            3.89   \n",
       "\n",
       "   ratings_count  work_ratings_count  work_text_reviews_count  ratings_1  \\\n",
       "0        4780653             4942365                   155254      66715   \n",
       "1        4602479             4800065                    75867      75504   \n",
       "2        3866839             3916824                    95009     456191   \n",
       "3        3198671             3340896                    72586      60427   \n",
       "4        2683664             2773745                    51992      86236   \n",
       "\n",
       "   ratings_2  ratings_3  ratings_4  ratings_5 language_code  \n",
       "0     127936     560092    1481305    2706317           eng  \n",
       "1     101676     455024    1156318    3011543           eng  \n",
       "2     436802     793319     875073    1355439           eng  \n",
       "3     117415     446835    1001952    1714267           eng  \n",
       "4     197621     606158     936012     947718           eng  "
      ]
     },
     "execution_count": 13,
     "metadata": {},
     "output_type": "execute_result"
    }
   ],
   "source": [
    "# checking the clean dataset\n",
    "book_df.head(5)"
   ]
  },
  {
   "cell_type": "markdown",
   "id": "8cd3947d-38c8-418b-8258-d6cd3942c9f3",
   "metadata": {},
   "source": [
    "With the data cleaning phase successfully completed, including the verification of the absence of duplicate rows, we can now transition to the exploration phase. We'll begin by examining the distribution of `original_publication_year`"
   ]
  },
  {
   "cell_type": "code",
   "execution_count": 14,
   "id": "6c2c7e49-1528-40b2-8d0c-6d4222d705f9",
   "metadata": {
    "tags": []
   },
   "outputs": [
    {
     "data": {
      "text/plain": [
       "count    10000.000000\n",
       "mean      1982.011900\n",
       "std        152.425492\n",
       "min      -1750.000000\n",
       "25%       1990.000000\n",
       "50%       2004.000000\n",
       "75%       2011.000000\n",
       "max       2017.000000\n",
       "Name: original_publication_year, dtype: float64"
      ]
     },
     "execution_count": 14,
     "metadata": {},
     "output_type": "execute_result"
    }
   ],
   "source": [
    "book_df['original_publication_year'].describe()"
   ]
  },
  {
   "cell_type": "code",
   "execution_count": 178,
   "id": "8e62c20e-9e47-4c18-933d-4f913584cb17",
   "metadata": {
    "tags": []
   },
   "outputs": [
    {
     "data": {
      "image/png": "[encoded data removed]",
      "text/plain": [
       "<Figure size 1200x1200 with 4 Axes>"
      ]
     },
     "metadata": {},
     "output_type": "display_data"
    }
   ],
   "source": [
    "# plot distribution of published year by 4 separate periods\n",
    "\n",
    "plt.subplots(2,2,figsize = (12,12))\n",
    "\n",
    "plt.subplot(2,2,1)\n",
    "plt.hist(book_df['original_publication_year'],bins = range(1980,2020,1),color = 'lightseagreen')\n",
    "plt.title('Between The Years 1980 to 2020')\n",
    "plt.ylabel('Frequency')\n",
    "plt.xlabel('Year')\n",
    "\n",
    "plt.subplot(2,2,2)\n",
    "plt.hist(book_df['original_publication_year'],bins = range(1900,1982,2),color = 'lightseagreen')\n",
    "plt.title('Between The Years 1900 to 1980')\n",
    "plt.ylabel('Frequency')\n",
    "plt.xlabel('Year')\n",
    "\n",
    "plt.subplot(2,2,3)\n",
    "plt.hist(book_df['original_publication_year'],bins = range(1500,1910,10),color = 'lightseagreen')\n",
    "plt.title('Between The Years 1500 to 1900')\n",
    "plt.ylabel('Frequency')\n",
    "plt.xlabel('Year')\n",
    "\n",
    "plt.subplot(2,2,4)\n",
    "plt.hist(book_df['original_publication_year'],bins = range(-1800,1600,100),color = 'lightseagreen')\n",
    "plt.title('Between The Years -1800 to 1500')\n",
    "plt.ylabel('Frequency')\n",
    "plt.xlabel('Year')\n",
    "\n",
    "\n",
    "plt.suptitle('Distribution of Books Original Publishing Year Over 4 Periods')\n",
    "plt.tight_layout()\n",
    "plt.show()"
   ]
  },
  {
   "cell_type": "markdown",
   "id": "b0858c5a-0edf-476a-9867-c1e78f2b4425",
   "metadata": {},
   "source": [
    "Due to the extensive range of publication years in our dataset, spanning from as early as 1750 BC to as recently as 2017 AD, we've divided the books into four distinct periods to facilitate a more visually informative analysis. This division allows us to observe that most books in our dataset were written between 1980 AD and 2017 AD. We can see a steady decline in the number of books as we move backward in time, with a noticeable drop in the 1800s. This decline continues as books become scarcer, to the point that only a handful of books can be found before 1500 AD, which are particularly sparse and widely dispersed."
   ]
  },
  {
   "cell_type": "code",
   "execution_count": 179,
   "id": "b01581fb-ea62-46ce-baed-0086145961a0",
   "metadata": {
    "tags": []
   },
   "outputs": [
    {
     "name": "stdout",
     "output_type": "stream",
     "text": [
      " The average number of book an author published is 2.1441\n"
     ]
    },
    {
     "data": {
      "text/html": [
       "<div>\n",
       "<style scoped>\n",
       "    .dataframe tbody tr th:only-of-type {\n",
       "        vertical-align: middle;\n",
       "    }\n",
       "\n",
       "    .dataframe tbody tr th {\n",
       "        vertical-align: top;\n",
       "    }\n",
       "\n",
       "    .dataframe thead th {\n",
       "        text-align: right;\n",
       "    }\n",
       "</style>\n",
       "<table border=\"1\" class=\"dataframe\">\n",
       "  <thead>\n",
       "    <tr style=\"text-align: right;\">\n",
       "      <th></th>\n",
       "      <th>Number_of_Books</th>\n",
       "    </tr>\n",
       "  </thead>\n",
       "  <tbody>\n",
       "    <tr>\n",
       "      <th>Stephen King</th>\n",
       "      <td>60</td>\n",
       "    </tr>\n",
       "    <tr>\n",
       "      <th>Nora Roberts</th>\n",
       "      <td>59</td>\n",
       "    </tr>\n",
       "    <tr>\n",
       "      <th>Dean Koontz</th>\n",
       "      <td>47</td>\n",
       "    </tr>\n",
       "    <tr>\n",
       "      <th>Terry Pratchett</th>\n",
       "      <td>42</td>\n",
       "    </tr>\n",
       "    <tr>\n",
       "      <th>Agatha Christie</th>\n",
       "      <td>39</td>\n",
       "    </tr>\n",
       "    <tr>\n",
       "      <th>Meg Cabot</th>\n",
       "      <td>37</td>\n",
       "    </tr>\n",
       "    <tr>\n",
       "      <th>James Patterson</th>\n",
       "      <td>36</td>\n",
       "    </tr>\n",
       "    <tr>\n",
       "      <th>David Baldacci</th>\n",
       "      <td>34</td>\n",
       "    </tr>\n",
       "    <tr>\n",
       "      <th>J.D. Robb</th>\n",
       "      <td>33</td>\n",
       "    </tr>\n",
       "    <tr>\n",
       "      <th>John Grisham</th>\n",
       "      <td>33</td>\n",
       "    </tr>\n",
       "  </tbody>\n",
       "</table>\n",
       "</div>"
      ],
      "text/plain": [
       "                 Number_of_Books\n",
       "Stephen King                  60\n",
       "Nora Roberts                  59\n",
       "Dean Koontz                   47\n",
       "Terry Pratchett               42\n",
       "Agatha Christie               39\n",
       "Meg Cabot                     37\n",
       "James Patterson               36\n",
       "David Baldacci                34\n",
       "J.D. Robb                     33\n",
       "John Grisham                  33"
      ]
     },
     "execution_count": 179,
     "metadata": {},
     "output_type": "execute_result"
    }
   ],
   "source": [
    "# exploring the author column\n",
    "print(f\" The average number of book an author published is {np.round(book_df['authors'].value_counts().to_frame('Number_of_Books').mean()[0],4)}\")\n",
    "\n",
    "book_df['authors'].value_counts().to_frame('Number_of_Books').head(10)"
   ]
  },
  {
   "cell_type": "markdown",
   "id": "5de0db9e-58d0-42be-9880-6f86f30ab541",
   "metadata": {},
   "source": [
    "Looking at the `authors` in our dataset, it becomes evident that Stephen King stands out with 60 published books, which far exceeds the approximate average of 2.14 books per author in our dataset. However, his works only account for 0.6% of the total books in the dataset, indicating the presence of a diverse array of authors. \n",
    "\n",
    "As we continue our exploration, we'll dive into the `average rating`, which represents the average of all the ratings users give, ranging from 1 to 5. Our approach begins with examining the top 10 books and their respective authors with the highest average ratings. Conversely, we'll also investigate the top 10 books with the lowest ratings. Following this, we'll shift our focus to analyzing the distribution of `average rating` across the data."
   ]
  },
  {
   "cell_type": "code",
   "execution_count": 180,
   "id": "db26d769-c8ab-498f-ae51-868a0521be43",
   "metadata": {
    "tags": []
   },
   "outputs": [
    {
     "data": {
      "text/html": [
       "<div>\n",
       "<style scoped>\n",
       "    .dataframe tbody tr th:only-of-type {\n",
       "        vertical-align: middle;\n",
       "    }\n",
       "\n",
       "    .dataframe tbody tr th {\n",
       "        vertical-align: top;\n",
       "    }\n",
       "\n",
       "    .dataframe thead th {\n",
       "        text-align: right;\n",
       "    }\n",
       "</style>\n",
       "<table border=\"1\" class=\"dataframe\">\n",
       "  <thead>\n",
       "    <tr style=\"text-align: right;\">\n",
       "      <th></th>\n",
       "      <th>title</th>\n",
       "      <th>authors</th>\n",
       "      <th>average_rating</th>\n",
       "    </tr>\n",
       "  </thead>\n",
       "  <tbody>\n",
       "    <tr>\n",
       "      <th>3627</th>\n",
       "      <td>The Complete Calvin and Hobbes</td>\n",
       "      <td>Bill Watterson</td>\n",
       "      <td>4.82</td>\n",
       "    </tr>\n",
       "    <tr>\n",
       "      <th>3274</th>\n",
       "      <td>Harry Potter Boxed Set, Books 1-5 (Harry Potte...</td>\n",
       "      <td>J.K. Rowling, Mary GrandPré</td>\n",
       "      <td>4.77</td>\n",
       "    </tr>\n",
       "    <tr>\n",
       "      <th>861</th>\n",
       "      <td>Words of Radiance (The Stormlight Archive, #2)</td>\n",
       "      <td>Brandon Sanderson</td>\n",
       "      <td>4.77</td>\n",
       "    </tr>\n",
       "    <tr>\n",
       "      <th>8853</th>\n",
       "      <td>Mark of the Lion Trilogy</td>\n",
       "      <td>Francine Rivers</td>\n",
       "      <td>4.76</td>\n",
       "    </tr>\n",
       "    <tr>\n",
       "      <th>7946</th>\n",
       "      <td>ESV Study Bible</td>\n",
       "      <td>Anonymous, Lane T. Dennis, Wayne A. Grudem</td>\n",
       "      <td>4.76</td>\n",
       "    </tr>\n",
       "    <tr>\n",
       "      <th>4482</th>\n",
       "      <td>It's a Magical World: A Calvin and Hobbes Coll...</td>\n",
       "      <td>Bill Watterson</td>\n",
       "      <td>4.75</td>\n",
       "    </tr>\n",
       "    <tr>\n",
       "      <th>6360</th>\n",
       "      <td>There's Treasure Everywhere: A Calvin and Hobb...</td>\n",
       "      <td>Bill Watterson</td>\n",
       "      <td>4.74</td>\n",
       "    </tr>\n",
       "    <tr>\n",
       "      <th>421</th>\n",
       "      <td>Harry Potter Boxset (Harry Potter, #1-7)</td>\n",
       "      <td>J.K. Rowling</td>\n",
       "      <td>4.74</td>\n",
       "    </tr>\n",
       "    <tr>\n",
       "      <th>3752</th>\n",
       "      <td>Harry Potter Collection (Harry Potter, #1-6)</td>\n",
       "      <td>J.K. Rowling</td>\n",
       "      <td>4.73</td>\n",
       "    </tr>\n",
       "    <tr>\n",
       "      <th>6919</th>\n",
       "      <td>The Indispensable Calvin and Hobbes</td>\n",
       "      <td>Bill Watterson</td>\n",
       "      <td>4.73</td>\n",
       "    </tr>\n",
       "  </tbody>\n",
       "</table>\n",
       "</div>"
      ],
      "text/plain": [
       "                                                  title  \\\n",
       "3627                     The Complete Calvin and Hobbes   \n",
       "3274  Harry Potter Boxed Set, Books 1-5 (Harry Potte...   \n",
       "861      Words of Radiance (The Stormlight Archive, #2)   \n",
       "8853                           Mark of the Lion Trilogy   \n",
       "7946                                    ESV Study Bible   \n",
       "4482  It's a Magical World: A Calvin and Hobbes Coll...   \n",
       "6360  There's Treasure Everywhere: A Calvin and Hobb...   \n",
       "421            Harry Potter Boxset (Harry Potter, #1-7)   \n",
       "3752       Harry Potter Collection (Harry Potter, #1-6)   \n",
       "6919                The Indispensable Calvin and Hobbes   \n",
       "\n",
       "                                         authors  average_rating  \n",
       "3627                              Bill Watterson            4.82  \n",
       "3274                 J.K. Rowling, Mary GrandPré            4.77  \n",
       "861                            Brandon Sanderson            4.77  \n",
       "8853                             Francine Rivers            4.76  \n",
       "7946  Anonymous, Lane T. Dennis, Wayne A. Grudem            4.76  \n",
       "4482                              Bill Watterson            4.75  \n",
       "6360                              Bill Watterson            4.74  \n",
       "421                                 J.K. Rowling            4.74  \n",
       "3752                                J.K. Rowling            4.73  \n",
       "6919                              Bill Watterson            4.73  "
      ]
     },
     "execution_count": 180,
     "metadata": {},
     "output_type": "execute_result"
    }
   ],
   "source": [
    "# top 10 highest rate books\n",
    "book_df[['title','authors','average_rating']].sort_values(['average_rating'],ascending = False).head(10)"
   ]
  },
  {
   "cell_type": "code",
   "execution_count": 181,
   "id": "fcf4307f-6b63-461f-b6bc-ead5ffb87ac6",
   "metadata": {
    "tags": []
   },
   "outputs": [
    {
     "data": {
      "text/html": [
       "<div>\n",
       "<style scoped>\n",
       "    .dataframe tbody tr th:only-of-type {\n",
       "        vertical-align: middle;\n",
       "    }\n",
       "\n",
       "    .dataframe tbody tr th {\n",
       "        vertical-align: top;\n",
       "    }\n",
       "\n",
       "    .dataframe thead th {\n",
       "        text-align: right;\n",
       "    }\n",
       "</style>\n",
       "<table border=\"1\" class=\"dataframe\">\n",
       "  <thead>\n",
       "    <tr style=\"text-align: right;\">\n",
       "      <th></th>\n",
       "      <th>title</th>\n",
       "      <th>authors</th>\n",
       "      <th>average_rating</th>\n",
       "    </tr>\n",
       "  </thead>\n",
       "  <tbody>\n",
       "    <tr>\n",
       "      <th>1792</th>\n",
       "      <td>One Night at the Call Center</td>\n",
       "      <td>Chetan Bhagat</td>\n",
       "      <td>2.47</td>\n",
       "    </tr>\n",
       "    <tr>\n",
       "      <th>3549</th>\n",
       "      <td>The Almost Moon</td>\n",
       "      <td>Alice Sebold</td>\n",
       "      <td>2.67</td>\n",
       "    </tr>\n",
       "    <tr>\n",
       "      <th>8006</th>\n",
       "      <td>The Finkler Question</td>\n",
       "      <td>Howard Jacobson</td>\n",
       "      <td>2.76</td>\n",
       "    </tr>\n",
       "    <tr>\n",
       "      <th>9020</th>\n",
       "      <td>Lost</td>\n",
       "      <td>Gregory Maguire, Douglas Smith</td>\n",
       "      <td>2.80</td>\n",
       "    </tr>\n",
       "    <tr>\n",
       "      <th>4008</th>\n",
       "      <td>Four Blondes</td>\n",
       "      <td>Candace Bushnell</td>\n",
       "      <td>2.80</td>\n",
       "    </tr>\n",
       "    <tr>\n",
       "      <th>8165</th>\n",
       "      <td>Among the Ten Thousand Things</td>\n",
       "      <td>Julia Pierpont</td>\n",
       "      <td>2.84</td>\n",
       "    </tr>\n",
       "    <tr>\n",
       "      <th>8873</th>\n",
       "      <td>Tell-All</td>\n",
       "      <td>Chuck Palahniuk</td>\n",
       "      <td>2.84</td>\n",
       "    </tr>\n",
       "    <tr>\n",
       "      <th>4282</th>\n",
       "      <td>Revenge Wears Prada: The Devil Returns (The De...</td>\n",
       "      <td>Lauren Weisberger</td>\n",
       "      <td>2.84</td>\n",
       "    </tr>\n",
       "    <tr>\n",
       "      <th>4613</th>\n",
       "      <td>The Emperor's Children</td>\n",
       "      <td>Claire Messud</td>\n",
       "      <td>2.93</td>\n",
       "    </tr>\n",
       "    <tr>\n",
       "      <th>8959</th>\n",
       "      <td>The Red House</td>\n",
       "      <td>Mark Haddon</td>\n",
       "      <td>2.93</td>\n",
       "    </tr>\n",
       "  </tbody>\n",
       "</table>\n",
       "</div>"
      ],
      "text/plain": [
       "                                                  title  \\\n",
       "1792                       One Night at the Call Center   \n",
       "3549                                    The Almost Moon   \n",
       "8006                               The Finkler Question   \n",
       "9020                                               Lost   \n",
       "4008                                       Four Blondes   \n",
       "8165                      Among the Ten Thousand Things   \n",
       "8873                                           Tell-All   \n",
       "4282  Revenge Wears Prada: The Devil Returns (The De...   \n",
       "4613                             The Emperor's Children   \n",
       "8959                                      The Red House   \n",
       "\n",
       "                             authors  average_rating  \n",
       "1792                   Chetan Bhagat            2.47  \n",
       "3549                    Alice Sebold            2.67  \n",
       "8006                 Howard Jacobson            2.76  \n",
       "9020  Gregory Maguire, Douglas Smith            2.80  \n",
       "4008                Candace Bushnell            2.80  \n",
       "8165                  Julia Pierpont            2.84  \n",
       "8873                 Chuck Palahniuk            2.84  \n",
       "4282               Lauren Weisberger            2.84  \n",
       "4613                   Claire Messud            2.93  \n",
       "8959                     Mark Haddon            2.93  "
      ]
     },
     "execution_count": 181,
     "metadata": {},
     "output_type": "execute_result"
    }
   ],
   "source": [
    "# top 10 worst rated books\n",
    "book_df[['title','authors','average_rating']].sort_values(['average_rating']).head(10)"
   ]
  },
  {
   "cell_type": "code",
   "execution_count": 254,
   "id": "fff03e0d-a20b-4b3c-8977-d685fdc75e0c",
   "metadata": {
    "tags": []
   },
   "outputs": [
    {
     "data": {
      "image/png": "[encoded data removed]",
      "text/plain": [
       "<Figure size 640x480 with 1 Axes>"
      ]
     },
     "metadata": {},
     "output_type": "display_data"
    }
   ],
   "source": [
    "# plooting average rating distribution\n",
    "plt.hist(book_df['average_rating'],bins=25,color = 'lightseagreen')\n",
    "plt.axvline(book_df['average_rating'].mean(),ls = '--',color = 'lime', label = f\"Mean = {np.round(book_df['average_rating'].mean(),3)}\")\n",
    "plt.axvline(book_df['average_rating'].median(),ls = '--',color = 'cyan', label = f'Median = {book_df[\"average_rating\"].median()}')\n",
    "plt.legend(loc = 'upper left')\n",
    "plt.title('Distribution of Average Rating')\n",
    "plt.ylabel('Frequency')\n",
    "plt.xlabel('Average Rating')\n",
    "plt.show()"
   ]
  },
  {
   "cell_type": "markdown",
   "id": "e6cf6c57-0421-42ee-883f-72eea6c65ae2",
   "metadata": {},
   "source": [
    "Exploring the distribution of average ratings reveals that the majority of books tend to have an average rating centered around 4.0. While the majority falls within the 3.5 to 4.5 range, a smaller number of books receive ratings below 3.5 or above 4.5.\n",
    "\n",
    "Next, we will explore the distribution of the number of specific ratings each book receives. However, before graphing this data, we need to normalize it. The reason for normalization is that the number of ratings a book gets can vary significantly, making a direct comparison challenging. To overcome this, we'll calculate the proportion of each specific rating a book gets by dividing it by its total number of ratings."
   ]
  },
  {
   "cell_type": "code",
   "execution_count": 212,
   "id": "7bd65301-ef7d-44a3-9d8b-d77336b46dd1",
   "metadata": {
    "tags": []
   },
   "outputs": [
    {
     "data": {
      "image/png": "[encoded data removed]",
      "text/plain": [
       "<Figure size 640x480 with 1 Axes>"
      ]
     },
     "metadata": {},
     "output_type": "display_data"
    },
    {
     "data": {
      "text/html": [
       "<div>\n",
       "<style scoped>\n",
       "    .dataframe tbody tr th:only-of-type {\n",
       "        vertical-align: middle;\n",
       "    }\n",
       "\n",
       "    .dataframe tbody tr th {\n",
       "        vertical-align: top;\n",
       "    }\n",
       "\n",
       "    .dataframe thead tr th {\n",
       "        text-align: left;\n",
       "    }\n",
       "\n",
       "    .dataframe thead tr:last-of-type th {\n",
       "        text-align: right;\n",
       "    }\n",
       "</style>\n",
       "<table border=\"1\" class=\"dataframe\">\n",
       "  <thead>\n",
       "    <tr>\n",
       "      <th></th>\n",
       "      <th colspan=\"4\" halign=\"left\">Normalised Rating Percentage</th>\n",
       "    </tr>\n",
       "    <tr>\n",
       "      <th></th>\n",
       "      <th>mean</th>\n",
       "      <th>median</th>\n",
       "      <th>min</th>\n",
       "      <th>max</th>\n",
       "    </tr>\n",
       "    <tr>\n",
       "      <th>rating</th>\n",
       "      <th></th>\n",
       "      <th></th>\n",
       "      <th></th>\n",
       "      <th></th>\n",
       "    </tr>\n",
       "  </thead>\n",
       "  <tbody>\n",
       "    <tr>\n",
       "      <th>1 star</th>\n",
       "      <td>1.95</td>\n",
       "      <td>1.56</td>\n",
       "      <td>0.08</td>\n",
       "      <td>23.55</td>\n",
       "    </tr>\n",
       "    <tr>\n",
       "      <th>2 star</th>\n",
       "      <td>5.26</td>\n",
       "      <td>4.57</td>\n",
       "      <td>0.24</td>\n",
       "      <td>31.51</td>\n",
       "    </tr>\n",
       "    <tr>\n",
       "      <th>3 star</th>\n",
       "      <td>20.72</td>\n",
       "      <td>20.21</td>\n",
       "      <td>2.31</td>\n",
       "      <td>44.51</td>\n",
       "    </tr>\n",
       "    <tr>\n",
       "      <th>4 star</th>\n",
       "      <td>34.76</td>\n",
       "      <td>35.17</td>\n",
       "      <td>2.64</td>\n",
       "      <td>49.35</td>\n",
       "    </tr>\n",
       "    <tr>\n",
       "      <th>5 star</th>\n",
       "      <td>37.31</td>\n",
       "      <td>36.64</td>\n",
       "      <td>6.25</td>\n",
       "      <td>86.37</td>\n",
       "    </tr>\n",
       "  </tbody>\n",
       "</table>\n",
       "</div>"
      ],
      "text/plain": [
       "       Normalised Rating Percentage                    \n",
       "                               mean median   min    max\n",
       "rating                                                 \n",
       "1 star                         1.95   1.56  0.08  23.55\n",
       "2 star                         5.26   4.57  0.24  31.51\n",
       "3 star                        20.72  20.21  2.31  44.51\n",
       "4 star                        34.76  35.17  2.64  49.35\n",
       "5 star                        37.31  36.64  6.25  86.37"
      ]
     },
     "execution_count": 212,
     "metadata": {},
     "output_type": "execute_result"
    }
   ],
   "source": [
    "# creating new data frame combining all rating into 1 columns and normaling them to better plot\n",
    "\n",
    "book_box_pd = pd.DataFrame([])\n",
    "for i in range(1,6):\n",
    "    x = pd.DataFrame([])\n",
    "    x['Normalised Rating Percentage'] = book_df[f'ratings_{i}']/book_df['work_ratings_count']\n",
    "    x['rating'] = f'{i} star'\n",
    "    book_box_pd = pd.concat([book_box_pd,x])\n",
    "    \n",
    "# ploting distribution of normalised rating distribution\n",
    "sns.boxplot(y = book_box_pd['rating'], x= book_box_pd['Normalised Rating Percentage'] )\n",
    "plt.title('Normalised Ratings Distribution')\n",
    "plt.ylabel('Rating')\n",
    "plt.xlabel('Normalised Rating Percentage')\n",
    "plt.xlim(0,1)\n",
    "plt.xticks([0,0.2,0.4,0.6,0.8,1],['0%','20%','40%','60%','80%','100%'])\n",
    "plt.show()\n",
    "\n",
    "# print data of the aggregated group\n",
    "np.round(book_box_pd.groupby('rating').agg(['mean','median','min','max'])*100,2)"
   ]
  },
  {
   "cell_type": "markdown",
   "id": "d91f5d5e-934f-492b-bcbc-e928fb6c4a85",
   "metadata": {},
   "source": [
    "Upon analyzing the distribution of each of the five ratings, it becomes evident that they differ significantly. Ratings of 1 and 2 stars exhibit a concentrated distribution, with median values of under 5%. In contrast, 3-star ratings have more spread-out distribution, boasting a higher median of 20%. The higher ratings of 4 and 5 stars share similar median values, hovering around 36%, yet their distribution patterns significantly differ. While 4-star ratings are more concentrated, 5-star ratings display the greatest spread, ranging from as low as 6% to as high as 86%. These findings offer a comprehensive view of the diverse ways readers rate books."
   ]
  },
  {
   "cell_type": "markdown",
   "id": "5635b248-a7e8-433a-8175-3d1dd3cb2207",
   "metadata": {
    "tags": []
   },
   "source": [
    "---\n",
    "\n",
    "## Tags Data Frame   <a class=\"anchor\" id=\"part-2\"></a>"
   ]
  },
  {
   "cell_type": "markdown",
   "id": "5ce65a32-5039-4024-8ac7-0453e4d48bb0",
   "metadata": {},
   "source": [
    "The Tags DataFrame primarily consists of unique tag IDs and their corresponding names, offering limited data for exploration. However, its actual value lies in its role as a reference for identifying tag names in the Book Tags dataset, which we'll delve into next."
   ]
  },
  {
   "cell_type": "code",
   "execution_count": 184,
   "id": "fbc4ff19-fd5d-4d50-a54a-e47ef068e4ea",
   "metadata": {
    "tags": []
   },
   "outputs": [
    {
     "data": {
      "text/html": [
       "<div>\n",
       "<style scoped>\n",
       "    .dataframe tbody tr th:only-of-type {\n",
       "        vertical-align: middle;\n",
       "    }\n",
       "\n",
       "    .dataframe tbody tr th {\n",
       "        vertical-align: top;\n",
       "    }\n",
       "\n",
       "    .dataframe thead th {\n",
       "        text-align: right;\n",
       "    }\n",
       "</style>\n",
       "<table border=\"1\" class=\"dataframe\">\n",
       "  <thead>\n",
       "    <tr style=\"text-align: right;\">\n",
       "      <th></th>\n",
       "      <th>tag_id</th>\n",
       "      <th>tag_name</th>\n",
       "    </tr>\n",
       "  </thead>\n",
       "  <tbody>\n",
       "    <tr>\n",
       "      <th>0</th>\n",
       "      <td>0</td>\n",
       "      <td>-</td>\n",
       "    </tr>\n",
       "    <tr>\n",
       "      <th>1</th>\n",
       "      <td>1</td>\n",
       "      <td>--1-</td>\n",
       "    </tr>\n",
       "    <tr>\n",
       "      <th>2</th>\n",
       "      <td>2</td>\n",
       "      <td>--10-</td>\n",
       "    </tr>\n",
       "    <tr>\n",
       "      <th>3</th>\n",
       "      <td>3</td>\n",
       "      <td>--12-</td>\n",
       "    </tr>\n",
       "    <tr>\n",
       "      <th>4</th>\n",
       "      <td>4</td>\n",
       "      <td>--122-</td>\n",
       "    </tr>\n",
       "  </tbody>\n",
       "</table>\n",
       "</div>"
      ],
      "text/plain": [
       "   tag_id tag_name\n",
       "0       0        -\n",
       "1       1     --1-\n",
       "2       2    --10-\n",
       "3       3    --12-\n",
       "4       4   --122-"
      ]
     },
     "execution_count": 184,
     "metadata": {},
     "output_type": "execute_result"
    }
   ],
   "source": [
    "tags_df.head()"
   ]
  },
  {
   "cell_type": "code",
   "execution_count": 185,
   "id": "a2d40b53-a87f-478b-bb05-3b584ce369ec",
   "metadata": {
    "tags": []
   },
   "outputs": [
    {
     "name": "stdout",
     "output_type": "stream",
     "text": [
      "Tags Data Frame has 34252 rows and 2 columns\n"
     ]
    }
   ],
   "source": [
    "#check size\n",
    "t_rown, t_coln = tags_df.shape\n",
    "print(f'Tags Data Frame has {t_rown} rows and {t_coln} columns')"
   ]
  },
  {
   "cell_type": "code",
   "execution_count": 186,
   "id": "286a767e-4e3f-48e9-94a7-ce628dab9b4b",
   "metadata": {
    "tags": []
   },
   "outputs": [
    {
     "name": "stdout",
     "output_type": "stream",
     "text": [
      "<class 'pandas.core.frame.DataFrame'>\n",
      "RangeIndex: 34252 entries, 0 to 34251\n",
      "Data columns (total 2 columns):\n",
      " #   Column    Non-Null Count  Dtype \n",
      "---  ------    --------------  ----- \n",
      " 0   tag_id    34252 non-null  int64 \n",
      " 1   tag_name  34252 non-null  object\n",
      "dtypes: int64(1), object(1)\n",
      "memory usage: 535.3+ KB\n"
     ]
    }
   ],
   "source": [
    "tags_df.info()"
   ]
  },
  {
   "cell_type": "code",
   "execution_count": 187,
   "id": "87b28bb4-d1af-40ee-881c-8e72c5ebbfdb",
   "metadata": {
    "tags": []
   },
   "outputs": [
    {
     "data": {
      "text/plain": [
       "tag_id      0\n",
       "tag_name    0\n",
       "dtype: int64"
      ]
     },
     "execution_count": 187,
     "metadata": {},
     "output_type": "execute_result"
    }
   ],
   "source": [
    "tags_df.isna().sum()"
   ]
  },
  {
   "cell_type": "code",
   "execution_count": 188,
   "id": "ac901d07-a71d-426f-9b4b-b7b93b7e8195",
   "metadata": {
    "tags": []
   },
   "outputs": [
    {
     "data": {
      "text/plain": [
       "0"
      ]
     },
     "execution_count": 188,
     "metadata": {},
     "output_type": "execute_result"
    }
   ],
   "source": [
    "tags_df.duplicated().sum()"
   ]
  },
  {
   "cell_type": "markdown",
   "id": "5e31db98-e4a7-4d4d-bb53-febde1266d59",
   "metadata": {},
   "source": [
    "---\n",
    "## Book Tags Data Frame <a class=\"anchor\" id=\"part-3\"></a>"
   ]
  },
  {
   "cell_type": "markdown",
   "id": "7d9f7f0d-70e4-48b6-9895-5267256452f8",
   "metadata": {},
   "source": [
    "The Book Tags DataFrame includes data about the number of users who have assigned specific tags to particular books. This dataset is valuable as it allows us to compare books that share many of the same tags. "
   ]
  },
  {
   "cell_type": "code",
   "execution_count": 214,
   "id": "0caa718b-af35-4357-abdc-309687feaafe",
   "metadata": {
    "tags": []
   },
   "outputs": [
    {
     "data": {
      "text/html": [
       "<div>\n",
       "<style scoped>\n",
       "    .dataframe tbody tr th:only-of-type {\n",
       "        vertical-align: middle;\n",
       "    }\n",
       "\n",
       "    .dataframe tbody tr th {\n",
       "        vertical-align: top;\n",
       "    }\n",
       "\n",
       "    .dataframe thead th {\n",
       "        text-align: right;\n",
       "    }\n",
       "</style>\n",
       "<table border=\"1\" class=\"dataframe\">\n",
       "  <thead>\n",
       "    <tr style=\"text-align: right;\">\n",
       "      <th></th>\n",
       "      <th>goodreads_book_id</th>\n",
       "      <th>tag_id</th>\n",
       "      <th>count</th>\n",
       "    </tr>\n",
       "  </thead>\n",
       "  <tbody>\n",
       "    <tr>\n",
       "      <th>0</th>\n",
       "      <td>1</td>\n",
       "      <td>30574</td>\n",
       "      <td>167697</td>\n",
       "    </tr>\n",
       "    <tr>\n",
       "      <th>1</th>\n",
       "      <td>1</td>\n",
       "      <td>11305</td>\n",
       "      <td>37174</td>\n",
       "    </tr>\n",
       "    <tr>\n",
       "      <th>2</th>\n",
       "      <td>1</td>\n",
       "      <td>11557</td>\n",
       "      <td>34173</td>\n",
       "    </tr>\n",
       "    <tr>\n",
       "      <th>3</th>\n",
       "      <td>1</td>\n",
       "      <td>8717</td>\n",
       "      <td>12986</td>\n",
       "    </tr>\n",
       "    <tr>\n",
       "      <th>4</th>\n",
       "      <td>1</td>\n",
       "      <td>33114</td>\n",
       "      <td>12716</td>\n",
       "    </tr>\n",
       "  </tbody>\n",
       "</table>\n",
       "</div>"
      ],
      "text/plain": [
       "   goodreads_book_id  tag_id   count\n",
       "0                  1   30574  167697\n",
       "1                  1   11305   37174\n",
       "2                  1   11557   34173\n",
       "3                  1    8717   12986\n",
       "4                  1   33114   12716"
      ]
     },
     "execution_count": 214,
     "metadata": {},
     "output_type": "execute_result"
    }
   ],
   "source": [
    "book_tags_df.head()"
   ]
  },
  {
   "cell_type": "code",
   "execution_count": 215,
   "id": "1d8ed300-c431-4e1a-852c-9dd0d2aa701a",
   "metadata": {
    "tags": []
   },
   "outputs": [
    {
     "name": "stdout",
     "output_type": "stream",
     "text": [
      "Book Tags Data Frame has 999912 rows and 3 columns\n"
     ]
    }
   ],
   "source": [
    "#check size\n",
    "bt_rown, bt_coln = book_tags_df.shape\n",
    "print(f'Book Tags Data Frame has {bt_rown} rows and {bt_coln} columns')"
   ]
  },
  {
   "cell_type": "code",
   "execution_count": 216,
   "id": "459488aa-79c7-4ca7-afd3-51dd282ae266",
   "metadata": {
    "tags": []
   },
   "outputs": [
    {
     "data": {
      "text/plain": [
       "goodreads_book_id    0\n",
       "tag_id               0\n",
       "count                0\n",
       "dtype: int64"
      ]
     },
     "execution_count": 216,
     "metadata": {},
     "output_type": "execute_result"
    }
   ],
   "source": [
    "book_tags_df.isna().sum()"
   ]
  },
  {
   "cell_type": "code",
   "execution_count": 217,
   "id": "cc294f14-daec-4a59-8d6b-d77d5ca7f250",
   "metadata": {
    "tags": []
   },
   "outputs": [
    {
     "data": {
      "text/plain": [
       "6"
      ]
     },
     "execution_count": 217,
     "metadata": {},
     "output_type": "execute_result"
    }
   ],
   "source": [
    "book_tags_df.duplicated().sum()"
   ]
  },
  {
   "cell_type": "markdown",
   "id": "274118b8-0539-49a4-9b26-350c5d33cc50",
   "metadata": {},
   "source": [
    "We identified six duplicate rows in our dataset, representing an extremely small fraction, accounting for just 0.0006% of our data. Consequently, we can confidently remove these six rows and explore the dataset."
   ]
  },
  {
   "cell_type": "code",
   "execution_count": 219,
   "id": "b27c65af-17fc-4aa8-839c-2b92bbbd2a3d",
   "metadata": {
    "tags": []
   },
   "outputs": [
    {
     "data": {
      "text/plain": [
       "0"
      ]
     },
     "execution_count": 219,
     "metadata": {},
     "output_type": "execute_result"
    }
   ],
   "source": [
    "book_tags_df.drop_duplicates(inplace=True)\n",
    "book_tags_df.duplicated().sum()"
   ]
  },
  {
   "cell_type": "code",
   "execution_count": 237,
   "id": "e1180be9-1fb4-4894-9726-89ae364027bc",
   "metadata": {
    "tags": []
   },
   "outputs": [
    {
     "data": {
      "text/html": [
       "<div>\n",
       "<style scoped>\n",
       "    .dataframe tbody tr th:only-of-type {\n",
       "        vertical-align: middle;\n",
       "    }\n",
       "\n",
       "    .dataframe tbody tr th {\n",
       "        vertical-align: top;\n",
       "    }\n",
       "\n",
       "    .dataframe thead th {\n",
       "        text-align: right;\n",
       "    }\n",
       "</style>\n",
       "<table border=\"1\" class=\"dataframe\">\n",
       "  <thead>\n",
       "    <tr style=\"text-align: right;\">\n",
       "      <th></th>\n",
       "      <th>tag_id</th>\n",
       "    </tr>\n",
       "    <tr>\n",
       "      <th>count</th>\n",
       "      <th></th>\n",
       "    </tr>\n",
       "  </thead>\n",
       "  <tbody>\n",
       "    <tr>\n",
       "      <th>56</th>\n",
       "      <td>1</td>\n",
       "    </tr>\n",
       "    <tr>\n",
       "      <th>62</th>\n",
       "      <td>1</td>\n",
       "    </tr>\n",
       "    <tr>\n",
       "      <th>94</th>\n",
       "      <td>1</td>\n",
       "    </tr>\n",
       "    <tr>\n",
       "      <th>96</th>\n",
       "      <td>1</td>\n",
       "    </tr>\n",
       "    <tr>\n",
       "      <th>99</th>\n",
       "      <td>2</td>\n",
       "    </tr>\n",
       "    <tr>\n",
       "      <th>100</th>\n",
       "      <td>9994</td>\n",
       "    </tr>\n",
       "  </tbody>\n",
       "</table>\n",
       "</div>"
      ],
      "text/plain": [
       "       tag_id\n",
       "count        \n",
       "56          1\n",
       "62          1\n",
       "94          1\n",
       "96          1\n",
       "99          2\n",
       "100      9994"
      ]
     },
     "execution_count": 237,
     "metadata": {},
     "output_type": "execute_result"
    }
   ],
   "source": [
    "#group by books id to find how many tags are assigned to the book and then groups by count to find the number of books with certain number of tags\n",
    "book_tags_df.groupby('goodreads_book_id').count().groupby('count').count()"
   ]
  },
  {
   "cell_type": "code",
   "execution_count": 221,
   "id": "7c87a247-da9e-4f1f-9af8-15b6dd42806a",
   "metadata": {
    "tags": []
   },
   "outputs": [
    {
     "data": {
      "text/html": [
       "<div>\n",
       "<style scoped>\n",
       "    .dataframe tbody tr th:only-of-type {\n",
       "        vertical-align: middle;\n",
       "    }\n",
       "\n",
       "    .dataframe tbody tr th {\n",
       "        vertical-align: top;\n",
       "    }\n",
       "\n",
       "    .dataframe thead th {\n",
       "        text-align: right;\n",
       "    }\n",
       "</style>\n",
       "<table border=\"1\" class=\"dataframe\">\n",
       "  <thead>\n",
       "    <tr style=\"text-align: right;\">\n",
       "      <th></th>\n",
       "      <th>goodreads_book_id</th>\n",
       "      <th>tag_id</th>\n",
       "      <th>count</th>\n",
       "      <th>tag_name</th>\n",
       "    </tr>\n",
       "  </thead>\n",
       "  <tbody>\n",
       "    <tr>\n",
       "      <th>0</th>\n",
       "      <td>1</td>\n",
       "      <td>30574</td>\n",
       "      <td>167697</td>\n",
       "      <td>to-read</td>\n",
       "    </tr>\n",
       "    <tr>\n",
       "      <th>1</th>\n",
       "      <td>1</td>\n",
       "      <td>11305</td>\n",
       "      <td>37174</td>\n",
       "      <td>fantasy</td>\n",
       "    </tr>\n",
       "    <tr>\n",
       "      <th>2</th>\n",
       "      <td>1</td>\n",
       "      <td>11557</td>\n",
       "      <td>34173</td>\n",
       "      <td>favorites</td>\n",
       "    </tr>\n",
       "    <tr>\n",
       "      <th>3</th>\n",
       "      <td>1</td>\n",
       "      <td>8717</td>\n",
       "      <td>12986</td>\n",
       "      <td>currently-reading</td>\n",
       "    </tr>\n",
       "    <tr>\n",
       "      <th>4</th>\n",
       "      <td>1</td>\n",
       "      <td>33114</td>\n",
       "      <td>12716</td>\n",
       "      <td>young-adult</td>\n",
       "    </tr>\n",
       "    <tr>\n",
       "      <th>5</th>\n",
       "      <td>1</td>\n",
       "      <td>11743</td>\n",
       "      <td>9954</td>\n",
       "      <td>fiction</td>\n",
       "    </tr>\n",
       "    <tr>\n",
       "      <th>6</th>\n",
       "      <td>1</td>\n",
       "      <td>14017</td>\n",
       "      <td>7169</td>\n",
       "      <td>harry-potter</td>\n",
       "    </tr>\n",
       "    <tr>\n",
       "      <th>7</th>\n",
       "      <td>1</td>\n",
       "      <td>5207</td>\n",
       "      <td>6221</td>\n",
       "      <td>books-i-own</td>\n",
       "    </tr>\n",
       "    <tr>\n",
       "      <th>8</th>\n",
       "      <td>1</td>\n",
       "      <td>22743</td>\n",
       "      <td>4974</td>\n",
       "      <td>owned</td>\n",
       "    </tr>\n",
       "    <tr>\n",
       "      <th>9</th>\n",
       "      <td>1</td>\n",
       "      <td>32989</td>\n",
       "      <td>4364</td>\n",
       "      <td>ya</td>\n",
       "    </tr>\n",
       "    <tr>\n",
       "      <th>10</th>\n",
       "      <td>1</td>\n",
       "      <td>27199</td>\n",
       "      <td>3857</td>\n",
       "      <td>series</td>\n",
       "    </tr>\n",
       "    <tr>\n",
       "      <th>11</th>\n",
       "      <td>1</td>\n",
       "      <td>11590</td>\n",
       "      <td>3456</td>\n",
       "      <td>favourites</td>\n",
       "    </tr>\n",
       "  </tbody>\n",
       "</table>\n",
       "</div>"
      ],
      "text/plain": [
       "    goodreads_book_id  tag_id   count           tag_name\n",
       "0                   1   30574  167697            to-read\n",
       "1                   1   11305   37174            fantasy\n",
       "2                   1   11557   34173          favorites\n",
       "3                   1    8717   12986  currently-reading\n",
       "4                   1   33114   12716        young-adult\n",
       "5                   1   11743    9954            fiction\n",
       "6                   1   14017    7169       harry-potter\n",
       "7                   1    5207    6221        books-i-own\n",
       "8                   1   22743    4974              owned\n",
       "9                   1   32989    4364                 ya\n",
       "10                  1   27199    3857             series\n",
       "11                  1   11590    3456         favourites"
      ]
     },
     "execution_count": 221,
     "metadata": {},
     "output_type": "execute_result"
    }
   ],
   "source": [
    "# adding tags name \n",
    "book_tags_df2 = pd.merge(book_tags_df, tags_df, on = 'tag_id', how = 'left')\n",
    "\n",
    "book_tags_df2.head(12)"
   ]
  },
  {
   "cell_type": "code",
   "execution_count": 194,
   "id": "3ca4b0ea-c2c9-41bf-a8be-e2226eb5ab82",
   "metadata": {
    "tags": []
   },
   "outputs": [
    {
     "data": {
      "text/plain": [
       "to-read              99.83\n",
       "favorites            98.81\n",
       "owned                98.58\n",
       "books-i-own          97.99\n",
       "currently-reading    97.76\n",
       "library              94.15\n",
       "owned-books          92.21\n",
       "fiction              90.97\n",
       "to-buy               86.92\n",
       "kindle               83.16\n",
       "Name: tag_name, dtype: float64"
      ]
     },
     "execution_count": 194,
     "metadata": {},
     "output_type": "execute_result"
    }
   ],
   "source": [
    "popul_tags = book_tags_df2['tag_name'].value_counts()/book_df.shape[0]*100\n",
    "\n",
    "popul_tags.head(10)"
   ]
  },
  {
   "cell_type": "code",
   "execution_count": 248,
   "id": "040fca5a-83c0-474b-ab91-6baeefa79083",
   "metadata": {
    "tags": []
   },
   "outputs": [
    {
     "data": {
      "image/png": "[encoded data removed]",
      "text/plain": [
       "<Figure size 640x480 with 1 Axes>"
      ]
     },
     "metadata": {},
     "output_type": "display_data"
    }
   ],
   "source": [
    "plt.tiitle('Distribution of Tags')\n",
    "\n",
    "plt.hist(popul_tags,bins =15,color = 'lightseagreen')\n",
    "plt.xticks([0,20,40,60,80,100],['0%','20%','40%','60%','80%','100%'])\n",
    "\n",
    "plt.show()"
   ]
  },
  {
   "cell_type": "markdown",
   "id": "8657fe89-b383-4101-a835-d98044a25abd",
   "metadata": {
    "tags": []
   },
   "source": [
    "---\n",
    "## Ratings Data Frame <a class=\"anchor\" id=\"part-4\"></a>"
   ]
  },
  {
   "cell_type": "code",
   "execution_count": 196,
   "id": "f299d989-af9d-492e-aefd-b07196254d1f",
   "metadata": {
    "tags": []
   },
   "outputs": [
    {
     "data": {
      "text/html": [
       "<div>\n",
       "<style scoped>\n",
       "    .dataframe tbody tr th:only-of-type {\n",
       "        vertical-align: middle;\n",
       "    }\n",
       "\n",
       "    .dataframe tbody tr th {\n",
       "        vertical-align: top;\n",
       "    }\n",
       "\n",
       "    .dataframe thead th {\n",
       "        text-align: right;\n",
       "    }\n",
       "</style>\n",
       "<table border=\"1\" class=\"dataframe\">\n",
       "  <thead>\n",
       "    <tr style=\"text-align: right;\">\n",
       "      <th></th>\n",
       "      <th>user_id</th>\n",
       "      <th>book_id</th>\n",
       "      <th>rating</th>\n",
       "    </tr>\n",
       "  </thead>\n",
       "  <tbody>\n",
       "    <tr>\n",
       "      <th>0</th>\n",
       "      <td>1</td>\n",
       "      <td>258</td>\n",
       "      <td>5</td>\n",
       "    </tr>\n",
       "    <tr>\n",
       "      <th>1</th>\n",
       "      <td>2</td>\n",
       "      <td>4081</td>\n",
       "      <td>4</td>\n",
       "    </tr>\n",
       "    <tr>\n",
       "      <th>2</th>\n",
       "      <td>2</td>\n",
       "      <td>260</td>\n",
       "      <td>5</td>\n",
       "    </tr>\n",
       "    <tr>\n",
       "      <th>3</th>\n",
       "      <td>2</td>\n",
       "      <td>9296</td>\n",
       "      <td>5</td>\n",
       "    </tr>\n",
       "    <tr>\n",
       "      <th>4</th>\n",
       "      <td>2</td>\n",
       "      <td>2318</td>\n",
       "      <td>3</td>\n",
       "    </tr>\n",
       "  </tbody>\n",
       "</table>\n",
       "</div>"
      ],
      "text/plain": [
       "   user_id  book_id  rating\n",
       "0        1      258       5\n",
       "1        2     4081       4\n",
       "2        2      260       5\n",
       "3        2     9296       5\n",
       "4        2     2318       3"
      ]
     },
     "execution_count": 196,
     "metadata": {},
     "output_type": "execute_result"
    }
   ],
   "source": [
    "ratings_df.head()"
   ]
  },
  {
   "cell_type": "code",
   "execution_count": 197,
   "id": "0baf58f3-ead4-4e66-8560-55f26a6b857c",
   "metadata": {
    "tags": []
   },
   "outputs": [
    {
     "name": "stdout",
     "output_type": "stream",
     "text": [
      "Rating Data Frame has 5976479 rows and 3 columns\n"
     ]
    }
   ],
   "source": [
    "#check size\n",
    "r_rown, r_coln = ratings_df.shape\n",
    "print(f'Rating Data Frame has {r_rown} rows and {r_coln} columns')"
   ]
  },
  {
   "cell_type": "code",
   "execution_count": 198,
   "id": "6f01cc15-6b44-4f8c-b294-d4dfd74dba16",
   "metadata": {
    "tags": []
   },
   "outputs": [
    {
     "name": "stdout",
     "output_type": "stream",
     "text": [
      "<class 'pandas.core.frame.DataFrame'>\n",
      "RangeIndex: 5976479 entries, 0 to 5976478\n",
      "Data columns (total 3 columns):\n",
      " #   Column   Dtype\n",
      "---  ------   -----\n",
      " 0   user_id  int64\n",
      " 1   book_id  int64\n",
      " 2   rating   int64\n",
      "dtypes: int64(3)\n",
      "memory usage: 136.8 MB\n"
     ]
    }
   ],
   "source": [
    "ratings_df.info()"
   ]
  },
  {
   "cell_type": "code",
   "execution_count": 199,
   "id": "50d245b2-8c2d-4164-b834-aa3ac8424060",
   "metadata": {
    "tags": []
   },
   "outputs": [
    {
     "data": {
      "text/plain": [
       "user_id    0\n",
       "book_id    0\n",
       "rating     0\n",
       "dtype: int64"
      ]
     },
     "execution_count": 199,
     "metadata": {},
     "output_type": "execute_result"
    }
   ],
   "source": [
    "ratings_df.isna().sum()"
   ]
  },
  {
   "cell_type": "code",
   "execution_count": 200,
   "id": "ff0298af-cde1-4ae0-8e12-54bdcb4758e3",
   "metadata": {
    "tags": []
   },
   "outputs": [
    {
     "data": {
      "text/plain": [
       "0"
      ]
     },
     "execution_count": 200,
     "metadata": {},
     "output_type": "execute_result"
    }
   ],
   "source": [
    "ratings_df.duplicated().sum()"
   ]
  },
  {
   "cell_type": "code",
   "execution_count": 201,
   "id": "ed04e17c-c09e-4ca5-83fc-14a6ef8cea26",
   "metadata": {
    "tags": []
   },
   "outputs": [
    {
     "data": {
      "text/plain": [
       "4    2139018\n",
       "5    1983093\n",
       "3    1370916\n",
       "2     359257\n",
       "1     124195\n",
       "Name: rating, dtype: int64"
      ]
     },
     "execution_count": 201,
     "metadata": {},
     "output_type": "execute_result"
    }
   ],
   "source": [
    "ratings_df['rating'].value_counts()"
   ]
  },
  {
   "cell_type": "code",
   "execution_count": 202,
   "id": "66df2430-f635-413e-a531-cf66e57ddb04",
   "metadata": {},
   "outputs": [
    {
     "data": {
      "image/png": "[encoded data removed]",
      "text/plain": [
       "<Figure size 640x480 with 1 Axes>"
      ]
     },
     "metadata": {},
     "output_type": "display_data"
    }
   ],
   "source": [
    "rat_cnt = ratings_df['rating'].value_counts().sort_index(ascending = False)\n",
    "plt.bar(rat_cnt.index,rat_cnt.values, color = 'lightseagreen')\n",
    "plt.xlabel('Rating')\n",
    "plt.ylabel('Frequency')\n",
    "plt.title('Distribution of Rating')\n",
    "for i in range(5):\n",
    "    pos = rat_cnt.values[i]-100000\n",
    "    pct = np.round(rat_cnt.values[i]/ratings_df.shape[0]*100,2)\n",
    "    plt.text(5-i, pos, f'{pct}%', ha = 'center',color = 'black',weight=\"bold\")\n",
    "plt.show()"
   ]
  },
  {
   "cell_type": "code",
   "execution_count": 262,
   "id": "7d579cb3-0d9c-4297-a734-bb2bdc70760d",
   "metadata": {},
   "outputs": [
    {
     "data": {
      "image/png": "[encoded data removed]",
      "text/plain": [
       "<Figure size 640x480 with 1 Axes>"
      ]
     },
     "metadata": {},
     "output_type": "display_data"
    }
   ],
   "source": [
    "user_agg = ratings_df.groupby(['user_id'])[['rating']].agg(['count', 'mean', 'median'])['rating']\n",
    "plt.title('Distribution of The Number of Books Rated by Each User')\n",
    "plt.xlabel('Number of Books Rated')\n",
    "plt.ylabel('Frequency')\n",
    "plt.hist(user_agg['count'], bins = 30,color = 'lightseagreen')\n",
    "plt.axvline(user_agg['count'].mean(),ls = '--',color = 'lime', label = f\"Mean = {np.round(user_agg['count'].mean(),2)}\")\n",
    "plt.axvline(user_agg['count'].median(),ls = '--',color = 'cyan', label = f\"Median = {user_agg['count'].median()}\")\n",
    "plt.legend()\n",
    "plt.show()"
   ]
  },
  {
   "cell_type": "code",
   "execution_count": null,
   "id": "33f555fe-1121-41af-ac08-de4225acd8bc",
   "metadata": {},
   "outputs": [],
   "source": []
  },
  {
   "cell_type": "code",
   "execution_count": null,
   "id": "3f3d373f-e8ba-4cd0-ab0f-e19c2f53db04",
   "metadata": {},
   "outputs": [],
   "source": []
  }
 ],
 "metadata": {
  "kernelspec": {
   "display_name": "basicpythonkernel",
   "language": "python",
   "name": "basicpythonkernel"
  },
  "language_info": {
   "codemirror_mode": {
    "name": "ipython",
    "version": 3
   },
   "file_extension": ".py",
   "mimetype": "text/x-python",
   "name": "python",
   "nbconvert_exporter": "python",
   "pygments_lexer": "ipython3",
   "version": "3.11.4"
  }
 },
 "nbformat": 4,
 "nbformat_minor": 5
}
