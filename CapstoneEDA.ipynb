{
 "cells": [
  {
   "cell_type": "markdown",
   "id": "c9236456-e98f-4089-9e6a-e63cc2908bd9",
   "metadata": {},
   "source": [
    "<div id=\"container\" style=\"position:relative;\">\n",
    "<div style=\"float:left\"><h1> Capstone Project Initil Data Cleaning and Explorations </h1></div>\n",
    "<div style=\"position:relative; float:right\"><img style=\"height:65px\" src =\"https://drive.google.com/uc?export=view&id=1EnB0x-fdqMp6I5iMoEBBEuxB_s7AmE2k\" />\n",
    "</div>\n",
    "</div>\n",
    "\n",
    "<br>\n",
    "<br>\n",
    "<br>\n",
    "\n",
    "\n",
    "### Camilo Salazar <br> BrainStation <br> October 21, 2023"
   ]
  },
  {
   "cell_type": "code",
   "execution_count": 1,
   "id": "3beeb3aa-c6dd-4425-b0d9-1cf3f7bd3a5f",
   "metadata": {
    "jupyter": {
     "source_hidden": true
    },
    "tags": []
   },
   "outputs": [
    {
     "data": {
      "text/html": [
       "<style>table {align:left;display:block} </style>"
      ],
      "text/plain": [
       "<IPython.core.display.HTML object>"
      ]
     },
     "execution_count": 1,
     "metadata": {},
     "output_type": "execute_result"
    }
   ],
   "source": [
    "from IPython.core.display import HTML\n",
    "table_css = 'table {align:left;display:block} '\n",
    "HTML('<style>{}</style>'.format(table_css))"
   ]
  },
  {
   "cell_type": "markdown",
   "id": "f830fc67-5eaa-4071-b108-8316f0d45f48",
   "metadata": {},
   "source": [
    "---\n",
    "# Introduction\n",
    "\n",
    "In this notebook, we embark on a crucial initial phase that involves both data cleaning and exploration. Our primary goal is to ensure that the datasets we work with are in an optimal condition for analysis. To achieve this, we address issues such as missing values, duplicates, and unnecessary data, thus setting the stage for our book recommender system project. We will be building this recommender system using four key datasets:\n",
    "\n",
    "#### books.csv: A dataset with 10,000 unique books from Goodreads.\n",
    "\n",
    "\n",
    "<style>\n",
    "table {float:left}\n",
    "</style>\n",
    "\n",
    "| Column     | Type    | Description    |\n",
    "|:-------------------|-------------------|-------------------|\n",
    "| book_id   | int64  | Unique ID for each book  |\n",
    "| goodreads_book_id\t   | object  | Unique ID for the most popular edition of each book from the Goodreads Website |\n",
    "| work_id\t   | object  | Unique ID for the aggereagtion of all edition of each book from the Goodreads Website |\n",
    "| authors\t   | object  | The name of all the authors |\n",
    "| original_publication_year   | float64  | The year the original boook was publish   |\n",
    "| title   | object | The title of the book  |\n",
    "| work_ratings_count   | int64  | The number of users rating |\n",
    "| average_rating   | float64  | The average rating  |\n",
    "| language_code  | object | Abbreviated language tag  |\n",
    "\n",
    "\n",
    "#### ratings.csv: Contains 5.97 million user ratings for the books.\n",
    "\n",
    "\n",
    "\n",
    "| Column     | Type    | Description    |\n",
    "|-------------------|-------------------|-------------------|\n",
    "| user_id   | int64  | Unique ID for each user  |\n",
    "| book_id\t   | int64  | Unique ID for each book |\n",
    "| rating   | int64  | Rating from 1 to 5  |\n",
    "\n",
    "\n",
    "#### book_tags.csv: the tags Assigned by users to books and their counts\n",
    "\n",
    "\n",
    "| Column     | Type    | Description    |\n",
    "|-------------------|-------------------|-------------------|\n",
    "| goodreads_book_id  | int64  | Unique ID for each book from the GoodReads Website |\n",
    "| tag_id  | int64 | Unique ID for each tag  |\n",
    "| count   | int64  | The number of users that have assigned the tag  |\n",
    "\n",
    "\n",
    "#### tags.csv: All user-generated tags id and their names\n",
    "\n",
    "\n",
    "| Column     | Type    | Description    |\n",
    "|-------------------|-------------------|-------------------|\n",
    "| tag_id   | int64  | Unique ID for each tag   |\n",
    "| tag_name  | object  | Name of the tag  |\n",
    "\n",
    "Our journey begins with data cleaning, ensuring that our datasets are pristine and ready for exploration. Once the data is prepared, we can dive into the exploratory data analysis, unraveling valuable insights from these datasets and paving the way for the creation of our book recommender system."
   ]
  },
  {
   "cell_type": "code",
   "execution_count": 2,
   "id": "afc4556e-f4a9-4521-bbc1-07bca42e1bf3",
   "metadata": {
    "tags": []
   },
   "outputs": [],
   "source": [
    "# imports usefull libraries\n",
    "import numpy as np\n",
    "import pandas as pd\n",
    "import matplotlib.pyplot as plt\n",
    "import seaborn as sns\n",
    "import matplotlib.dates as mdates"
   ]
  },
  {
   "cell_type": "code",
   "execution_count": 3,
   "id": "c8d429a9-9542-49ea-97c6-574fe30086c4",
   "metadata": {
    "tags": []
   },
   "outputs": [],
   "source": [
    "#loading all dataframes\n",
    "book_df = pd.read_csv('data/books.csv')\n",
    "tags_df = pd.read_csv('data/tags.csv')\n",
    "book_tags_df = pd.read_csv('data/book_tags.csv')\n",
    "ratings_df = pd.read_csv('data/ratings.csv')"
   ]
  },
  {
   "cell_type": "markdown",
   "id": "b95a9d8e-c03f-4ae0-8a65-286baa78a119",
   "metadata": {
    "jp-MarkdownHeadingCollapsed": true,
    "tags": []
   },
   "source": [
    "## Table of Content\n",
    "\n",
    "- [Book Data Frame](#part-1)\n",
    "- [Tags Data Frame](#part-2)\n",
    "- [Book Tags Data Frame](#part-3)\n",
    "- [Rating Data Frame](#part-4)\n"
   ]
  },
  {
   "cell_type": "markdown",
   "id": "2a338933-b6b7-4035-90bf-5e1f487a86ba",
   "metadata": {
    "tags": []
   },
   "source": [
    "## Book Data Frame <a class=\"anchor\" id=\"part-1\"></a>"
   ]
  },
  {
   "cell_type": "markdown",
   "id": "4025c38e-92bb-4109-9108-eaf8090773bf",
   "metadata": {},
   "source": [
    "To begin, let's start by examining the book data to understand its structure, including the shape and data types of each column. We'll also investigate whether any columns contain missing values"
   ]
  },
  {
   "cell_type": "code",
   "execution_count": 4,
   "id": "67fb93c3-4a2c-4813-89da-3e64689735f3",
   "metadata": {
    "tags": []
   },
   "outputs": [
    {
     "data": {
      "text/html": [
       "<div>\n",
       "<style scoped>\n",
       "    .dataframe tbody tr th:only-of-type {\n",
       "        vertical-align: middle;\n",
       "    }\n",
       "\n",
       "    .dataframe tbody tr th {\n",
       "        vertical-align: top;\n",
       "    }\n",
       "\n",
       "    .dataframe thead th {\n",
       "        text-align: right;\n",
       "    }\n",
       "</style>\n",
       "<table border=\"1\" class=\"dataframe\">\n",
       "  <thead>\n",
       "    <tr style=\"text-align: right;\">\n",
       "      <th></th>\n",
       "      <th>book_id</th>\n",
       "      <th>goodreads_book_id</th>\n",
       "      <th>best_book_id</th>\n",
       "      <th>work_id</th>\n",
       "      <th>books_count</th>\n",
       "      <th>isbn</th>\n",
       "      <th>isbn13</th>\n",
       "      <th>authors</th>\n",
       "      <th>original_publication_year</th>\n",
       "      <th>original_title</th>\n",
       "      <th>...</th>\n",
       "      <th>ratings_count</th>\n",
       "      <th>work_ratings_count</th>\n",
       "      <th>work_text_reviews_count</th>\n",
       "      <th>ratings_1</th>\n",
       "      <th>ratings_2</th>\n",
       "      <th>ratings_3</th>\n",
       "      <th>ratings_4</th>\n",
       "      <th>ratings_5</th>\n",
       "      <th>image_url</th>\n",
       "      <th>small_image_url</th>\n",
       "    </tr>\n",
       "  </thead>\n",
       "  <tbody>\n",
       "    <tr>\n",
       "      <th>0</th>\n",
       "      <td>1</td>\n",
       "      <td>2767052</td>\n",
       "      <td>2767052</td>\n",
       "      <td>2792775</td>\n",
       "      <td>272</td>\n",
       "      <td>439023483</td>\n",
       "      <td>9.780439e+12</td>\n",
       "      <td>Suzanne Collins</td>\n",
       "      <td>2008.0</td>\n",
       "      <td>The Hunger Games</td>\n",
       "      <td>...</td>\n",
       "      <td>4780653</td>\n",
       "      <td>4942365</td>\n",
       "      <td>155254</td>\n",
       "      <td>66715</td>\n",
       "      <td>127936</td>\n",
       "      <td>560092</td>\n",
       "      <td>1481305</td>\n",
       "      <td>2706317</td>\n",
       "      <td>https://images.gr-assets.com/books/1447303603m...</td>\n",
       "      <td>https://images.gr-assets.com/books/1447303603s...</td>\n",
       "    </tr>\n",
       "    <tr>\n",
       "      <th>1</th>\n",
       "      <td>2</td>\n",
       "      <td>3</td>\n",
       "      <td>3</td>\n",
       "      <td>4640799</td>\n",
       "      <td>491</td>\n",
       "      <td>439554934</td>\n",
       "      <td>9.780440e+12</td>\n",
       "      <td>J.K. Rowling, Mary GrandPré</td>\n",
       "      <td>1997.0</td>\n",
       "      <td>Harry Potter and the Philosopher's Stone</td>\n",
       "      <td>...</td>\n",
       "      <td>4602479</td>\n",
       "      <td>4800065</td>\n",
       "      <td>75867</td>\n",
       "      <td>75504</td>\n",
       "      <td>101676</td>\n",
       "      <td>455024</td>\n",
       "      <td>1156318</td>\n",
       "      <td>3011543</td>\n",
       "      <td>https://images.gr-assets.com/books/1474154022m...</td>\n",
       "      <td>https://images.gr-assets.com/books/1474154022s...</td>\n",
       "    </tr>\n",
       "    <tr>\n",
       "      <th>2</th>\n",
       "      <td>3</td>\n",
       "      <td>41865</td>\n",
       "      <td>41865</td>\n",
       "      <td>3212258</td>\n",
       "      <td>226</td>\n",
       "      <td>316015849</td>\n",
       "      <td>9.780316e+12</td>\n",
       "      <td>Stephenie Meyer</td>\n",
       "      <td>2005.0</td>\n",
       "      <td>Twilight</td>\n",
       "      <td>...</td>\n",
       "      <td>3866839</td>\n",
       "      <td>3916824</td>\n",
       "      <td>95009</td>\n",
       "      <td>456191</td>\n",
       "      <td>436802</td>\n",
       "      <td>793319</td>\n",
       "      <td>875073</td>\n",
       "      <td>1355439</td>\n",
       "      <td>https://images.gr-assets.com/books/1361039443m...</td>\n",
       "      <td>https://images.gr-assets.com/books/1361039443s...</td>\n",
       "    </tr>\n",
       "    <tr>\n",
       "      <th>3</th>\n",
       "      <td>4</td>\n",
       "      <td>2657</td>\n",
       "      <td>2657</td>\n",
       "      <td>3275794</td>\n",
       "      <td>487</td>\n",
       "      <td>61120081</td>\n",
       "      <td>9.780061e+12</td>\n",
       "      <td>Harper Lee</td>\n",
       "      <td>1960.0</td>\n",
       "      <td>To Kill a Mockingbird</td>\n",
       "      <td>...</td>\n",
       "      <td>3198671</td>\n",
       "      <td>3340896</td>\n",
       "      <td>72586</td>\n",
       "      <td>60427</td>\n",
       "      <td>117415</td>\n",
       "      <td>446835</td>\n",
       "      <td>1001952</td>\n",
       "      <td>1714267</td>\n",
       "      <td>https://images.gr-assets.com/books/1361975680m...</td>\n",
       "      <td>https://images.gr-assets.com/books/1361975680s...</td>\n",
       "    </tr>\n",
       "    <tr>\n",
       "      <th>4</th>\n",
       "      <td>5</td>\n",
       "      <td>4671</td>\n",
       "      <td>4671</td>\n",
       "      <td>245494</td>\n",
       "      <td>1356</td>\n",
       "      <td>743273567</td>\n",
       "      <td>9.780743e+12</td>\n",
       "      <td>F. Scott Fitzgerald</td>\n",
       "      <td>1925.0</td>\n",
       "      <td>The Great Gatsby</td>\n",
       "      <td>...</td>\n",
       "      <td>2683664</td>\n",
       "      <td>2773745</td>\n",
       "      <td>51992</td>\n",
       "      <td>86236</td>\n",
       "      <td>197621</td>\n",
       "      <td>606158</td>\n",
       "      <td>936012</td>\n",
       "      <td>947718</td>\n",
       "      <td>https://images.gr-assets.com/books/1490528560m...</td>\n",
       "      <td>https://images.gr-assets.com/books/1490528560s...</td>\n",
       "    </tr>\n",
       "  </tbody>\n",
       "</table>\n",
       "<p>5 rows × 23 columns</p>\n",
       "</div>"
      ],
      "text/plain": [
       "   book_id  goodreads_book_id  best_book_id  work_id  books_count       isbn  \\\n",
       "0        1            2767052       2767052  2792775          272  439023483   \n",
       "1        2                  3             3  4640799          491  439554934   \n",
       "2        3              41865         41865  3212258          226  316015849   \n",
       "3        4               2657          2657  3275794          487   61120081   \n",
       "4        5               4671          4671   245494         1356  743273567   \n",
       "\n",
       "         isbn13                      authors  original_publication_year  \\\n",
       "0  9.780439e+12              Suzanne Collins                     2008.0   \n",
       "1  9.780440e+12  J.K. Rowling, Mary GrandPré                     1997.0   \n",
       "2  9.780316e+12              Stephenie Meyer                     2005.0   \n",
       "3  9.780061e+12                   Harper Lee                     1960.0   \n",
       "4  9.780743e+12          F. Scott Fitzgerald                     1925.0   \n",
       "\n",
       "                             original_title  ... ratings_count  \\\n",
       "0                          The Hunger Games  ...       4780653   \n",
       "1  Harry Potter and the Philosopher's Stone  ...       4602479   \n",
       "2                                  Twilight  ...       3866839   \n",
       "3                     To Kill a Mockingbird  ...       3198671   \n",
       "4                          The Great Gatsby  ...       2683664   \n",
       "\n",
       "  work_ratings_count  work_text_reviews_count  ratings_1  ratings_2  \\\n",
       "0            4942365                   155254      66715     127936   \n",
       "1            4800065                    75867      75504     101676   \n",
       "2            3916824                    95009     456191     436802   \n",
       "3            3340896                    72586      60427     117415   \n",
       "4            2773745                    51992      86236     197621   \n",
       "\n",
       "   ratings_3  ratings_4  ratings_5  \\\n",
       "0     560092    1481305    2706317   \n",
       "1     455024    1156318    3011543   \n",
       "2     793319     875073    1355439   \n",
       "3     446835    1001952    1714267   \n",
       "4     606158     936012     947718   \n",
       "\n",
       "                                           image_url  \\\n",
       "0  https://images.gr-assets.com/books/1447303603m...   \n",
       "1  https://images.gr-assets.com/books/1474154022m...   \n",
       "2  https://images.gr-assets.com/books/1361039443m...   \n",
       "3  https://images.gr-assets.com/books/1361975680m...   \n",
       "4  https://images.gr-assets.com/books/1490528560m...   \n",
       "\n",
       "                                     small_image_url  \n",
       "0  https://images.gr-assets.com/books/1447303603s...  \n",
       "1  https://images.gr-assets.com/books/1474154022s...  \n",
       "2  https://images.gr-assets.com/books/1361039443s...  \n",
       "3  https://images.gr-assets.com/books/1361975680s...  \n",
       "4  https://images.gr-assets.com/books/1490528560s...  \n",
       "\n",
       "[5 rows x 23 columns]"
      ]
     },
     "execution_count": 4,
     "metadata": {},
     "output_type": "execute_result"
    }
   ],
   "source": [
    "book_df.head()"
   ]
  },
  {
   "cell_type": "code",
   "execution_count": 5,
   "id": "a2fa0077-04f2-4138-a26d-6e625cf09d61",
   "metadata": {
    "tags": []
   },
   "outputs": [
    {
     "name": "stdout",
     "output_type": "stream",
     "text": [
      "Book Data Frame has 10000 rows and 23 columns\n"
     ]
    }
   ],
   "source": [
    "#check size\n",
    "b_rown, b_coln = book_df.shape\n",
    "print(f'Book Data Frame has {b_rown} rows and {b_coln} columns')"
   ]
  },
  {
   "cell_type": "code",
   "execution_count": 6,
   "id": "b3da2bbb-65e8-4aa3-ada9-dc51f8874a1a",
   "metadata": {
    "tags": []
   },
   "outputs": [
    {
     "name": "stdout",
     "output_type": "stream",
     "text": [
      "<class 'pandas.core.frame.DataFrame'>\n",
      "RangeIndex: 10000 entries, 0 to 9999\n",
      "Data columns (total 23 columns):\n",
      " #   Column                     Non-Null Count  Dtype  \n",
      "---  ------                     --------------  -----  \n",
      " 0   book_id                    10000 non-null  int64  \n",
      " 1   goodreads_book_id          10000 non-null  int64  \n",
      " 2   best_book_id               10000 non-null  int64  \n",
      " 3   work_id                    10000 non-null  int64  \n",
      " 4   books_count                10000 non-null  int64  \n",
      " 5   isbn                       9300 non-null   object \n",
      " 6   isbn13                     9415 non-null   float64\n",
      " 7   authors                    10000 non-null  object \n",
      " 8   original_publication_year  9979 non-null   float64\n",
      " 9   original_title             9415 non-null   object \n",
      " 10  title                      10000 non-null  object \n",
      " 11  language_code              8916 non-null   object \n",
      " 12  average_rating             10000 non-null  float64\n",
      " 13  ratings_count              10000 non-null  int64  \n",
      " 14  work_ratings_count         10000 non-null  int64  \n",
      " 15  work_text_reviews_count    10000 non-null  int64  \n",
      " 16  ratings_1                  10000 non-null  int64  \n",
      " 17  ratings_2                  10000 non-null  int64  \n",
      " 18  ratings_3                  10000 non-null  int64  \n",
      " 19  ratings_4                  10000 non-null  int64  \n",
      " 20  ratings_5                  10000 non-null  int64  \n",
      " 21  image_url                  10000 non-null  object \n",
      " 22  small_image_url            10000 non-null  object \n",
      "dtypes: float64(3), int64(13), object(7)\n",
      "memory usage: 1.8+ MB\n"
     ]
    }
   ],
   "source": [
    "# Check column name and dat type\n",
    "book_df.info()"
   ]
  },
  {
   "cell_type": "code",
   "execution_count": 7,
   "id": "2e4b088d-327e-4085-acb0-dd1ba28c06f1",
   "metadata": {
    "tags": []
   },
   "outputs": [
    {
     "data": {
      "text/plain": [
       "book_id                       0.00\n",
       "goodreads_book_id             0.00\n",
       "best_book_id                  0.00\n",
       "work_id                       0.00\n",
       "books_count                   0.00\n",
       "isbn                          7.00\n",
       "isbn13                        5.85\n",
       "authors                       0.00\n",
       "original_publication_year     0.21\n",
       "original_title                5.85\n",
       "title                         0.00\n",
       "language_code                10.84\n",
       "average_rating                0.00\n",
       "ratings_count                 0.00\n",
       "work_ratings_count            0.00\n",
       "work_text_reviews_count       0.00\n",
       "ratings_1                     0.00\n",
       "ratings_2                     0.00\n",
       "ratings_3                     0.00\n",
       "ratings_4                     0.00\n",
       "ratings_5                     0.00\n",
       "image_url                     0.00\n",
       "small_image_url               0.00\n",
       "dtype: float64"
      ]
     },
     "execution_count": 7,
     "metadata": {},
     "output_type": "execute_result"
    }
   ],
   "source": [
    "# check the percent of missing values in each column\n",
    "book_df.isna().sum()/b_rown *100"
   ]
  },
  {
   "cell_type": "markdown",
   "id": "7426d20f-3218-4086-ae40-dfd5901edb4e",
   "metadata": {},
   "source": [
    "We can observe that several columns contain missing values, with `original_title` missing approximately 5% of the data. However, it's worth noting that we already have another column, `title`, which provides the same information. As a result, it's logical to drop the `original_title` column to streamline our dataset.\n",
    "\n",
    "Furthermore, we identify a few additional columns that contain links to images of the books. Given that these image links may not be directly relevant to our primary goal we can safely drop these columns as well."
   ]
  },
  {
   "cell_type": "code",
   "execution_count": 8,
   "id": "c4f4d070-36f0-4a82-a732-04879f3cc7a8",
   "metadata": {
    "tags": []
   },
   "outputs": [
    {
     "data": {
      "text/html": [
       "<div>\n",
       "<style scoped>\n",
       "    .dataframe tbody tr th:only-of-type {\n",
       "        vertical-align: middle;\n",
       "    }\n",
       "\n",
       "    .dataframe tbody tr th {\n",
       "        vertical-align: top;\n",
       "    }\n",
       "\n",
       "    .dataframe thead th {\n",
       "        text-align: right;\n",
       "    }\n",
       "</style>\n",
       "<table border=\"1\" class=\"dataframe\">\n",
       "  <thead>\n",
       "    <tr style=\"text-align: right;\">\n",
       "      <th></th>\n",
       "      <th>book_id</th>\n",
       "      <th>goodreads_book_id</th>\n",
       "      <th>best_book_id</th>\n",
       "      <th>work_id</th>\n",
       "      <th>books_count</th>\n",
       "      <th>isbn</th>\n",
       "      <th>isbn13</th>\n",
       "      <th>authors</th>\n",
       "      <th>original_publication_year</th>\n",
       "      <th>title</th>\n",
       "      <th>language_code</th>\n",
       "      <th>average_rating</th>\n",
       "      <th>ratings_count</th>\n",
       "      <th>work_ratings_count</th>\n",
       "      <th>work_text_reviews_count</th>\n",
       "      <th>ratings_1</th>\n",
       "      <th>ratings_2</th>\n",
       "      <th>ratings_3</th>\n",
       "      <th>ratings_4</th>\n",
       "      <th>ratings_5</th>\n",
       "    </tr>\n",
       "  </thead>\n",
       "  <tbody>\n",
       "    <tr>\n",
       "      <th>0</th>\n",
       "      <td>1</td>\n",
       "      <td>2767052</td>\n",
       "      <td>2767052</td>\n",
       "      <td>2792775</td>\n",
       "      <td>272</td>\n",
       "      <td>439023483</td>\n",
       "      <td>9.780439e+12</td>\n",
       "      <td>Suzanne Collins</td>\n",
       "      <td>2008.0</td>\n",
       "      <td>The Hunger Games (The Hunger Games, #1)</td>\n",
       "      <td>eng</td>\n",
       "      <td>4.34</td>\n",
       "      <td>4780653</td>\n",
       "      <td>4942365</td>\n",
       "      <td>155254</td>\n",
       "      <td>66715</td>\n",
       "      <td>127936</td>\n",
       "      <td>560092</td>\n",
       "      <td>1481305</td>\n",
       "      <td>2706317</td>\n",
       "    </tr>\n",
       "    <tr>\n",
       "      <th>1</th>\n",
       "      <td>2</td>\n",
       "      <td>3</td>\n",
       "      <td>3</td>\n",
       "      <td>4640799</td>\n",
       "      <td>491</td>\n",
       "      <td>439554934</td>\n",
       "      <td>9.780440e+12</td>\n",
       "      <td>J.K. Rowling, Mary GrandPré</td>\n",
       "      <td>1997.0</td>\n",
       "      <td>Harry Potter and the Sorcerer's Stone (Harry P...</td>\n",
       "      <td>eng</td>\n",
       "      <td>4.44</td>\n",
       "      <td>4602479</td>\n",
       "      <td>4800065</td>\n",
       "      <td>75867</td>\n",
       "      <td>75504</td>\n",
       "      <td>101676</td>\n",
       "      <td>455024</td>\n",
       "      <td>1156318</td>\n",
       "      <td>3011543</td>\n",
       "    </tr>\n",
       "    <tr>\n",
       "      <th>2</th>\n",
       "      <td>3</td>\n",
       "      <td>41865</td>\n",
       "      <td>41865</td>\n",
       "      <td>3212258</td>\n",
       "      <td>226</td>\n",
       "      <td>316015849</td>\n",
       "      <td>9.780316e+12</td>\n",
       "      <td>Stephenie Meyer</td>\n",
       "      <td>2005.0</td>\n",
       "      <td>Twilight (Twilight, #1)</td>\n",
       "      <td>en-US</td>\n",
       "      <td>3.57</td>\n",
       "      <td>3866839</td>\n",
       "      <td>3916824</td>\n",
       "      <td>95009</td>\n",
       "      <td>456191</td>\n",
       "      <td>436802</td>\n",
       "      <td>793319</td>\n",
       "      <td>875073</td>\n",
       "      <td>1355439</td>\n",
       "    </tr>\n",
       "    <tr>\n",
       "      <th>3</th>\n",
       "      <td>4</td>\n",
       "      <td>2657</td>\n",
       "      <td>2657</td>\n",
       "      <td>3275794</td>\n",
       "      <td>487</td>\n",
       "      <td>61120081</td>\n",
       "      <td>9.780061e+12</td>\n",
       "      <td>Harper Lee</td>\n",
       "      <td>1960.0</td>\n",
       "      <td>To Kill a Mockingbird</td>\n",
       "      <td>eng</td>\n",
       "      <td>4.25</td>\n",
       "      <td>3198671</td>\n",
       "      <td>3340896</td>\n",
       "      <td>72586</td>\n",
       "      <td>60427</td>\n",
       "      <td>117415</td>\n",
       "      <td>446835</td>\n",
       "      <td>1001952</td>\n",
       "      <td>1714267</td>\n",
       "    </tr>\n",
       "    <tr>\n",
       "      <th>4</th>\n",
       "      <td>5</td>\n",
       "      <td>4671</td>\n",
       "      <td>4671</td>\n",
       "      <td>245494</td>\n",
       "      <td>1356</td>\n",
       "      <td>743273567</td>\n",
       "      <td>9.780743e+12</td>\n",
       "      <td>F. Scott Fitzgerald</td>\n",
       "      <td>1925.0</td>\n",
       "      <td>The Great Gatsby</td>\n",
       "      <td>eng</td>\n",
       "      <td>3.89</td>\n",
       "      <td>2683664</td>\n",
       "      <td>2773745</td>\n",
       "      <td>51992</td>\n",
       "      <td>86236</td>\n",
       "      <td>197621</td>\n",
       "      <td>606158</td>\n",
       "      <td>936012</td>\n",
       "      <td>947718</td>\n",
       "    </tr>\n",
       "  </tbody>\n",
       "</table>\n",
       "</div>"
      ],
      "text/plain": [
       "   book_id  goodreads_book_id  best_book_id  work_id  books_count       isbn  \\\n",
       "0        1            2767052       2767052  2792775          272  439023483   \n",
       "1        2                  3             3  4640799          491  439554934   \n",
       "2        3              41865         41865  3212258          226  316015849   \n",
       "3        4               2657          2657  3275794          487   61120081   \n",
       "4        5               4671          4671   245494         1356  743273567   \n",
       "\n",
       "         isbn13                      authors  original_publication_year  \\\n",
       "0  9.780439e+12              Suzanne Collins                     2008.0   \n",
       "1  9.780440e+12  J.K. Rowling, Mary GrandPré                     1997.0   \n",
       "2  9.780316e+12              Stephenie Meyer                     2005.0   \n",
       "3  9.780061e+12                   Harper Lee                     1960.0   \n",
       "4  9.780743e+12          F. Scott Fitzgerald                     1925.0   \n",
       "\n",
       "                                               title language_code  \\\n",
       "0            The Hunger Games (The Hunger Games, #1)           eng   \n",
       "1  Harry Potter and the Sorcerer's Stone (Harry P...           eng   \n",
       "2                            Twilight (Twilight, #1)         en-US   \n",
       "3                              To Kill a Mockingbird           eng   \n",
       "4                                   The Great Gatsby           eng   \n",
       "\n",
       "   average_rating  ratings_count  work_ratings_count  work_text_reviews_count  \\\n",
       "0            4.34        4780653             4942365                   155254   \n",
       "1            4.44        4602479             4800065                    75867   \n",
       "2            3.57        3866839             3916824                    95009   \n",
       "3            4.25        3198671             3340896                    72586   \n",
       "4            3.89        2683664             2773745                    51992   \n",
       "\n",
       "   ratings_1  ratings_2  ratings_3  ratings_4  ratings_5  \n",
       "0      66715     127936     560092    1481305    2706317  \n",
       "1      75504     101676     455024    1156318    3011543  \n",
       "2     456191     436802     793319     875073    1355439  \n",
       "3      60427     117415     446835    1001952    1714267  \n",
       "4      86236     197621     606158     936012     947718  "
      ]
     },
     "execution_count": 8,
     "metadata": {},
     "output_type": "execute_result"
    }
   ],
   "source": [
    "# drop column with redudna t information\n",
    "book_df.drop(columns=['original_title','image_url','small_image_url'],inplace = True)\n",
    "book_df.head()"
   ]
  },
  {
   "cell_type": "markdown",
   "id": "fc01fde3-2025-44d9-9af0-d0571ba27914",
   "metadata": {},
   "source": [
    "Our next column with missing values is `language_code`, where just over 10% of its values are missing. I was able to find an online source that provides a complete dataset for this specific column. With this additional data source in hand, I can confidently fill in the missing values within the `language_code` column."
   ]
  },
  {
   "cell_type": "code",
   "execution_count": 9,
   "id": "22d9783c-e89f-4600-ad4a-231338cf592d",
   "metadata": {
    "tags": []
   },
   "outputs": [
    {
     "name": "stdout",
     "output_type": "stream",
     "text": [
      "<class 'pandas.core.frame.DataFrame'>\n",
      "Int64Index: 10000 entries, 0 to 9999\n",
      "Data columns (total 20 columns):\n",
      " #   Column                     Non-Null Count  Dtype  \n",
      "---  ------                     --------------  -----  \n",
      " 0   book_id                    10000 non-null  int64  \n",
      " 1   goodreads_book_id          10000 non-null  int64  \n",
      " 2   best_book_id               10000 non-null  int64  \n",
      " 3   work_id                    10000 non-null  int64  \n",
      " 4   books_count                10000 non-null  int64  \n",
      " 5   isbn                       9300 non-null   object \n",
      " 6   isbn13                     9415 non-null   float64\n",
      " 7   authors                    10000 non-null  object \n",
      " 8   original_publication_year  9979 non-null   float64\n",
      " 9   title                      10000 non-null  object \n",
      " 10  average_rating             10000 non-null  float64\n",
      " 11  ratings_count              10000 non-null  int64  \n",
      " 12  work_ratings_count         10000 non-null  int64  \n",
      " 13  work_text_reviews_count    10000 non-null  int64  \n",
      " 14  ratings_1                  10000 non-null  int64  \n",
      " 15  ratings_2                  10000 non-null  int64  \n",
      " 16  ratings_3                  10000 non-null  int64  \n",
      " 17  ratings_4                  10000 non-null  int64  \n",
      " 18  ratings_5                  10000 non-null  int64  \n",
      " 19  language_code              10000 non-null  object \n",
      "dtypes: float64(3), int64(13), object(4)\n",
      "memory usage: 1.6+ MB\n"
     ]
    }
   ],
   "source": [
    "# replaces language column with a copy with the filled data\n",
    "booke_df = pd.read_csv('data/books_enriched.csv', index_col=[0])\n",
    "book_df.drop(columns=['language_code'],inplace = True)\n",
    "book_df = pd.merge(book_df, booke_df[['book_id','language_code']] ,on ='book_id',how = 'left')\n",
    "book_df.info()"
   ]
  },
  {
   "cell_type": "markdown",
   "id": "a48d6598-e3b8-44a9-ae8e-fa4ed7b9a5f7",
   "metadata": {},
   "source": [
    "Our next column with missing values is `original_publication_year` which has just 21 missing values. Given this relatively small number of missing entries. By using the `goodreads_book_id`, I can access the Goodreads website to retrieve the publication year for each of these missing entries."
   ]
  },
  {
   "cell_type": "code",
   "execution_count": 10,
   "id": "87085e00-f0be-4c8c-8838-93123522d2df",
   "metadata": {
    "tags": []
   },
   "outputs": [
    {
     "data": {
      "text/html": [
       "<div>\n",
       "<style scoped>\n",
       "    .dataframe tbody tr th:only-of-type {\n",
       "        vertical-align: middle;\n",
       "    }\n",
       "\n",
       "    .dataframe tbody tr th {\n",
       "        vertical-align: top;\n",
       "    }\n",
       "\n",
       "    .dataframe thead th {\n",
       "        text-align: right;\n",
       "    }\n",
       "</style>\n",
       "<table border=\"1\" class=\"dataframe\">\n",
       "  <thead>\n",
       "    <tr style=\"text-align: right;\">\n",
       "      <th></th>\n",
       "      <th>book_id</th>\n",
       "      <th>goodreads_book_id</th>\n",
       "      <th>authors</th>\n",
       "      <th>title</th>\n",
       "    </tr>\n",
       "  </thead>\n",
       "  <tbody>\n",
       "    <tr>\n",
       "      <th>219</th>\n",
       "      <td>220</td>\n",
       "      <td>3609760</td>\n",
       "      <td>Mark Cotta Vaz</td>\n",
       "      <td>Twilight: The Complete Illustrated Movie Compa...</td>\n",
       "    </tr>\n",
       "    <tr>\n",
       "      <th>975</th>\n",
       "      <td>976</td>\n",
       "      <td>90072</td>\n",
       "      <td>Robert Kapilow, Dr. Seuss</td>\n",
       "      <td>Dr. Seuss's Green Eggs and Ham: For Soprano, B...</td>\n",
       "    </tr>\n",
       "    <tr>\n",
       "      <th>3505</th>\n",
       "      <td>3506</td>\n",
       "      <td>856917</td>\n",
       "      <td>Yuu Watase</td>\n",
       "      <td>Absolute Boyfriend, Vol. 1</td>\n",
       "    </tr>\n",
       "    <tr>\n",
       "      <th>4228</th>\n",
       "      <td>4229</td>\n",
       "      <td>36</td>\n",
       "      <td>Chris   Smith, Christopher Lee, Richard Taylor</td>\n",
       "      <td>The Lord of the Rings: Weapons and Warfare</td>\n",
       "    </tr>\n",
       "    <tr>\n",
       "      <th>4247</th>\n",
       "      <td>4248</td>\n",
       "      <td>8724779</td>\n",
       "      <td>P.C. Cast, Kristin Cast</td>\n",
       "      <td>Marked / Betrayed / Chosen / Untamed / Hunted ...</td>\n",
       "    </tr>\n",
       "    <tr>\n",
       "      <th>4409</th>\n",
       "      <td>4410</td>\n",
       "      <td>349254</td>\n",
       "      <td>Jude Fisher</td>\n",
       "      <td>The Lord of the Rings: The Return of the King:...</td>\n",
       "    </tr>\n",
       "    <tr>\n",
       "      <th>4707</th>\n",
       "      <td>4708</td>\n",
       "      <td>9832370</td>\n",
       "      <td>BookRags</td>\n",
       "      <td>BookRags Summary:  A Storm of Swords</td>\n",
       "    </tr>\n",
       "    <tr>\n",
       "      <th>4770</th>\n",
       "      <td>4771</td>\n",
       "      <td>5171894</td>\n",
       "      <td>James Rollins</td>\n",
       "      <td>The Doomsday Key (Sigma Force, #6)</td>\n",
       "    </tr>\n",
       "    <tr>\n",
       "      <th>4877</th>\n",
       "      <td>4878</td>\n",
       "      <td>17733861</td>\n",
       "      <td>Bella Forrest</td>\n",
       "      <td>A Shade of Blood (A Shade of Vampire, #2)</td>\n",
       "    </tr>\n",
       "    <tr>\n",
       "      <th>5609</th>\n",
       "      <td>5610</td>\n",
       "      <td>1044141</td>\n",
       "      <td>Stephen R. Covey</td>\n",
       "      <td>The 8th Habit: From Effectiveness to Greatness</td>\n",
       "    </tr>\n",
       "    <tr>\n",
       "      <th>5871</th>\n",
       "      <td>5872</td>\n",
       "      <td>9748274</td>\n",
       "      <td>Charles Dickens</td>\n",
       "      <td>A Tale of Two Cities / Great Expectations</td>\n",
       "    </tr>\n",
       "    <tr>\n",
       "      <th>6428</th>\n",
       "      <td>6429</td>\n",
       "      <td>48811</td>\n",
       "      <td>Carolyn Keene</td>\n",
       "      <td>Nancy Drew: #1-64</td>\n",
       "    </tr>\n",
       "    <tr>\n",
       "      <th>7190</th>\n",
       "      <td>7191</td>\n",
       "      <td>9528186</td>\n",
       "      <td>Lambert M. Surhone</td>\n",
       "      <td>Pretty Little Liars (TV Series)</td>\n",
       "    </tr>\n",
       "    <tr>\n",
       "      <th>7215</th>\n",
       "      <td>7216</td>\n",
       "      <td>809849</td>\n",
       "      <td>Rod Campbell</td>\n",
       "      <td>Dear Zoo: A Lift-the-Flap Book</td>\n",
       "    </tr>\n",
       "    <tr>\n",
       "      <th>7416</th>\n",
       "      <td>7417</td>\n",
       "      <td>765148</td>\n",
       "      <td>Giles Andreae, Guy Parker-Rees</td>\n",
       "      <td>Giraffes Can't Dance</td>\n",
       "    </tr>\n",
       "    <tr>\n",
       "      <th>7645</th>\n",
       "      <td>7646</td>\n",
       "      <td>197436</td>\n",
       "      <td>Gloria Levine</td>\n",
       "      <td>Ralph S. Mouse by Beverly Cleary: Teacher Guid...</td>\n",
       "    </tr>\n",
       "    <tr>\n",
       "      <th>8476</th>\n",
       "      <td>8477</td>\n",
       "      <td>351023</td>\n",
       "      <td>Jill Murphy</td>\n",
       "      <td>The Worst Witch (Worst Witch, #1)</td>\n",
       "    </tr>\n",
       "    <tr>\n",
       "      <th>9196</th>\n",
       "      <td>9197</td>\n",
       "      <td>11318</td>\n",
       "      <td>Raymond Chandler</td>\n",
       "      <td>Trouble Is My Business</td>\n",
       "    </tr>\n",
       "    <tr>\n",
       "      <th>9510</th>\n",
       "      <td>9511</td>\n",
       "      <td>6054190</td>\n",
       "      <td>Jane Green</td>\n",
       "      <td>Dune Road</td>\n",
       "    </tr>\n",
       "    <tr>\n",
       "      <th>9533</th>\n",
       "      <td>9534</td>\n",
       "      <td>1056627</td>\n",
       "      <td>Joel Osteen</td>\n",
       "      <td>Become a Better You: 7 Keys to Improving Your ...</td>\n",
       "    </tr>\n",
       "    <tr>\n",
       "      <th>9928</th>\n",
       "      <td>9929</td>\n",
       "      <td>6614886</td>\n",
       "      <td>أحمد خالد توفيق</td>\n",
       "      <td>زغازيغ</td>\n",
       "    </tr>\n",
       "  </tbody>\n",
       "</table>\n",
       "</div>"
      ],
      "text/plain": [
       "      book_id  goodreads_book_id  \\\n",
       "219       220            3609760   \n",
       "975       976              90072   \n",
       "3505     3506             856917   \n",
       "4228     4229                 36   \n",
       "4247     4248            8724779   \n",
       "4409     4410             349254   \n",
       "4707     4708            9832370   \n",
       "4770     4771            5171894   \n",
       "4877     4878           17733861   \n",
       "5609     5610            1044141   \n",
       "5871     5872            9748274   \n",
       "6428     6429              48811   \n",
       "7190     7191            9528186   \n",
       "7215     7216             809849   \n",
       "7416     7417             765148   \n",
       "7645     7646             197436   \n",
       "8476     8477             351023   \n",
       "9196     9197              11318   \n",
       "9510     9511            6054190   \n",
       "9533     9534            1056627   \n",
       "9928     9929            6614886   \n",
       "\n",
       "                                             authors  \\\n",
       "219                                   Mark Cotta Vaz   \n",
       "975                        Robert Kapilow, Dr. Seuss   \n",
       "3505                                      Yuu Watase   \n",
       "4228  Chris   Smith, Christopher Lee, Richard Taylor   \n",
       "4247                         P.C. Cast, Kristin Cast   \n",
       "4409                                     Jude Fisher   \n",
       "4707                                        BookRags   \n",
       "4770                                   James Rollins   \n",
       "4877                                   Bella Forrest   \n",
       "5609                                Stephen R. Covey   \n",
       "5871                                 Charles Dickens   \n",
       "6428                                   Carolyn Keene   \n",
       "7190                              Lambert M. Surhone   \n",
       "7215                                    Rod Campbell   \n",
       "7416                  Giles Andreae, Guy Parker-Rees   \n",
       "7645                                   Gloria Levine   \n",
       "8476                                     Jill Murphy   \n",
       "9196                                Raymond Chandler   \n",
       "9510                                      Jane Green   \n",
       "9533                                     Joel Osteen   \n",
       "9928                                 أحمد خالد توفيق   \n",
       "\n",
       "                                                  title  \n",
       "219   Twilight: The Complete Illustrated Movie Compa...  \n",
       "975   Dr. Seuss's Green Eggs and Ham: For Soprano, B...  \n",
       "3505                         Absolute Boyfriend, Vol. 1  \n",
       "4228         The Lord of the Rings: Weapons and Warfare  \n",
       "4247  Marked / Betrayed / Chosen / Untamed / Hunted ...  \n",
       "4409  The Lord of the Rings: The Return of the King:...  \n",
       "4707               BookRags Summary:  A Storm of Swords  \n",
       "4770                 The Doomsday Key (Sigma Force, #6)  \n",
       "4877          A Shade of Blood (A Shade of Vampire, #2)  \n",
       "5609     The 8th Habit: From Effectiveness to Greatness  \n",
       "5871          A Tale of Two Cities / Great Expectations  \n",
       "6428                                  Nancy Drew: #1-64  \n",
       "7190                    Pretty Little Liars (TV Series)  \n",
       "7215                     Dear Zoo: A Lift-the-Flap Book  \n",
       "7416                               Giraffes Can't Dance  \n",
       "7645  Ralph S. Mouse by Beverly Cleary: Teacher Guid...  \n",
       "8476                  The Worst Witch (Worst Witch, #1)  \n",
       "9196                             Trouble Is My Business  \n",
       "9510                                          Dune Road  \n",
       "9533  Become a Better You: 7 Keys to Improving Your ...  \n",
       "9928                                             زغازيغ  "
      ]
     },
     "execution_count": 10,
     "metadata": {},
     "output_type": "execute_result"
    }
   ],
   "source": [
    "# check the info of the book with missing year\n",
    "book_df[book_df['original_publication_year'].isna()][['book_id','goodreads_book_id','authors','title']]"
   ]
  },
  {
   "cell_type": "code",
   "execution_count": 11,
   "id": "9bbc4a98-77de-4287-8828-e81c4e90098a",
   "metadata": {
    "tags": []
   },
   "outputs": [
    {
     "data": {
      "text/plain": [
       "0"
      ]
     },
     "execution_count": 11,
     "metadata": {},
     "output_type": "execute_result"
    }
   ],
   "source": [
    "# manually adding the missing year\n",
    "book_df.loc[219,'original_publication_year'] = 2008\n",
    "book_df.loc[975,'original_publication_year'] = 1996\n",
    "book_df.loc[3505,'original_publication_year'] = 2003\n",
    "book_df.loc[4228,'original_publication_year'] = 2003\n",
    "book_df.loc[4247,'original_publication_year'] = 2009\n",
    "book_df.loc[4409,'original_publication_year'] = 2003\n",
    "book_df.loc[4707,'original_publication_year'] = 2010\n",
    "book_df.loc[4770,'original_publication_year'] = 2009\n",
    "book_df.loc[4877,'original_publication_year'] = 2013\n",
    "book_df.loc[5609,'original_publication_year'] = 2004\n",
    "book_df.loc[5871,'original_publication_year'] = 1858\n",
    "book_df.loc[6428,'original_publication_year'] = 2006\n",
    "book_df.loc[7190,'original_publication_year'] = 2010\n",
    "book_df.loc[7215,'original_publication_year'] = 1982\n",
    "book_df.loc[7416,'original_publication_year'] = 2012\n",
    "book_df.loc[7645,'original_publication_year'] = 2000\n",
    "book_df.loc[8476,'original_publication_year'] = 1974\n",
    "book_df.loc[9196,'original_publication_year'] = 1939\n",
    "book_df.loc[9510,'original_publication_year'] = 2009\n",
    "book_df.loc[9533,'original_publication_year'] = 2007\n",
    "book_df.loc[9928,'original_publication_year'] = 2009\n",
    "\n",
    "# checking for no missing values\n",
    "book_df['original_publication_year'].isna().sum()"
   ]
  },
  {
   "cell_type": "markdown",
   "id": "eeb71ec1-98b2-4d16-af6c-898a73a58274",
   "metadata": {},
   "source": [
    "Our last two columns with missing values are `isbn` and `isbn13`, with approximately 7% and 5% of their values missing, respectively. These columns provide unique codes assigned to each book, with 'isbn13' essentially incorporating an additional three digits at the beginning of the old 'isbn' code. The substantial amount of missing values in both columns makes manual filling impractical. Fortunately, we already possess other identifiers that we can utilize to identify the books via the Goodreads website. As such, we can drop both of these columns."
   ]
  },
  {
   "cell_type": "code",
   "execution_count": 12,
   "id": "dc1220f3-4046-496b-9e8b-f2225ba7dfd9",
   "metadata": {
    "tags": []
   },
   "outputs": [
    {
     "name": "stdout",
     "output_type": "stream",
     "text": [
      "<class 'pandas.core.frame.DataFrame'>\n",
      "Int64Index: 10000 entries, 0 to 9999\n",
      "Data columns (total 18 columns):\n",
      " #   Column                     Non-Null Count  Dtype  \n",
      "---  ------                     --------------  -----  \n",
      " 0   book_id                    10000 non-null  int64  \n",
      " 1   goodreads_book_id          10000 non-null  int64  \n",
      " 2   best_book_id               10000 non-null  int64  \n",
      " 3   work_id                    10000 non-null  int64  \n",
      " 4   books_count                10000 non-null  int64  \n",
      " 5   authors                    10000 non-null  object \n",
      " 6   original_publication_year  10000 non-null  float64\n",
      " 7   title                      10000 non-null  object \n",
      " 8   average_rating             10000 non-null  float64\n",
      " 9   ratings_count              10000 non-null  int64  \n",
      " 10  work_ratings_count         10000 non-null  int64  \n",
      " 11  work_text_reviews_count    10000 non-null  int64  \n",
      " 12  ratings_1                  10000 non-null  int64  \n",
      " 13  ratings_2                  10000 non-null  int64  \n",
      " 14  ratings_3                  10000 non-null  int64  \n",
      " 15  ratings_4                  10000 non-null  int64  \n",
      " 16  ratings_5                  10000 non-null  int64  \n",
      " 17  language_code              10000 non-null  object \n",
      "dtypes: float64(2), int64(13), object(3)\n",
      "memory usage: 1.7+ MB\n"
     ]
    }
   ],
   "source": [
    "#drop missing columns\n",
    "book_df.drop(columns=['isbn13','isbn'],inplace = True)\n",
    "book_df.info()"
   ]
  },
  {
   "cell_type": "markdown",
   "id": "ac963de9-ce4b-4b93-8f64-269d68473d60",
   "metadata": {},
   "source": [
    "With all null values addressed, we can now proceed to the final step, which involves checking for duplicates before transitioning to the exploratory phase."
   ]
  },
  {
   "cell_type": "code",
   "execution_count": 13,
   "id": "fca3fdde-5e8e-486b-aa0b-f355b4b84b21",
   "metadata": {
    "tags": []
   },
   "outputs": [
    {
     "data": {
      "text/plain": [
       "0"
      ]
     },
     "execution_count": 13,
     "metadata": {},
     "output_type": "execute_result"
    }
   ],
   "source": [
    "book_df.duplicated().sum()"
   ]
  },
  {
   "cell_type": "code",
   "execution_count": 14,
   "id": "31654d40-4c91-4e30-b776-abfe1095908b",
   "metadata": {
    "tags": []
   },
   "outputs": [
    {
     "data": {
      "text/html": [
       "<div>\n",
       "<style scoped>\n",
       "    .dataframe tbody tr th:only-of-type {\n",
       "        vertical-align: middle;\n",
       "    }\n",
       "\n",
       "    .dataframe tbody tr th {\n",
       "        vertical-align: top;\n",
       "    }\n",
       "\n",
       "    .dataframe thead th {\n",
       "        text-align: right;\n",
       "    }\n",
       "</style>\n",
       "<table border=\"1\" class=\"dataframe\">\n",
       "  <thead>\n",
       "    <tr style=\"text-align: right;\">\n",
       "      <th></th>\n",
       "      <th>book_id</th>\n",
       "      <th>goodreads_book_id</th>\n",
       "      <th>best_book_id</th>\n",
       "      <th>work_id</th>\n",
       "      <th>books_count</th>\n",
       "      <th>authors</th>\n",
       "      <th>original_publication_year</th>\n",
       "      <th>title</th>\n",
       "      <th>average_rating</th>\n",
       "      <th>ratings_count</th>\n",
       "      <th>work_ratings_count</th>\n",
       "      <th>work_text_reviews_count</th>\n",
       "      <th>ratings_1</th>\n",
       "      <th>ratings_2</th>\n",
       "      <th>ratings_3</th>\n",
       "      <th>ratings_4</th>\n",
       "      <th>ratings_5</th>\n",
       "      <th>language_code</th>\n",
       "    </tr>\n",
       "  </thead>\n",
       "  <tbody>\n",
       "    <tr>\n",
       "      <th>0</th>\n",
       "      <td>1</td>\n",
       "      <td>2767052</td>\n",
       "      <td>2767052</td>\n",
       "      <td>2792775</td>\n",
       "      <td>272</td>\n",
       "      <td>Suzanne Collins</td>\n",
       "      <td>2008.0</td>\n",
       "      <td>The Hunger Games (The Hunger Games, #1)</td>\n",
       "      <td>4.34</td>\n",
       "      <td>4780653</td>\n",
       "      <td>4942365</td>\n",
       "      <td>155254</td>\n",
       "      <td>66715</td>\n",
       "      <td>127936</td>\n",
       "      <td>560092</td>\n",
       "      <td>1481305</td>\n",
       "      <td>2706317</td>\n",
       "      <td>eng</td>\n",
       "    </tr>\n",
       "    <tr>\n",
       "      <th>1</th>\n",
       "      <td>2</td>\n",
       "      <td>3</td>\n",
       "      <td>3</td>\n",
       "      <td>4640799</td>\n",
       "      <td>491</td>\n",
       "      <td>J.K. Rowling, Mary GrandPré</td>\n",
       "      <td>1997.0</td>\n",
       "      <td>Harry Potter and the Sorcerer's Stone (Harry P...</td>\n",
       "      <td>4.44</td>\n",
       "      <td>4602479</td>\n",
       "      <td>4800065</td>\n",
       "      <td>75867</td>\n",
       "      <td>75504</td>\n",
       "      <td>101676</td>\n",
       "      <td>455024</td>\n",
       "      <td>1156318</td>\n",
       "      <td>3011543</td>\n",
       "      <td>eng</td>\n",
       "    </tr>\n",
       "    <tr>\n",
       "      <th>2</th>\n",
       "      <td>3</td>\n",
       "      <td>41865</td>\n",
       "      <td>41865</td>\n",
       "      <td>3212258</td>\n",
       "      <td>226</td>\n",
       "      <td>Stephenie Meyer</td>\n",
       "      <td>2005.0</td>\n",
       "      <td>Twilight (Twilight, #1)</td>\n",
       "      <td>3.57</td>\n",
       "      <td>3866839</td>\n",
       "      <td>3916824</td>\n",
       "      <td>95009</td>\n",
       "      <td>456191</td>\n",
       "      <td>436802</td>\n",
       "      <td>793319</td>\n",
       "      <td>875073</td>\n",
       "      <td>1355439</td>\n",
       "      <td>eng</td>\n",
       "    </tr>\n",
       "    <tr>\n",
       "      <th>3</th>\n",
       "      <td>4</td>\n",
       "      <td>2657</td>\n",
       "      <td>2657</td>\n",
       "      <td>3275794</td>\n",
       "      <td>487</td>\n",
       "      <td>Harper Lee</td>\n",
       "      <td>1960.0</td>\n",
       "      <td>To Kill a Mockingbird</td>\n",
       "      <td>4.25</td>\n",
       "      <td>3198671</td>\n",
       "      <td>3340896</td>\n",
       "      <td>72586</td>\n",
       "      <td>60427</td>\n",
       "      <td>117415</td>\n",
       "      <td>446835</td>\n",
       "      <td>1001952</td>\n",
       "      <td>1714267</td>\n",
       "      <td>eng</td>\n",
       "    </tr>\n",
       "    <tr>\n",
       "      <th>4</th>\n",
       "      <td>5</td>\n",
       "      <td>4671</td>\n",
       "      <td>4671</td>\n",
       "      <td>245494</td>\n",
       "      <td>1356</td>\n",
       "      <td>F. Scott Fitzgerald</td>\n",
       "      <td>1925.0</td>\n",
       "      <td>The Great Gatsby</td>\n",
       "      <td>3.89</td>\n",
       "      <td>2683664</td>\n",
       "      <td>2773745</td>\n",
       "      <td>51992</td>\n",
       "      <td>86236</td>\n",
       "      <td>197621</td>\n",
       "      <td>606158</td>\n",
       "      <td>936012</td>\n",
       "      <td>947718</td>\n",
       "      <td>eng</td>\n",
       "    </tr>\n",
       "  </tbody>\n",
       "</table>\n",
       "</div>"
      ],
      "text/plain": [
       "   book_id  goodreads_book_id  best_book_id  work_id  books_count  \\\n",
       "0        1            2767052       2767052  2792775          272   \n",
       "1        2                  3             3  4640799          491   \n",
       "2        3              41865         41865  3212258          226   \n",
       "3        4               2657          2657  3275794          487   \n",
       "4        5               4671          4671   245494         1356   \n",
       "\n",
       "                       authors  original_publication_year  \\\n",
       "0              Suzanne Collins                     2008.0   \n",
       "1  J.K. Rowling, Mary GrandPré                     1997.0   \n",
       "2              Stephenie Meyer                     2005.0   \n",
       "3                   Harper Lee                     1960.0   \n",
       "4          F. Scott Fitzgerald                     1925.0   \n",
       "\n",
       "                                               title  average_rating  \\\n",
       "0            The Hunger Games (The Hunger Games, #1)            4.34   \n",
       "1  Harry Potter and the Sorcerer's Stone (Harry P...            4.44   \n",
       "2                            Twilight (Twilight, #1)            3.57   \n",
       "3                              To Kill a Mockingbird            4.25   \n",
       "4                                   The Great Gatsby            3.89   \n",
       "\n",
       "   ratings_count  work_ratings_count  work_text_reviews_count  ratings_1  \\\n",
       "0        4780653             4942365                   155254      66715   \n",
       "1        4602479             4800065                    75867      75504   \n",
       "2        3866839             3916824                    95009     456191   \n",
       "3        3198671             3340896                    72586      60427   \n",
       "4        2683664             2773745                    51992      86236   \n",
       "\n",
       "   ratings_2  ratings_3  ratings_4  ratings_5 language_code  \n",
       "0     127936     560092    1481305    2706317           eng  \n",
       "1     101676     455024    1156318    3011543           eng  \n",
       "2     436802     793319     875073    1355439           eng  \n",
       "3     117415     446835    1001952    1714267           eng  \n",
       "4     197621     606158     936012     947718           eng  "
      ]
     },
     "execution_count": 14,
     "metadata": {},
     "output_type": "execute_result"
    }
   ],
   "source": [
    "# checking the clean dataset\n",
    "book_df.head(5)"
   ]
  },
  {
   "cell_type": "markdown",
   "id": "8cd3947d-38c8-418b-8258-d6cd3942c9f3",
   "metadata": {},
   "source": [
    "With the data cleaning phase successfully completed, including the verification of the absence of duplicate rows, we can now transition to the exploration phase. We'll begin by examining the distribution of `original_publication_year`"
   ]
  },
  {
   "cell_type": "code",
   "execution_count": 15,
   "id": "6c2c7e49-1528-40b2-8d0c-6d4222d705f9",
   "metadata": {
    "tags": []
   },
   "outputs": [
    {
     "data": {
      "text/plain": [
       "count    10000.000000\n",
       "mean      1982.011900\n",
       "std        152.425492\n",
       "min      -1750.000000\n",
       "25%       1990.000000\n",
       "50%       2004.000000\n",
       "75%       2011.000000\n",
       "max       2017.000000\n",
       "Name: original_publication_year, dtype: float64"
      ]
     },
     "execution_count": 15,
     "metadata": {},
     "output_type": "execute_result"
    }
   ],
   "source": [
    "book_df['original_publication_year'].describe()"
   ]
  },
  {
   "cell_type": "code",
   "execution_count": 16,
   "id": "8e62c20e-9e47-4c18-933d-4f913584cb17",
   "metadata": {
    "tags": []
   },
   "outputs": [
    {
     "data": {
      "image/png": "[encoded data removed]",
      "text/plain": [
       "<Figure size 1200x1200 with 4 Axes>"
      ]
     },
     "metadata": {},
     "output_type": "display_data"
    }
   ],
   "source": [
    "# plot distribution of published year by 4 separate periods\n",
    "\n",
    "plt.subplots(2,2,figsize = (12,12),facecolor = \"#fffbf0\")\n",
    "\n",
    "\n",
    "ax = plt.subplot(2,2,1)\n",
    "ax.set_facecolor(\"#fffbf0\")\n",
    "plt.hist(book_df['original_publication_year'],bins = range(1980,2020,1),color = '#26a69a')\n",
    "plt.title('Between The Years 1980 to 2020')\n",
    "plt.ylabel('Frequency')\n",
    "plt.xlabel('Year')\n",
    "\n",
    "ax = plt.subplot(2,2,2)\n",
    "ax.set_facecolor(\"#fffbf0\")\n",
    "plt.hist(book_df['original_publication_year'],bins = range(1900,1982,2),color = '#26a69a')\n",
    "plt.title('Between The Years 1900 to 1980')\n",
    "plt.ylabel('Frequency')\n",
    "plt.xlabel('Year')\n",
    "\n",
    "ax = plt.subplot(2,2,3)\n",
    "ax.set_facecolor(\"#fffbf0\")\n",
    "plt.hist(book_df['original_publication_year'],bins = range(1500,1910,10),color = '#26a69a')\n",
    "plt.title('Between The Years 1500 to 1900')\n",
    "plt.ylabel('Frequency')\n",
    "plt.xlabel('Year')\n",
    "\n",
    "ax = plt.subplot(2,2,4)\n",
    "ax.set_facecolor(\"#fffbf0\")\n",
    "plt.hist(book_df['original_publication_year'],bins = range(-1800,1600,100),color = '#26a69a')\n",
    "plt.title('Between The Years -1800 to 1500')\n",
    "plt.ylabel('Frequency')\n",
    "plt.xlabel('Year')\n",
    "\n",
    "\n",
    "plt.suptitle('Distribution of Books Original Publishing Year Over 4 Periods')\n",
    "plt.tight_layout()\n",
    "plt.show()"
   ]
  },
  {
   "cell_type": "markdown",
   "id": "b0858c5a-0edf-476a-9867-c1e78f2b4425",
   "metadata": {},
   "source": [
    "Due to the extensive range of publication years in our dataset, spanning from as early as 1750 BC to as recently as 2017 AD, we've divided the books into four distinct periods to facilitate a more visually informative analysis. This division allows us to observe that most books in our dataset were written between 1980 AD and 2017 AD. We can see a steady decline in the number of books as we move backward in time, with a noticeable drop in the 1800s. This decline continues as books become scarcer, to the point that only a handful of books can be found before 1500 AD, which are particularly sparse and widely dispersed."
   ]
  },
  {
   "cell_type": "code",
   "execution_count": 17,
   "id": "b01581fb-ea62-46ce-baed-0086145961a0",
   "metadata": {
    "tags": []
   },
   "outputs": [
    {
     "name": "stdout",
     "output_type": "stream",
     "text": [
      " The average number of book an author published is 2.1441\n"
     ]
    },
    {
     "data": {
      "text/html": [
       "<div>\n",
       "<style scoped>\n",
       "    .dataframe tbody tr th:only-of-type {\n",
       "        vertical-align: middle;\n",
       "    }\n",
       "\n",
       "    .dataframe tbody tr th {\n",
       "        vertical-align: top;\n",
       "    }\n",
       "\n",
       "    .dataframe thead th {\n",
       "        text-align: right;\n",
       "    }\n",
       "</style>\n",
       "<table border=\"1\" class=\"dataframe\">\n",
       "  <thead>\n",
       "    <tr style=\"text-align: right;\">\n",
       "      <th></th>\n",
       "      <th>Number_of_Books</th>\n",
       "    </tr>\n",
       "  </thead>\n",
       "  <tbody>\n",
       "    <tr>\n",
       "      <th>Stephen King</th>\n",
       "      <td>60</td>\n",
       "    </tr>\n",
       "    <tr>\n",
       "      <th>Nora Roberts</th>\n",
       "      <td>59</td>\n",
       "    </tr>\n",
       "    <tr>\n",
       "      <th>Dean Koontz</th>\n",
       "      <td>47</td>\n",
       "    </tr>\n",
       "    <tr>\n",
       "      <th>Terry Pratchett</th>\n",
       "      <td>42</td>\n",
       "    </tr>\n",
       "    <tr>\n",
       "      <th>Agatha Christie</th>\n",
       "      <td>39</td>\n",
       "    </tr>\n",
       "    <tr>\n",
       "      <th>Meg Cabot</th>\n",
       "      <td>37</td>\n",
       "    </tr>\n",
       "    <tr>\n",
       "      <th>James Patterson</th>\n",
       "      <td>36</td>\n",
       "    </tr>\n",
       "    <tr>\n",
       "      <th>David Baldacci</th>\n",
       "      <td>34</td>\n",
       "    </tr>\n",
       "    <tr>\n",
       "      <th>J.D. Robb</th>\n",
       "      <td>33</td>\n",
       "    </tr>\n",
       "    <tr>\n",
       "      <th>John Grisham</th>\n",
       "      <td>33</td>\n",
       "    </tr>\n",
       "  </tbody>\n",
       "</table>\n",
       "</div>"
      ],
      "text/plain": [
       "                 Number_of_Books\n",
       "Stephen King                  60\n",
       "Nora Roberts                  59\n",
       "Dean Koontz                   47\n",
       "Terry Pratchett               42\n",
       "Agatha Christie               39\n",
       "Meg Cabot                     37\n",
       "James Patterson               36\n",
       "David Baldacci                34\n",
       "J.D. Robb                     33\n",
       "John Grisham                  33"
      ]
     },
     "execution_count": 17,
     "metadata": {},
     "output_type": "execute_result"
    }
   ],
   "source": [
    "# exploring the author column\n",
    "print(f\" The average number of book an author published is {np.round(book_df['authors'].value_counts().to_frame('Number_of_Books').mean()[0],4)}\")\n",
    "\n",
    "book_df['authors'].value_counts().to_frame('Number_of_Books').head(10)"
   ]
  },
  {
   "cell_type": "markdown",
   "id": "5de0db9e-58d0-42be-9880-6f86f30ab541",
   "metadata": {},
   "source": [
    "Looking at the `authors` in our dataset, it becomes evident that Stephen King stands out with 60 published books, which far exceeds the approximate average of 2.14 books per author in our dataset. However, his works only account for 0.6% of the total books in the dataset, indicating the presence of a diverse array of authors. \n",
    "\n",
    "As we continue our exploration, we'll dive into the `average rating`, which represents the average of all the ratings users give, ranging from 1 to 5. Our approach begins with examining the top 10 books and their respective authors with the highest average ratings. Conversely, we'll also investigate the top 10 books with the lowest ratings. Following this, we'll shift our focus to analyzing the distribution of `average rating` across the data."
   ]
  },
  {
   "cell_type": "code",
   "execution_count": 18,
   "id": "db26d769-c8ab-498f-ae51-868a0521be43",
   "metadata": {
    "tags": []
   },
   "outputs": [
    {
     "data": {
      "text/html": [
       "<div>\n",
       "<style scoped>\n",
       "    .dataframe tbody tr th:only-of-type {\n",
       "        vertical-align: middle;\n",
       "    }\n",
       "\n",
       "    .dataframe tbody tr th {\n",
       "        vertical-align: top;\n",
       "    }\n",
       "\n",
       "    .dataframe thead th {\n",
       "        text-align: right;\n",
       "    }\n",
       "</style>\n",
       "<table border=\"1\" class=\"dataframe\">\n",
       "  <thead>\n",
       "    <tr style=\"text-align: right;\">\n",
       "      <th></th>\n",
       "      <th>title</th>\n",
       "      <th>authors</th>\n",
       "      <th>average_rating</th>\n",
       "    </tr>\n",
       "  </thead>\n",
       "  <tbody>\n",
       "    <tr>\n",
       "      <th>3627</th>\n",
       "      <td>The Complete Calvin and Hobbes</td>\n",
       "      <td>Bill Watterson</td>\n",
       "      <td>4.82</td>\n",
       "    </tr>\n",
       "    <tr>\n",
       "      <th>3274</th>\n",
       "      <td>Harry Potter Boxed Set, Books 1-5 (Harry Potte...</td>\n",
       "      <td>J.K. Rowling, Mary GrandPré</td>\n",
       "      <td>4.77</td>\n",
       "    </tr>\n",
       "    <tr>\n",
       "      <th>861</th>\n",
       "      <td>Words of Radiance (The Stormlight Archive, #2)</td>\n",
       "      <td>Brandon Sanderson</td>\n",
       "      <td>4.77</td>\n",
       "    </tr>\n",
       "    <tr>\n",
       "      <th>8853</th>\n",
       "      <td>Mark of the Lion Trilogy</td>\n",
       "      <td>Francine Rivers</td>\n",
       "      <td>4.76</td>\n",
       "    </tr>\n",
       "    <tr>\n",
       "      <th>7946</th>\n",
       "      <td>ESV Study Bible</td>\n",
       "      <td>Anonymous, Lane T. Dennis, Wayne A. Grudem</td>\n",
       "      <td>4.76</td>\n",
       "    </tr>\n",
       "    <tr>\n",
       "      <th>4482</th>\n",
       "      <td>It's a Magical World: A Calvin and Hobbes Coll...</td>\n",
       "      <td>Bill Watterson</td>\n",
       "      <td>4.75</td>\n",
       "    </tr>\n",
       "    <tr>\n",
       "      <th>6360</th>\n",
       "      <td>There's Treasure Everywhere: A Calvin and Hobb...</td>\n",
       "      <td>Bill Watterson</td>\n",
       "      <td>4.74</td>\n",
       "    </tr>\n",
       "    <tr>\n",
       "      <th>421</th>\n",
       "      <td>Harry Potter Boxset (Harry Potter, #1-7)</td>\n",
       "      <td>J.K. Rowling</td>\n",
       "      <td>4.74</td>\n",
       "    </tr>\n",
       "    <tr>\n",
       "      <th>3752</th>\n",
       "      <td>Harry Potter Collection (Harry Potter, #1-6)</td>\n",
       "      <td>J.K. Rowling</td>\n",
       "      <td>4.73</td>\n",
       "    </tr>\n",
       "    <tr>\n",
       "      <th>6919</th>\n",
       "      <td>The Indispensable Calvin and Hobbes</td>\n",
       "      <td>Bill Watterson</td>\n",
       "      <td>4.73</td>\n",
       "    </tr>\n",
       "  </tbody>\n",
       "</table>\n",
       "</div>"
      ],
      "text/plain": [
       "                                                  title  \\\n",
       "3627                     The Complete Calvin and Hobbes   \n",
       "3274  Harry Potter Boxed Set, Books 1-5 (Harry Potte...   \n",
       "861      Words of Radiance (The Stormlight Archive, #2)   \n",
       "8853                           Mark of the Lion Trilogy   \n",
       "7946                                    ESV Study Bible   \n",
       "4482  It's a Magical World: A Calvin and Hobbes Coll...   \n",
       "6360  There's Treasure Everywhere: A Calvin and Hobb...   \n",
       "421            Harry Potter Boxset (Harry Potter, #1-7)   \n",
       "3752       Harry Potter Collection (Harry Potter, #1-6)   \n",
       "6919                The Indispensable Calvin and Hobbes   \n",
       "\n",
       "                                         authors  average_rating  \n",
       "3627                              Bill Watterson            4.82  \n",
       "3274                 J.K. Rowling, Mary GrandPré            4.77  \n",
       "861                            Brandon Sanderson            4.77  \n",
       "8853                             Francine Rivers            4.76  \n",
       "7946  Anonymous, Lane T. Dennis, Wayne A. Grudem            4.76  \n",
       "4482                              Bill Watterson            4.75  \n",
       "6360                              Bill Watterson            4.74  \n",
       "421                                 J.K. Rowling            4.74  \n",
       "3752                                J.K. Rowling            4.73  \n",
       "6919                              Bill Watterson            4.73  "
      ]
     },
     "execution_count": 18,
     "metadata": {},
     "output_type": "execute_result"
    }
   ],
   "source": [
    "# top 10 highest rate books\n",
    "book_df[['title','authors','average_rating']].sort_values(['average_rating'],ascending = False).head(10)"
   ]
  },
  {
   "cell_type": "code",
   "execution_count": 19,
   "id": "fcf4307f-6b63-461f-b6bc-ead5ffb87ac6",
   "metadata": {
    "tags": []
   },
   "outputs": [
    {
     "data": {
      "text/html": [
       "<div>\n",
       "<style scoped>\n",
       "    .dataframe tbody tr th:only-of-type {\n",
       "        vertical-align: middle;\n",
       "    }\n",
       "\n",
       "    .dataframe tbody tr th {\n",
       "        vertical-align: top;\n",
       "    }\n",
       "\n",
       "    .dataframe thead th {\n",
       "        text-align: right;\n",
       "    }\n",
       "</style>\n",
       "<table border=\"1\" class=\"dataframe\">\n",
       "  <thead>\n",
       "    <tr style=\"text-align: right;\">\n",
       "      <th></th>\n",
       "      <th>title</th>\n",
       "      <th>authors</th>\n",
       "      <th>average_rating</th>\n",
       "    </tr>\n",
       "  </thead>\n",
       "  <tbody>\n",
       "    <tr>\n",
       "      <th>1792</th>\n",
       "      <td>One Night at the Call Center</td>\n",
       "      <td>Chetan Bhagat</td>\n",
       "      <td>2.47</td>\n",
       "    </tr>\n",
       "    <tr>\n",
       "      <th>3549</th>\n",
       "      <td>The Almost Moon</td>\n",
       "      <td>Alice Sebold</td>\n",
       "      <td>2.67</td>\n",
       "    </tr>\n",
       "    <tr>\n",
       "      <th>8006</th>\n",
       "      <td>The Finkler Question</td>\n",
       "      <td>Howard Jacobson</td>\n",
       "      <td>2.76</td>\n",
       "    </tr>\n",
       "    <tr>\n",
       "      <th>9020</th>\n",
       "      <td>Lost</td>\n",
       "      <td>Gregory Maguire, Douglas Smith</td>\n",
       "      <td>2.80</td>\n",
       "    </tr>\n",
       "    <tr>\n",
       "      <th>4008</th>\n",
       "      <td>Four Blondes</td>\n",
       "      <td>Candace Bushnell</td>\n",
       "      <td>2.80</td>\n",
       "    </tr>\n",
       "    <tr>\n",
       "      <th>8165</th>\n",
       "      <td>Among the Ten Thousand Things</td>\n",
       "      <td>Julia Pierpont</td>\n",
       "      <td>2.84</td>\n",
       "    </tr>\n",
       "    <tr>\n",
       "      <th>8873</th>\n",
       "      <td>Tell-All</td>\n",
       "      <td>Chuck Palahniuk</td>\n",
       "      <td>2.84</td>\n",
       "    </tr>\n",
       "    <tr>\n",
       "      <th>4282</th>\n",
       "      <td>Revenge Wears Prada: The Devil Returns (The De...</td>\n",
       "      <td>Lauren Weisberger</td>\n",
       "      <td>2.84</td>\n",
       "    </tr>\n",
       "    <tr>\n",
       "      <th>4613</th>\n",
       "      <td>The Emperor's Children</td>\n",
       "      <td>Claire Messud</td>\n",
       "      <td>2.93</td>\n",
       "    </tr>\n",
       "    <tr>\n",
       "      <th>8959</th>\n",
       "      <td>The Red House</td>\n",
       "      <td>Mark Haddon</td>\n",
       "      <td>2.93</td>\n",
       "    </tr>\n",
       "  </tbody>\n",
       "</table>\n",
       "</div>"
      ],
      "text/plain": [
       "                                                  title  \\\n",
       "1792                       One Night at the Call Center   \n",
       "3549                                    The Almost Moon   \n",
       "8006                               The Finkler Question   \n",
       "9020                                               Lost   \n",
       "4008                                       Four Blondes   \n",
       "8165                      Among the Ten Thousand Things   \n",
       "8873                                           Tell-All   \n",
       "4282  Revenge Wears Prada: The Devil Returns (The De...   \n",
       "4613                             The Emperor's Children   \n",
       "8959                                      The Red House   \n",
       "\n",
       "                             authors  average_rating  \n",
       "1792                   Chetan Bhagat            2.47  \n",
       "3549                    Alice Sebold            2.67  \n",
       "8006                 Howard Jacobson            2.76  \n",
       "9020  Gregory Maguire, Douglas Smith            2.80  \n",
       "4008                Candace Bushnell            2.80  \n",
       "8165                  Julia Pierpont            2.84  \n",
       "8873                 Chuck Palahniuk            2.84  \n",
       "4282               Lauren Weisberger            2.84  \n",
       "4613                   Claire Messud            2.93  \n",
       "8959                     Mark Haddon            2.93  "
      ]
     },
     "execution_count": 19,
     "metadata": {},
     "output_type": "execute_result"
    }
   ],
   "source": [
    "# top 10 worst rated books\n",
    "book_df[['title','authors','average_rating']].sort_values(['average_rating']).head(10)"
   ]
  },
  {
   "cell_type": "code",
   "execution_count": 20,
   "id": "fff03e0d-a20b-4b3c-8977-d685fdc75e0c",
   "metadata": {
    "tags": []
   },
   "outputs": [
    {
     "data": {
      "image/png": "[encoded data removed]",
      "text/plain": [
       "<Figure size 640x480 with 1 Axes>"
      ]
     },
     "metadata": {},
     "output_type": "display_data"
    }
   ],
   "source": [
    "# plooting average rating distribution\n",
    "plt.figure(facecolor='#fffbf0')\n",
    "ax = plt.axes()\n",
    "ax.set_facecolor(\"#fffbf0\")\n",
    "plt.hist(book_df['average_rating'],bins=25,color = '#26a69a')\n",
    "plt.axvline(book_df['average_rating'].mean(),ls = '--',color = 'lime', label = f\"Mean = {np.round(book_df['average_rating'].mean(),3)}\")\n",
    "plt.axvline(book_df['average_rating'].median(),ls = '--',color = 'cyan', label = f'Median = {book_df[\"average_rating\"].median()}')\n",
    "plt.legend(loc = 'upper left')\n",
    "plt.title('Distribution of Average Rating')\n",
    "plt.ylabel('Frequency')\n",
    "plt.xlabel('Average Rating')\n",
    "plt.show()"
   ]
  },
  {
   "cell_type": "markdown",
   "id": "e6cf6c57-0421-42ee-883f-72eea6c65ae2",
   "metadata": {},
   "source": [
    "Exploring the distribution of average ratings reveals that the majority of books tend to have an average rating centered around 4.0. While the majority falls within the 3.5 to 4.5 range, a smaller number of books receive ratings below 3.5 or above 4.5.\n",
    "\n",
    "Next, we will explore the distribution of the number of specific ratings each book receives. However, before graphing this data, we need to normalize it. The reason for normalization is that the number of ratings a book gets can vary significantly, making a direct comparison challenging. To overcome this, we'll calculate the proportion of each specific rating a book gets by dividing it by its total number of ratings."
   ]
  },
  {
   "cell_type": "code",
   "execution_count": 21,
   "id": "7bd65301-ef7d-44a3-9d8b-d77336b46dd1",
   "metadata": {
    "tags": []
   },
   "outputs": [
    {
     "data": {
      "image/png": "[encoded data removed]",
      "text/plain": [
       "<Figure size 640x480 with 1 Axes>"
      ]
     },
     "metadata": {},
     "output_type": "display_data"
    },
    {
     "data": {
      "text/html": [
       "<div>\n",
       "<style scoped>\n",
       "    .dataframe tbody tr th:only-of-type {\n",
       "        vertical-align: middle;\n",
       "    }\n",
       "\n",
       "    .dataframe tbody tr th {\n",
       "        vertical-align: top;\n",
       "    }\n",
       "\n",
       "    .dataframe thead tr th {\n",
       "        text-align: left;\n",
       "    }\n",
       "\n",
       "    .dataframe thead tr:last-of-type th {\n",
       "        text-align: right;\n",
       "    }\n",
       "</style>\n",
       "<table border=\"1\" class=\"dataframe\">\n",
       "  <thead>\n",
       "    <tr>\n",
       "      <th></th>\n",
       "      <th colspan=\"4\" halign=\"left\">Normalised Rating Percentage</th>\n",
       "    </tr>\n",
       "    <tr>\n",
       "      <th></th>\n",
       "      <th>mean</th>\n",
       "      <th>median</th>\n",
       "      <th>min</th>\n",
       "      <th>max</th>\n",
       "    </tr>\n",
       "    <tr>\n",
       "      <th>rating</th>\n",
       "      <th></th>\n",
       "      <th></th>\n",
       "      <th></th>\n",
       "      <th></th>\n",
       "    </tr>\n",
       "  </thead>\n",
       "  <tbody>\n",
       "    <tr>\n",
       "      <th>1 star</th>\n",
       "      <td>1.95</td>\n",
       "      <td>1.56</td>\n",
       "      <td>0.08</td>\n",
       "      <td>23.55</td>\n",
       "    </tr>\n",
       "    <tr>\n",
       "      <th>2 star</th>\n",
       "      <td>5.26</td>\n",
       "      <td>4.57</td>\n",
       "      <td>0.24</td>\n",
       "      <td>31.51</td>\n",
       "    </tr>\n",
       "    <tr>\n",
       "      <th>3 star</th>\n",
       "      <td>20.72</td>\n",
       "      <td>20.21</td>\n",
       "      <td>2.31</td>\n",
       "      <td>44.51</td>\n",
       "    </tr>\n",
       "    <tr>\n",
       "      <th>4 star</th>\n",
       "      <td>34.76</td>\n",
       "      <td>35.17</td>\n",
       "      <td>2.64</td>\n",
       "      <td>49.35</td>\n",
       "    </tr>\n",
       "    <tr>\n",
       "      <th>5 star</th>\n",
       "      <td>37.31</td>\n",
       "      <td>36.64</td>\n",
       "      <td>6.25</td>\n",
       "      <td>86.37</td>\n",
       "    </tr>\n",
       "  </tbody>\n",
       "</table>\n",
       "</div>"
      ],
      "text/plain": [
       "       Normalised Rating Percentage                    \n",
       "                               mean median   min    max\n",
       "rating                                                 \n",
       "1 star                         1.95   1.56  0.08  23.55\n",
       "2 star                         5.26   4.57  0.24  31.51\n",
       "3 star                        20.72  20.21  2.31  44.51\n",
       "4 star                        34.76  35.17  2.64  49.35\n",
       "5 star                        37.31  36.64  6.25  86.37"
      ]
     },
     "execution_count": 21,
     "metadata": {},
     "output_type": "execute_result"
    }
   ],
   "source": [
    "# creating new data frame combining all rating into 1 columns and normaling them to better plot\n",
    "\n",
    "book_box_pd = pd.DataFrame([])\n",
    "for i in range(1,6):\n",
    "    x = pd.DataFrame([])\n",
    "    x['Normalised Rating Percentage'] = book_df[f'ratings_{i}']/book_df['work_ratings_count']\n",
    "    x['rating'] = f'{i} star'\n",
    "    book_box_pd = pd.concat([book_box_pd,x])\n",
    "    \n",
    "# ploting distribution of normalised rating distribution\n",
    "plt.figure(facecolor='#fffbf0')\n",
    "ax = plt.axes()\n",
    "ax.set_facecolor(\"#fffbf0\")\n",
    "sns.boxplot(y = book_box_pd['rating'], x= book_box_pd['Normalised Rating Percentage'] )\n",
    "plt.title('Normalised Ratings Distribution')\n",
    "plt.ylabel('Rating')\n",
    "plt.xlabel('Normalised Rating Percentage')\n",
    "plt.xlim(0,1)\n",
    "plt.xticks([0,0.2,0.4,0.6,0.8,1],['0%','20%','40%','60%','80%','100%'])\n",
    "plt.show()\n",
    "\n",
    "# print data of the aggregated group\n",
    "np.round(book_box_pd.groupby('rating').agg(['mean','median','min','max'])*100,2)"
   ]
  },
  {
   "cell_type": "code",
   "execution_count": 117,
   "id": "13c387bd-781e-4c33-b01f-ae3ede12716c",
   "metadata": {
    "tags": []
   },
   "outputs": [
    {
     "data": {
      "text/html": [
       "<div>\n",
       "<style scoped>\n",
       "    .dataframe tbody tr th:only-of-type {\n",
       "        vertical-align: middle;\n",
       "    }\n",
       "\n",
       "    .dataframe tbody tr th {\n",
       "        vertical-align: top;\n",
       "    }\n",
       "\n",
       "    .dataframe thead th {\n",
       "        text-align: right;\n",
       "    }\n",
       "</style>\n",
       "<table border=\"1\" class=\"dataframe\">\n",
       "  <thead>\n",
       "    <tr style=\"text-align: right;\">\n",
       "      <th></th>\n",
       "      <th>book_id</th>\n",
       "      <th>goodreads_book_id</th>\n",
       "      <th>best_book_id</th>\n",
       "      <th>work_id</th>\n",
       "      <th>books_count</th>\n",
       "      <th>authors</th>\n",
       "      <th>original_publication_year</th>\n",
       "      <th>title</th>\n",
       "      <th>average_rating</th>\n",
       "      <th>ratings_count</th>\n",
       "      <th>work_ratings_count</th>\n",
       "      <th>work_text_reviews_count</th>\n",
       "      <th>ratings_1</th>\n",
       "      <th>ratings_2</th>\n",
       "      <th>ratings_3</th>\n",
       "      <th>ratings_4</th>\n",
       "      <th>ratings_5</th>\n",
       "      <th>language_code</th>\n",
       "    </tr>\n",
       "  </thead>\n",
       "  <tbody>\n",
       "    <tr>\n",
       "      <th>388</th>\n",
       "      <td>389</td>\n",
       "      <td>68428</td>\n",
       "      <td>68428</td>\n",
       "      <td>66322</td>\n",
       "      <td>75</td>\n",
       "      <td>Brandon Sanderson</td>\n",
       "      <td>2006.0</td>\n",
       "      <td>The Final Empire (Mistborn, #1)</td>\n",
       "      <td>4.43</td>\n",
       "      <td>208944</td>\n",
       "      <td>238993</td>\n",
       "      <td>16276</td>\n",
       "      <td>1783</td>\n",
       "      <td>4008</td>\n",
       "      <td>20554</td>\n",
       "      <td>76611</td>\n",
       "      <td>136037</td>\n",
       "      <td>eng</td>\n",
       "    </tr>\n",
       "    <tr>\n",
       "      <th>561</th>\n",
       "      <td>562</td>\n",
       "      <td>7235533</td>\n",
       "      <td>7235533</td>\n",
       "      <td>8134945</td>\n",
       "      <td>48</td>\n",
       "      <td>Brandon Sanderson</td>\n",
       "      <td>2010.0</td>\n",
       "      <td>The Way of Kings (The Stormlight Archive, #1)</td>\n",
       "      <td>4.64</td>\n",
       "      <td>144822</td>\n",
       "      <td>164477</td>\n",
       "      <td>10947</td>\n",
       "      <td>1085</td>\n",
       "      <td>1827</td>\n",
       "      <td>7661</td>\n",
       "      <td>33962</td>\n",
       "      <td>119942</td>\n",
       "      <td>eng</td>\n",
       "    </tr>\n",
       "    <tr>\n",
       "      <th>564</th>\n",
       "      <td>565</td>\n",
       "      <td>68429</td>\n",
       "      <td>68429</td>\n",
       "      <td>2120474</td>\n",
       "      <td>60</td>\n",
       "      <td>Brandon Sanderson</td>\n",
       "      <td>2007.0</td>\n",
       "      <td>The Well of Ascension (Mistborn, #2)</td>\n",
       "      <td>4.35</td>\n",
       "      <td>150736</td>\n",
       "      <td>171402</td>\n",
       "      <td>8541</td>\n",
       "      <td>534</td>\n",
       "      <td>2630</td>\n",
       "      <td>18661</td>\n",
       "      <td>63880</td>\n",
       "      <td>85697</td>\n",
       "      <td>eng</td>\n",
       "    </tr>\n",
       "    <tr>\n",
       "      <th>602</th>\n",
       "      <td>603</td>\n",
       "      <td>2767793</td>\n",
       "      <td>2767793</td>\n",
       "      <td>2793516</td>\n",
       "      <td>63</td>\n",
       "      <td>Brandon Sanderson</td>\n",
       "      <td>2008.0</td>\n",
       "      <td>The Hero of Ages (Mistborn, #3)</td>\n",
       "      <td>4.46</td>\n",
       "      <td>143622</td>\n",
       "      <td>161085</td>\n",
       "      <td>9111</td>\n",
       "      <td>596</td>\n",
       "      <td>2257</td>\n",
       "      <td>14291</td>\n",
       "      <td>49628</td>\n",
       "      <td>94313</td>\n",
       "      <td>eng</td>\n",
       "    </tr>\n",
       "    <tr>\n",
       "      <th>861</th>\n",
       "      <td>862</td>\n",
       "      <td>17332218</td>\n",
       "      <td>17332218</td>\n",
       "      <td>16482835</td>\n",
       "      <td>34</td>\n",
       "      <td>Brandon Sanderson</td>\n",
       "      <td>2014.0</td>\n",
       "      <td>Words of Radiance (The Stormlight Archive, #2)</td>\n",
       "      <td>4.77</td>\n",
       "      <td>73572</td>\n",
       "      <td>108176</td>\n",
       "      <td>7261</td>\n",
       "      <td>154</td>\n",
       "      <td>404</td>\n",
       "      <td>2653</td>\n",
       "      <td>18272</td>\n",
       "      <td>86693</td>\n",
       "      <td>eng</td>\n",
       "    </tr>\n",
       "    <tr>\n",
       "      <th>969</th>\n",
       "      <td>970</td>\n",
       "      <td>17182126</td>\n",
       "      <td>17182126</td>\n",
       "      <td>21366540</td>\n",
       "      <td>64</td>\n",
       "      <td>Brandon Sanderson</td>\n",
       "      <td>2013.0</td>\n",
       "      <td>Steelheart (The Reckoners, #1)</td>\n",
       "      <td>4.16</td>\n",
       "      <td>76261</td>\n",
       "      <td>102116</td>\n",
       "      <td>10160</td>\n",
       "      <td>1300</td>\n",
       "      <td>3063</td>\n",
       "      <td>15596</td>\n",
       "      <td>40585</td>\n",
       "      <td>41572</td>\n",
       "      <td>eng</td>\n",
       "    </tr>\n",
       "    <tr>\n",
       "      <th>1048</th>\n",
       "      <td>1049</td>\n",
       "      <td>68427</td>\n",
       "      <td>68427</td>\n",
       "      <td>2908871</td>\n",
       "      <td>60</td>\n",
       "      <td>Brandon Sanderson</td>\n",
       "      <td>2005.0</td>\n",
       "      <td>Elantris (Elantris, #1)</td>\n",
       "      <td>4.17</td>\n",
       "      <td>95950</td>\n",
       "      <td>105780</td>\n",
       "      <td>6438</td>\n",
       "      <td>1311</td>\n",
       "      <td>2974</td>\n",
       "      <td>16025</td>\n",
       "      <td>41443</td>\n",
       "      <td>44027</td>\n",
       "      <td>eng</td>\n",
       "    </tr>\n",
       "    <tr>\n",
       "      <th>1199</th>\n",
       "      <td>1200</td>\n",
       "      <td>10803121</td>\n",
       "      <td>10803121</td>\n",
       "      <td>15035863</td>\n",
       "      <td>45</td>\n",
       "      <td>Brandon Sanderson</td>\n",
       "      <td>2011.0</td>\n",
       "      <td>The Alloy of Law (Mistborn, #4)</td>\n",
       "      <td>4.20</td>\n",
       "      <td>72185</td>\n",
       "      <td>84897</td>\n",
       "      <td>5303</td>\n",
       "      <td>271</td>\n",
       "      <td>1652</td>\n",
       "      <td>12408</td>\n",
       "      <td>36754</td>\n",
       "      <td>33812</td>\n",
       "      <td>eng</td>\n",
       "    </tr>\n",
       "    <tr>\n",
       "      <th>1664</th>\n",
       "      <td>1665</td>\n",
       "      <td>1268479</td>\n",
       "      <td>1268479</td>\n",
       "      <td>1257385</td>\n",
       "      <td>41</td>\n",
       "      <td>Brandon Sanderson</td>\n",
       "      <td>2009.0</td>\n",
       "      <td>Warbreaker (Warbreaker, #1)</td>\n",
       "      <td>4.22</td>\n",
       "      <td>55948</td>\n",
       "      <td>65488</td>\n",
       "      <td>4548</td>\n",
       "      <td>322</td>\n",
       "      <td>1337</td>\n",
       "      <td>9533</td>\n",
       "      <td>26899</td>\n",
       "      <td>27397</td>\n",
       "      <td>eng</td>\n",
       "    </tr>\n",
       "    <tr>\n",
       "      <th>2117</th>\n",
       "      <td>2118</td>\n",
       "      <td>15704459</td>\n",
       "      <td>15704459</td>\n",
       "      <td>21979689</td>\n",
       "      <td>51</td>\n",
       "      <td>Brandon Sanderson</td>\n",
       "      <td>2015.0</td>\n",
       "      <td>Firefight (The Reckoners, #2)</td>\n",
       "      <td>4.29</td>\n",
       "      <td>41924</td>\n",
       "      <td>50765</td>\n",
       "      <td>4426</td>\n",
       "      <td>95</td>\n",
       "      <td>622</td>\n",
       "      <td>6180</td>\n",
       "      <td>21247</td>\n",
       "      <td>22621</td>\n",
       "      <td>eng</td>\n",
       "    </tr>\n",
       "    <tr>\n",
       "      <th>2791</th>\n",
       "      <td>2792</td>\n",
       "      <td>16065004</td>\n",
       "      <td>16065004</td>\n",
       "      <td>21855448</td>\n",
       "      <td>25</td>\n",
       "      <td>Brandon Sanderson</td>\n",
       "      <td>2015.0</td>\n",
       "      <td>Shadows of Self (Mistborn, #5)</td>\n",
       "      <td>4.30</td>\n",
       "      <td>32170</td>\n",
       "      <td>40479</td>\n",
       "      <td>2804</td>\n",
       "      <td>85</td>\n",
       "      <td>469</td>\n",
       "      <td>4687</td>\n",
       "      <td>17295</td>\n",
       "      <td>17943</td>\n",
       "      <td>eng</td>\n",
       "    </tr>\n",
       "    <tr>\n",
       "      <th>2888</th>\n",
       "      <td>2889</td>\n",
       "      <td>6604209</td>\n",
       "      <td>6604209</td>\n",
       "      <td>6798109</td>\n",
       "      <td>15</td>\n",
       "      <td>Brandon Sanderson</td>\n",
       "      <td>2009.0</td>\n",
       "      <td>Mistborn Trilogy Boxed Set (Mistborn, #1-3)</td>\n",
       "      <td>4.55</td>\n",
       "      <td>22917</td>\n",
       "      <td>32376</td>\n",
       "      <td>982</td>\n",
       "      <td>130</td>\n",
       "      <td>425</td>\n",
       "      <td>2185</td>\n",
       "      <td>8517</td>\n",
       "      <td>21119</td>\n",
       "      <td>eng</td>\n",
       "    </tr>\n",
       "    <tr>\n",
       "      <th>2977</th>\n",
       "      <td>2978</td>\n",
       "      <td>13578175</td>\n",
       "      <td>13578175</td>\n",
       "      <td>19161502</td>\n",
       "      <td>20</td>\n",
       "      <td>Brandon Sanderson</td>\n",
       "      <td>2012.0</td>\n",
       "      <td>The Emperor's Soul</td>\n",
       "      <td>4.33</td>\n",
       "      <td>33634</td>\n",
       "      <td>39282</td>\n",
       "      <td>2989</td>\n",
       "      <td>84</td>\n",
       "      <td>477</td>\n",
       "      <td>4536</td>\n",
       "      <td>15386</td>\n",
       "      <td>18799</td>\n",
       "      <td>eng</td>\n",
       "    </tr>\n",
       "    <tr>\n",
       "      <th>3146</th>\n",
       "      <td>3147</td>\n",
       "      <td>22443261</td>\n",
       "      <td>22443261</td>\n",
       "      <td>15035866</td>\n",
       "      <td>38</td>\n",
       "      <td>Brandon Sanderson</td>\n",
       "      <td>2013.0</td>\n",
       "      <td>The Rithmatist (The Rithmatist, #1)</td>\n",
       "      <td>4.25</td>\n",
       "      <td>15977</td>\n",
       "      <td>36047</td>\n",
       "      <td>4864</td>\n",
       "      <td>156</td>\n",
       "      <td>652</td>\n",
       "      <td>4730</td>\n",
       "      <td>15170</td>\n",
       "      <td>15339</td>\n",
       "      <td>eng</td>\n",
       "    </tr>\n",
       "    <tr>\n",
       "      <th>3248</th>\n",
       "      <td>3249</td>\n",
       "      <td>15704486</td>\n",
       "      <td>15704486</td>\n",
       "      <td>21366542</td>\n",
       "      <td>35</td>\n",
       "      <td>Brandon Sanderson</td>\n",
       "      <td>2016.0</td>\n",
       "      <td>Calamity (The Reckoners, #3)</td>\n",
       "      <td>4.20</td>\n",
       "      <td>27146</td>\n",
       "      <td>33909</td>\n",
       "      <td>3310</td>\n",
       "      <td>93</td>\n",
       "      <td>680</td>\n",
       "      <td>5383</td>\n",
       "      <td>14098</td>\n",
       "      <td>13655</td>\n",
       "      <td>eng</td>\n",
       "    </tr>\n",
       "    <tr>\n",
       "      <th>3340</th>\n",
       "      <td>3341</td>\n",
       "      <td>18739426</td>\n",
       "      <td>18739426</td>\n",
       "      <td>26616838</td>\n",
       "      <td>21</td>\n",
       "      <td>Brandon Sanderson</td>\n",
       "      <td>2016.0</td>\n",
       "      <td>The Bands of Mourning (Mistborn, #6)</td>\n",
       "      <td>4.45</td>\n",
       "      <td>28866</td>\n",
       "      <td>33232</td>\n",
       "      <td>2379</td>\n",
       "      <td>42</td>\n",
       "      <td>249</td>\n",
       "      <td>2519</td>\n",
       "      <td>12186</td>\n",
       "      <td>18236</td>\n",
       "      <td>eng</td>\n",
       "    </tr>\n",
       "    <tr>\n",
       "      <th>4487</th>\n",
       "      <td>4488</td>\n",
       "      <td>13452375</td>\n",
       "      <td>13452375</td>\n",
       "      <td>18978261</td>\n",
       "      <td>24</td>\n",
       "      <td>Brandon Sanderson</td>\n",
       "      <td>2012.0</td>\n",
       "      <td>Legion (Legion, #1)</td>\n",
       "      <td>4.13</td>\n",
       "      <td>20291</td>\n",
       "      <td>24459</td>\n",
       "      <td>2235</td>\n",
       "      <td>147</td>\n",
       "      <td>605</td>\n",
       "      <td>4208</td>\n",
       "      <td>10448</td>\n",
       "      <td>9051</td>\n",
       "      <td>eng</td>\n",
       "    </tr>\n",
       "    <tr>\n",
       "      <th>4744</th>\n",
       "      <td>4745</td>\n",
       "      <td>18966322</td>\n",
       "      <td>18966322</td>\n",
       "      <td>26984416</td>\n",
       "      <td>22</td>\n",
       "      <td>Brandon Sanderson</td>\n",
       "      <td>2013.0</td>\n",
       "      <td>Mitosis (The Reckoners, #1.5)</td>\n",
       "      <td>3.87</td>\n",
       "      <td>17250</td>\n",
       "      <td>22181</td>\n",
       "      <td>1477</td>\n",
       "      <td>69</td>\n",
       "      <td>714</td>\n",
       "      <td>6245</td>\n",
       "      <td>10075</td>\n",
       "      <td>5078</td>\n",
       "      <td>eng</td>\n",
       "    </tr>\n",
       "    <tr>\n",
       "      <th>7992</th>\n",
       "      <td>7993</td>\n",
       "      <td>28698036</td>\n",
       "      <td>28698036</td>\n",
       "      <td>48896020</td>\n",
       "      <td>5</td>\n",
       "      <td>Brandon Sanderson</td>\n",
       "      <td>2016.0</td>\n",
       "      <td>Secret History (Mistborn, #3.5)</td>\n",
       "      <td>4.38</td>\n",
       "      <td>12796</td>\n",
       "      <td>13424</td>\n",
       "      <td>1081</td>\n",
       "      <td>30</td>\n",
       "      <td>191</td>\n",
       "      <td>1573</td>\n",
       "      <td>4535</td>\n",
       "      <td>7095</td>\n",
       "      <td>eng</td>\n",
       "    </tr>\n",
       "    <tr>\n",
       "      <th>8372</th>\n",
       "      <td>8373</td>\n",
       "      <td>623976</td>\n",
       "      <td>623976</td>\n",
       "      <td>2591148</td>\n",
       "      <td>34</td>\n",
       "      <td>Brandon Sanderson</td>\n",
       "      <td>2007.0</td>\n",
       "      <td>Alcatraz Versus the Evil Librarians (Alcatraz,...</td>\n",
       "      <td>3.87</td>\n",
       "      <td>13474</td>\n",
       "      <td>15374</td>\n",
       "      <td>2393</td>\n",
       "      <td>328</td>\n",
       "      <td>937</td>\n",
       "      <td>3729</td>\n",
       "      <td>5745</td>\n",
       "      <td>4635</td>\n",
       "      <td>eng</td>\n",
       "    </tr>\n",
       "    <tr>\n",
       "      <th>9140</th>\n",
       "      <td>9141</td>\n",
       "      <td>9329354</td>\n",
       "      <td>9329354</td>\n",
       "      <td>27679568</td>\n",
       "      <td>19</td>\n",
       "      <td>Brandon Sanderson</td>\n",
       "      <td>2011.0</td>\n",
       "      <td>The Way of Kings, Part 1 (The Stormlight Archi...</td>\n",
       "      <td>4.67</td>\n",
       "      <td>9792</td>\n",
       "      <td>10117</td>\n",
       "      <td>453</td>\n",
       "      <td>40</td>\n",
       "      <td>93</td>\n",
       "      <td>408</td>\n",
       "      <td>2078</td>\n",
       "      <td>7498</td>\n",
       "      <td>eng</td>\n",
       "    </tr>\n",
       "  </tbody>\n",
       "</table>\n",
       "</div>"
      ],
      "text/plain": [
       "      book_id  goodreads_book_id  best_book_id   work_id  books_count  \\\n",
       "388       389              68428         68428     66322           75   \n",
       "561       562            7235533       7235533   8134945           48   \n",
       "564       565              68429         68429   2120474           60   \n",
       "602       603            2767793       2767793   2793516           63   \n",
       "861       862           17332218      17332218  16482835           34   \n",
       "969       970           17182126      17182126  21366540           64   \n",
       "1048     1049              68427         68427   2908871           60   \n",
       "1199     1200           10803121      10803121  15035863           45   \n",
       "1664     1665            1268479       1268479   1257385           41   \n",
       "2117     2118           15704459      15704459  21979689           51   \n",
       "2791     2792           16065004      16065004  21855448           25   \n",
       "2888     2889            6604209       6604209   6798109           15   \n",
       "2977     2978           13578175      13578175  19161502           20   \n",
       "3146     3147           22443261      22443261  15035866           38   \n",
       "3248     3249           15704486      15704486  21366542           35   \n",
       "3340     3341           18739426      18739426  26616838           21   \n",
       "4487     4488           13452375      13452375  18978261           24   \n",
       "4744     4745           18966322      18966322  26984416           22   \n",
       "7992     7993           28698036      28698036  48896020            5   \n",
       "8372     8373             623976        623976   2591148           34   \n",
       "9140     9141            9329354       9329354  27679568           19   \n",
       "\n",
       "                authors  original_publication_year  \\\n",
       "388   Brandon Sanderson                     2006.0   \n",
       "561   Brandon Sanderson                     2010.0   \n",
       "564   Brandon Sanderson                     2007.0   \n",
       "602   Brandon Sanderson                     2008.0   \n",
       "861   Brandon Sanderson                     2014.0   \n",
       "969   Brandon Sanderson                     2013.0   \n",
       "1048  Brandon Sanderson                     2005.0   \n",
       "1199  Brandon Sanderson                     2011.0   \n",
       "1664  Brandon Sanderson                     2009.0   \n",
       "2117  Brandon Sanderson                     2015.0   \n",
       "2791  Brandon Sanderson                     2015.0   \n",
       "2888  Brandon Sanderson                     2009.0   \n",
       "2977  Brandon Sanderson                     2012.0   \n",
       "3146  Brandon Sanderson                     2013.0   \n",
       "3248  Brandon Sanderson                     2016.0   \n",
       "3340  Brandon Sanderson                     2016.0   \n",
       "4487  Brandon Sanderson                     2012.0   \n",
       "4744  Brandon Sanderson                     2013.0   \n",
       "7992  Brandon Sanderson                     2016.0   \n",
       "8372  Brandon Sanderson                     2007.0   \n",
       "9140  Brandon Sanderson                     2011.0   \n",
       "\n",
       "                                                  title  average_rating  \\\n",
       "388                     The Final Empire (Mistborn, #1)            4.43   \n",
       "561       The Way of Kings (The Stormlight Archive, #1)            4.64   \n",
       "564                The Well of Ascension (Mistborn, #2)            4.35   \n",
       "602                     The Hero of Ages (Mistborn, #3)            4.46   \n",
       "861      Words of Radiance (The Stormlight Archive, #2)            4.77   \n",
       "969                      Steelheart (The Reckoners, #1)            4.16   \n",
       "1048                            Elantris (Elantris, #1)            4.17   \n",
       "1199                    The Alloy of Law (Mistborn, #4)            4.20   \n",
       "1664                        Warbreaker (Warbreaker, #1)            4.22   \n",
       "2117                      Firefight (The Reckoners, #2)            4.29   \n",
       "2791                     Shadows of Self (Mistborn, #5)            4.30   \n",
       "2888        Mistborn Trilogy Boxed Set (Mistborn, #1-3)            4.55   \n",
       "2977                                 The Emperor's Soul            4.33   \n",
       "3146                The Rithmatist (The Rithmatist, #1)            4.25   \n",
       "3248                       Calamity (The Reckoners, #3)            4.20   \n",
       "3340               The Bands of Mourning (Mistborn, #6)            4.45   \n",
       "4487                                Legion (Legion, #1)            4.13   \n",
       "4744                      Mitosis (The Reckoners, #1.5)            3.87   \n",
       "7992                    Secret History (Mistborn, #3.5)            4.38   \n",
       "8372  Alcatraz Versus the Evil Librarians (Alcatraz,...            3.87   \n",
       "9140  The Way of Kings, Part 1 (The Stormlight Archi...            4.67   \n",
       "\n",
       "      ratings_count  work_ratings_count  work_text_reviews_count  ratings_1  \\\n",
       "388          208944              238993                    16276       1783   \n",
       "561          144822              164477                    10947       1085   \n",
       "564          150736              171402                     8541        534   \n",
       "602          143622              161085                     9111        596   \n",
       "861           73572              108176                     7261        154   \n",
       "969           76261              102116                    10160       1300   \n",
       "1048          95950              105780                     6438       1311   \n",
       "1199          72185               84897                     5303        271   \n",
       "1664          55948               65488                     4548        322   \n",
       "2117          41924               50765                     4426         95   \n",
       "2791          32170               40479                     2804         85   \n",
       "2888          22917               32376                      982        130   \n",
       "2977          33634               39282                     2989         84   \n",
       "3146          15977               36047                     4864        156   \n",
       "3248          27146               33909                     3310         93   \n",
       "3340          28866               33232                     2379         42   \n",
       "4487          20291               24459                     2235        147   \n",
       "4744          17250               22181                     1477         69   \n",
       "7992          12796               13424                     1081         30   \n",
       "8372          13474               15374                     2393        328   \n",
       "9140           9792               10117                      453         40   \n",
       "\n",
       "      ratings_2  ratings_3  ratings_4  ratings_5 language_code  \n",
       "388        4008      20554      76611     136037           eng  \n",
       "561        1827       7661      33962     119942           eng  \n",
       "564        2630      18661      63880      85697           eng  \n",
       "602        2257      14291      49628      94313           eng  \n",
       "861         404       2653      18272      86693           eng  \n",
       "969        3063      15596      40585      41572           eng  \n",
       "1048       2974      16025      41443      44027           eng  \n",
       "1199       1652      12408      36754      33812           eng  \n",
       "1664       1337       9533      26899      27397           eng  \n",
       "2117        622       6180      21247      22621           eng  \n",
       "2791        469       4687      17295      17943           eng  \n",
       "2888        425       2185       8517      21119           eng  \n",
       "2977        477       4536      15386      18799           eng  \n",
       "3146        652       4730      15170      15339           eng  \n",
       "3248        680       5383      14098      13655           eng  \n",
       "3340        249       2519      12186      18236           eng  \n",
       "4487        605       4208      10448       9051           eng  \n",
       "4744        714       6245      10075       5078           eng  \n",
       "7992        191       1573       4535       7095           eng  \n",
       "8372        937       3729       5745       4635           eng  \n",
       "9140         93        408       2078       7498           eng  "
      ]
     },
     "execution_count": 117,
     "metadata": {},
     "output_type": "execute_result"
    }
   ],
   "source": [
    "book_df[book_df['authors'] == 'Brandon Sanderson']"
   ]
  },
  {
   "cell_type": "markdown",
   "id": "d91f5d5e-934f-492b-bcbc-e928fb6c4a85",
   "metadata": {},
   "source": [
    "Upon analyzing the distribution of each of the five ratings, it becomes evident that they differ significantly. Ratings of 1 and 2 stars exhibit a concentrated distribution, with median values of under 5%. In contrast, 3-star ratings have more spread-out distribution, boasting a higher median of 20%. The higher ratings of 4 and 5 stars share similar median values, hovering around 36%, yet their distribution patterns significantly differ. While 4-star ratings are more concentrated, 5-star ratings display the greatest spread, ranging from as low as 6% to as high as 86%. These findings offer a comprehensive view of the diverse ways readers rate books."
   ]
  },
  {
   "cell_type": "markdown",
   "id": "5635b248-a7e8-433a-8175-3d1dd3cb2207",
   "metadata": {
    "tags": []
   },
   "source": [
    "---\n",
    "\n",
    "## Tags Data Frame   <a class=\"anchor\" id=\"part-2\"></a>"
   ]
  },
  {
   "cell_type": "markdown",
   "id": "5ce65a32-5039-4024-8ac7-0453e4d48bb0",
   "metadata": {},
   "source": [
    "The Tags DataFrame primarily consists of unique tag IDs and their corresponding names, offering limited data for exploration. However, its actual value lies in its role as a reference for identifying tag names in the Book Tags dataset, which we'll delve into next."
   ]
  },
  {
   "cell_type": "code",
   "execution_count": 22,
   "id": "fbc4ff19-fd5d-4d50-a54a-e47ef068e4ea",
   "metadata": {
    "tags": []
   },
   "outputs": [
    {
     "data": {
      "text/html": [
       "<div>\n",
       "<style scoped>\n",
       "    .dataframe tbody tr th:only-of-type {\n",
       "        vertical-align: middle;\n",
       "    }\n",
       "\n",
       "    .dataframe tbody tr th {\n",
       "        vertical-align: top;\n",
       "    }\n",
       "\n",
       "    .dataframe thead th {\n",
       "        text-align: right;\n",
       "    }\n",
       "</style>\n",
       "<table border=\"1\" class=\"dataframe\">\n",
       "  <thead>\n",
       "    <tr style=\"text-align: right;\">\n",
       "      <th></th>\n",
       "      <th>tag_id</th>\n",
       "      <th>tag_name</th>\n",
       "    </tr>\n",
       "  </thead>\n",
       "  <tbody>\n",
       "    <tr>\n",
       "      <th>0</th>\n",
       "      <td>0</td>\n",
       "      <td>-</td>\n",
       "    </tr>\n",
       "    <tr>\n",
       "      <th>1</th>\n",
       "      <td>1</td>\n",
       "      <td>--1-</td>\n",
       "    </tr>\n",
       "    <tr>\n",
       "      <th>2</th>\n",
       "      <td>2</td>\n",
       "      <td>--10-</td>\n",
       "    </tr>\n",
       "    <tr>\n",
       "      <th>3</th>\n",
       "      <td>3</td>\n",
       "      <td>--12-</td>\n",
       "    </tr>\n",
       "    <tr>\n",
       "      <th>4</th>\n",
       "      <td>4</td>\n",
       "      <td>--122-</td>\n",
       "    </tr>\n",
       "  </tbody>\n",
       "</table>\n",
       "</div>"
      ],
      "text/plain": [
       "   tag_id tag_name\n",
       "0       0        -\n",
       "1       1     --1-\n",
       "2       2    --10-\n",
       "3       3    --12-\n",
       "4       4   --122-"
      ]
     },
     "execution_count": 22,
     "metadata": {},
     "output_type": "execute_result"
    }
   ],
   "source": [
    "tags_df.head()"
   ]
  },
  {
   "cell_type": "code",
   "execution_count": 23,
   "id": "a2d40b53-a87f-478b-bb05-3b584ce369ec",
   "metadata": {
    "tags": []
   },
   "outputs": [
    {
     "name": "stdout",
     "output_type": "stream",
     "text": [
      "Tags Data Frame has 34252 rows and 2 columns\n"
     ]
    }
   ],
   "source": [
    "#check size\n",
    "t_rown, t_coln = tags_df.shape\n",
    "print(f'Tags Data Frame has {t_rown} rows and {t_coln} columns')"
   ]
  },
  {
   "cell_type": "code",
   "execution_count": 24,
   "id": "286a767e-4e3f-48e9-94a7-ce628dab9b4b",
   "metadata": {
    "tags": []
   },
   "outputs": [
    {
     "name": "stdout",
     "output_type": "stream",
     "text": [
      "<class 'pandas.core.frame.DataFrame'>\n",
      "RangeIndex: 34252 entries, 0 to 34251\n",
      "Data columns (total 2 columns):\n",
      " #   Column    Non-Null Count  Dtype \n",
      "---  ------    --------------  ----- \n",
      " 0   tag_id    34252 non-null  int64 \n",
      " 1   tag_name  34252 non-null  object\n",
      "dtypes: int64(1), object(1)\n",
      "memory usage: 535.3+ KB\n"
     ]
    }
   ],
   "source": [
    "tags_df.info()"
   ]
  },
  {
   "cell_type": "code",
   "execution_count": 25,
   "id": "87b28bb4-d1af-40ee-881c-8e72c5ebbfdb",
   "metadata": {
    "tags": []
   },
   "outputs": [
    {
     "data": {
      "text/plain": [
       "tag_id      0\n",
       "tag_name    0\n",
       "dtype: int64"
      ]
     },
     "execution_count": 25,
     "metadata": {},
     "output_type": "execute_result"
    }
   ],
   "source": [
    "tags_df.isna().sum()"
   ]
  },
  {
   "cell_type": "code",
   "execution_count": 26,
   "id": "ac901d07-a71d-426f-9b4b-b7b93b7e8195",
   "metadata": {
    "tags": []
   },
   "outputs": [
    {
     "data": {
      "text/plain": [
       "0"
      ]
     },
     "execution_count": 26,
     "metadata": {},
     "output_type": "execute_result"
    }
   ],
   "source": [
    "tags_df.duplicated().sum()"
   ]
  },
  {
   "cell_type": "markdown",
   "id": "5e31db98-e4a7-4d4d-bb53-febde1266d59",
   "metadata": {},
   "source": [
    "---\n",
    "## Book Tags Data Frame <a class=\"anchor\" id=\"part-3\"></a>"
   ]
  },
  {
   "cell_type": "markdown",
   "id": "7d9f7f0d-70e4-48b6-9895-5267256452f8",
   "metadata": {},
   "source": [
    "The Book Tags DataFrame includes data about the number of users who have assigned specific tags to particular books. This dataset is valuable as it allows us to compare books that share many of the same tags. "
   ]
  },
  {
   "cell_type": "code",
   "execution_count": 27,
   "id": "0caa718b-af35-4357-abdc-309687feaafe",
   "metadata": {
    "tags": []
   },
   "outputs": [
    {
     "data": {
      "text/html": [
       "<div>\n",
       "<style scoped>\n",
       "    .dataframe tbody tr th:only-of-type {\n",
       "        vertical-align: middle;\n",
       "    }\n",
       "\n",
       "    .dataframe tbody tr th {\n",
       "        vertical-align: top;\n",
       "    }\n",
       "\n",
       "    .dataframe thead th {\n",
       "        text-align: right;\n",
       "    }\n",
       "</style>\n",
       "<table border=\"1\" class=\"dataframe\">\n",
       "  <thead>\n",
       "    <tr style=\"text-align: right;\">\n",
       "      <th></th>\n",
       "      <th>goodreads_book_id</th>\n",
       "      <th>tag_id</th>\n",
       "      <th>count</th>\n",
       "    </tr>\n",
       "  </thead>\n",
       "  <tbody>\n",
       "    <tr>\n",
       "      <th>0</th>\n",
       "      <td>1</td>\n",
       "      <td>30574</td>\n",
       "      <td>167697</td>\n",
       "    </tr>\n",
       "    <tr>\n",
       "      <th>1</th>\n",
       "      <td>1</td>\n",
       "      <td>11305</td>\n",
       "      <td>37174</td>\n",
       "    </tr>\n",
       "    <tr>\n",
       "      <th>2</th>\n",
       "      <td>1</td>\n",
       "      <td>11557</td>\n",
       "      <td>34173</td>\n",
       "    </tr>\n",
       "    <tr>\n",
       "      <th>3</th>\n",
       "      <td>1</td>\n",
       "      <td>8717</td>\n",
       "      <td>12986</td>\n",
       "    </tr>\n",
       "    <tr>\n",
       "      <th>4</th>\n",
       "      <td>1</td>\n",
       "      <td>33114</td>\n",
       "      <td>12716</td>\n",
       "    </tr>\n",
       "  </tbody>\n",
       "</table>\n",
       "</div>"
      ],
      "text/plain": [
       "   goodreads_book_id  tag_id   count\n",
       "0                  1   30574  167697\n",
       "1                  1   11305   37174\n",
       "2                  1   11557   34173\n",
       "3                  1    8717   12986\n",
       "4                  1   33114   12716"
      ]
     },
     "execution_count": 27,
     "metadata": {},
     "output_type": "execute_result"
    }
   ],
   "source": [
    "book_tags_df.head()"
   ]
  },
  {
   "cell_type": "code",
   "execution_count": 28,
   "id": "1d8ed300-c431-4e1a-852c-9dd0d2aa701a",
   "metadata": {
    "tags": []
   },
   "outputs": [
    {
     "name": "stdout",
     "output_type": "stream",
     "text": [
      "Book Tags Data Frame has 999912 rows and 3 columns\n"
     ]
    }
   ],
   "source": [
    "#check size\n",
    "bt_rown, bt_coln = book_tags_df.shape\n",
    "print(f'Book Tags Data Frame has {bt_rown} rows and {bt_coln} columns')"
   ]
  },
  {
   "cell_type": "code",
   "execution_count": 29,
   "id": "459488aa-79c7-4ca7-afd3-51dd282ae266",
   "metadata": {
    "tags": []
   },
   "outputs": [
    {
     "data": {
      "text/plain": [
       "goodreads_book_id    0\n",
       "tag_id               0\n",
       "count                0\n",
       "dtype: int64"
      ]
     },
     "execution_count": 29,
     "metadata": {},
     "output_type": "execute_result"
    }
   ],
   "source": [
    "book_tags_df.isna().sum()"
   ]
  },
  {
   "cell_type": "code",
   "execution_count": 30,
   "id": "cc294f14-daec-4a59-8d6b-d77d5ca7f250",
   "metadata": {
    "tags": []
   },
   "outputs": [
    {
     "data": {
      "text/plain": [
       "6"
      ]
     },
     "execution_count": 30,
     "metadata": {},
     "output_type": "execute_result"
    }
   ],
   "source": [
    "book_tags_df.duplicated().sum()"
   ]
  },
  {
   "cell_type": "markdown",
   "id": "274118b8-0539-49a4-9b26-350c5d33cc50",
   "metadata": {},
   "source": [
    "We identified six duplicate rows in our dataset, representing an extremely small fraction, accounting for just 0.0006% of our data. Consequently, we can confidently remove these six rows and explore the dataset."
   ]
  },
  {
   "cell_type": "code",
   "execution_count": 31,
   "id": "b27c65af-17fc-4aa8-839c-2b92bbbd2a3d",
   "metadata": {
    "tags": []
   },
   "outputs": [
    {
     "data": {
      "text/plain": [
       "0"
      ]
     },
     "execution_count": 31,
     "metadata": {},
     "output_type": "execute_result"
    }
   ],
   "source": [
    "book_tags_df.drop_duplicates(inplace=True)\n",
    "book_tags_df.duplicated().sum()"
   ]
  },
  {
   "cell_type": "markdown",
   "id": "2363fedd-bc4e-4417-b46e-0ce84bdfeba2",
   "metadata": {},
   "source": [
    "In the exploration phase, we begin by examining the number of tags assigned to each book. We find that a staggering 99.94% of the books have precisely 100 tags. Only a small number deviate from this trend, with six books having fewer tags, and the lowest count being 56 tags."
   ]
  },
  {
   "cell_type": "code",
   "execution_count": 32,
   "id": "e1180be9-1fb4-4894-9726-89ae364027bc",
   "metadata": {
    "tags": []
   },
   "outputs": [
    {
     "data": {
      "text/html": [
       "<div>\n",
       "<style scoped>\n",
       "    .dataframe tbody tr th:only-of-type {\n",
       "        vertical-align: middle;\n",
       "    }\n",
       "\n",
       "    .dataframe tbody tr th {\n",
       "        vertical-align: top;\n",
       "    }\n",
       "\n",
       "    .dataframe thead th {\n",
       "        text-align: right;\n",
       "    }\n",
       "</style>\n",
       "<table border=\"1\" class=\"dataframe\">\n",
       "  <thead>\n",
       "    <tr style=\"text-align: right;\">\n",
       "      <th></th>\n",
       "      <th>tag_id</th>\n",
       "    </tr>\n",
       "    <tr>\n",
       "      <th>count</th>\n",
       "      <th></th>\n",
       "    </tr>\n",
       "  </thead>\n",
       "  <tbody>\n",
       "    <tr>\n",
       "      <th>56</th>\n",
       "      <td>1</td>\n",
       "    </tr>\n",
       "    <tr>\n",
       "      <th>62</th>\n",
       "      <td>1</td>\n",
       "    </tr>\n",
       "    <tr>\n",
       "      <th>94</th>\n",
       "      <td>1</td>\n",
       "    </tr>\n",
       "    <tr>\n",
       "      <th>96</th>\n",
       "      <td>1</td>\n",
       "    </tr>\n",
       "    <tr>\n",
       "      <th>99</th>\n",
       "      <td>2</td>\n",
       "    </tr>\n",
       "    <tr>\n",
       "      <th>100</th>\n",
       "      <td>9994</td>\n",
       "    </tr>\n",
       "  </tbody>\n",
       "</table>\n",
       "</div>"
      ],
      "text/plain": [
       "       tag_id\n",
       "count        \n",
       "56          1\n",
       "62          1\n",
       "94          1\n",
       "96          1\n",
       "99          2\n",
       "100      9994"
      ]
     },
     "execution_count": 32,
     "metadata": {},
     "output_type": "execute_result"
    }
   ],
   "source": [
    "#group by books id to find how many tags are assigned to the book and then groups by count to find the number of books with certain number of tags\n",
    "book_tags_df.groupby('goodreads_book_id').count().groupby('count').count()"
   ]
  },
  {
   "cell_type": "markdown",
   "id": "fe873f22-0643-4e6e-991a-10bc9dec4344",
   "metadata": {
    "tags": []
   },
   "source": [
    "Following our exploration we can delve into the popularity of tags by examining the percentage of our 10,000 books that contain each tag. Using the information from the previous tags DataFrame, we'll incorporate it into our data to identify the top 10 most popular tags. Subsequently, we'll explore the distribution of all tags across the dataset."
   ]
  },
  {
   "cell_type": "code",
   "execution_count": 59,
   "id": "3ca4b0ea-c2c9-41bf-a8be-e2226eb5ab82",
   "metadata": {
    "tags": []
   },
   "outputs": [
    {
     "data": {
      "text/plain": [
       "to-read              99.83\n",
       "favorites            98.81\n",
       "owned                98.58\n",
       "books-i-own          97.99\n",
       "currently-reading    97.76\n",
       "library              94.15\n",
       "owned-books          92.21\n",
       "fiction              90.97\n",
       "to-buy               86.92\n",
       "kindle               83.16\n",
       "default              82.39\n",
       "ebook                80.54\n",
       "my-books             75.61\n",
       "audiobook            72.42\n",
       "ebooks               72.03\n",
       "wish-list            71.92\n",
       "my-library           70.00\n",
       "audiobooks           68.62\n",
       "i-own                66.70\n",
       "adult                66.04\n",
       "Name: tag_name, dtype: float64"
      ]
     },
     "execution_count": 59,
     "metadata": {},
     "output_type": "execute_result"
    }
   ],
   "source": [
    "# adding tags name \n",
    "book_tags_df2 = pd.merge(book_tags_df, tags_df, on = 'tag_id', how = 'left')\n",
    "\n",
    "popul_tags = book_tags_df2['tag_name'].value_counts()/book_df.shape[0]*100\n",
    "\n",
    "popul_tags.head(20)"
   ]
  },
  {
   "cell_type": "code",
   "execution_count": 60,
   "id": "040fca5a-83c0-474b-ab91-6baeefa79083",
   "metadata": {
    "tags": []
   },
   "outputs": [
    {
     "data": {
      "image/png": "[encoded data removed]",
      "text/plain": [
       "<Figure size 640x480 with 1 Axes>"
      ]
     },
     "metadata": {},
     "output_type": "display_data"
    }
   ],
   "source": [
    "\n",
    "plt.figure(facecolor='#fffbf0')\n",
    "ax = plt.axes()\n",
    "ax.set_facecolor(\"#fffbf0\")\n",
    "plt.title('Distribution of Tag Apperance Percentage')\n",
    "plt.hist(popul_tags,bins =15,color = '#26a69a')\n",
    "plt.xticks([0,20,40,60,80,100],['0%','20%','40%','60%','80%','100%'])\n",
    "plt.xlim(0)\n",
    "plt.ylabel('Frequency')\n",
    "plt.xlabel('Percentage of Tag Apperance')\n",
    "plt.axvline(popul_tags.mean(),ls = '--',color = 'lime', label = f\"Mean = {np.round(popul_tags.mean(),3)}%\")\n",
    "plt.axvline(popul_tags.median(),ls = '--',color = 'cyan', label = f\"Median = {popul_tags.median()}%\")\n",
    "plt.legend()\n",
    "plt.ylim(0,34252)\n",
    "plt.show()"
   ]
  },
  {
   "cell_type": "markdown",
   "id": "e96e9ad6-7fe8-41cb-9bd9-b2dcf96a9368",
   "metadata": {
    "tags": []
   },
   "source": [
    "Analyzing the distribution of tags, we observe that astonishingly, over 50% of our tags are associated with only one of our books. On average, a tag tends to appear on approximately 29 books. This implies that tags are far more unique than we initially expected. As a result, we may need to consider narrowing down the number of tags we use when building a recommender model, particularly if we opt for a content-based or hybrid recommender. This ensures that our recommendations are more targeted and relevant to readers' specific interests."
   ]
  },
  {
   "cell_type": "code",
   "execution_count": 61,
   "id": "5c549e91-6db4-4c3b-a46d-91a45ed041d6",
   "metadata": {
    "tags": []
   },
   "outputs": [
    {
     "data": {
      "image/png": "[encoded data removed]",
      "text/plain": [
       "<Figure size 640x480 with 1 Axes>"
      ]
     },
     "metadata": {},
     "output_type": "display_data"
    }
   ],
   "source": [
    "popul_tags2 = popul_tags[(popul_tags > 0.1) & (popul_tags < 66)]\n",
    "\n",
    "plt.figure(facecolor='#fffbf0')\n",
    "ax = plt.axes()\n",
    "ax.set_facecolor(\"#fffbf0\")\n",
    "plt.title('Distribution of Tag Apperance Percentage')\n",
    "plt.hist(popul_tags2,bins =15,color = '#26a69a')\n",
    "plt.xticks([0,20,40,60,80,100],['0%','20%','40%','60%','80%','100%'])\n",
    "plt.xlim(0)\n",
    "plt.ylabel('Frequency')\n",
    "plt.xlabel('Percentage of Tag Apperance')\n",
    "plt.axvline(popul_tags2.mean(),ls = '--',color = 'lime', label = f\"Mean = {np.round(popul_tags2.mean(),3)}%\")\n",
    "plt.axvline(popul_tags2.median(),ls = '--',color = 'cyan', label = f\"Median = {popul_tags2.median()}%\")\n",
    "plt.legend()\n",
    "plt.yscale('log') \n",
    "plt.show()"
   ]
  },
  {
   "cell_type": "code",
   "execution_count": 91,
   "id": "4c1a501e-b95b-4f0f-bc06-6190a928715f",
   "metadata": {
    "tags": []
   },
   "outputs": [
    {
     "data": {
      "text/plain": [
       "goodreads_book_id\n",
       "22931009    17\n",
       "18607805    20\n",
       "300905      25\n",
       "901680      27\n",
       "383196      33\n",
       "            ..\n",
       "15749186    92\n",
       "3636        92\n",
       "42369       92\n",
       "15195       93\n",
       "345627      95\n",
       "Name: count, Length: 10000, dtype: int64"
      ]
     },
     "execution_count": 91,
     "metadata": {},
     "output_type": "execute_result"
    }
   ],
   "source": [
    "tag_list = book_tags_df['tag_id'].value_counts()/book_df.shape[0]*100\n",
    "\n",
    "tag_list = list(tag_list[(tag_list > 0.1) & (tag_list < 66)].index)\n",
    "\n",
    "book_tags_df3 = book_tags_df[(book_tags_df['tag_id'].isin(tag_list))]\n",
    "\n",
    "hist_book = book_tags_df3.groupby('goodreads_book_id').count().sort_values('count')['count']\n",
    "hist_book"
   ]
  },
  {
   "cell_type": "code",
   "execution_count": 107,
   "id": "e0630c26-16ce-481d-80d1-5ba152b9b5e4",
   "metadata": {
    "tags": []
   },
   "outputs": [
    {
     "data": {
      "image/png": "[encoded data removed]",
      "text/plain": [
       "<Figure size 640x480 with 1 Axes>"
      ]
     },
     "metadata": {},
     "output_type": "display_data"
    }
   ],
   "source": [
    "\n",
    "plt.figure(facecolor='#fffbf0')\n",
    "ax = plt.axes()\n",
    "ax.set_facecolor(\"#fffbf0\")\n",
    "plt.title('Distribution of the Number of Tags Per Book')\n",
    "plt.hist(hist_book,bins =15,color = '#26a69a')\n",
    "plt.xlim(0)\n",
    "plt.ylabel('Frequency')\n",
    "plt.xlabel('Number of Tags')\n",
    "plt.axvline(hist_book.mean(),ls = '--',color = 'lime', label = f\"Mean = {np.round(hist_book.mean(),3)}%\")\n",
    "plt.axvline(hist_book.median(),ls = '--',color = 'cyan', label = f\"Median = {hist_book.median()}%\")\n",
    "plt.legend()\n",
    "plt.yscale('log') \n",
    "plt.show()"
   ]
  },
  {
   "cell_type": "markdown",
   "id": "8657fe89-b383-4101-a835-d98044a25abd",
   "metadata": {
    "tags": []
   },
   "source": [
    "---\n",
    "## Ratings Data Frame <a class=\"anchor\" id=\"part-4\"></a>"
   ]
  },
  {
   "cell_type": "markdown",
   "id": "920f2697-cdbb-47fc-8d74-d7ed3ef19fdc",
   "metadata": {},
   "source": [
    "Moving to our last DataFrame, we have the 'ratings' dataset, which contains user ratings for each book on a scale from 1 to 5."
   ]
  },
  {
   "cell_type": "code",
   "execution_count": 435,
   "id": "f299d989-af9d-492e-aefd-b07196254d1f",
   "metadata": {
    "tags": []
   },
   "outputs": [
    {
     "data": {
      "text/html": [
       "<div>\n",
       "<style scoped>\n",
       "    .dataframe tbody tr th:only-of-type {\n",
       "        vertical-align: middle;\n",
       "    }\n",
       "\n",
       "    .dataframe tbody tr th {\n",
       "        vertical-align: top;\n",
       "    }\n",
       "\n",
       "    .dataframe thead th {\n",
       "        text-align: right;\n",
       "    }\n",
       "</style>\n",
       "<table border=\"1\" class=\"dataframe\">\n",
       "  <thead>\n",
       "    <tr style=\"text-align: right;\">\n",
       "      <th></th>\n",
       "      <th>user_id</th>\n",
       "      <th>book_id</th>\n",
       "      <th>rating</th>\n",
       "    </tr>\n",
       "  </thead>\n",
       "  <tbody>\n",
       "    <tr>\n",
       "      <th>0</th>\n",
       "      <td>1</td>\n",
       "      <td>258</td>\n",
       "      <td>5</td>\n",
       "    </tr>\n",
       "    <tr>\n",
       "      <th>1</th>\n",
       "      <td>2</td>\n",
       "      <td>4081</td>\n",
       "      <td>4</td>\n",
       "    </tr>\n",
       "    <tr>\n",
       "      <th>2</th>\n",
       "      <td>2</td>\n",
       "      <td>260</td>\n",
       "      <td>5</td>\n",
       "    </tr>\n",
       "    <tr>\n",
       "      <th>3</th>\n",
       "      <td>2</td>\n",
       "      <td>9296</td>\n",
       "      <td>5</td>\n",
       "    </tr>\n",
       "    <tr>\n",
       "      <th>4</th>\n",
       "      <td>2</td>\n",
       "      <td>2318</td>\n",
       "      <td>3</td>\n",
       "    </tr>\n",
       "  </tbody>\n",
       "</table>\n",
       "</div>"
      ],
      "text/plain": [
       "   user_id  book_id  rating\n",
       "0        1      258       5\n",
       "1        2     4081       4\n",
       "2        2      260       5\n",
       "3        2     9296       5\n",
       "4        2     2318       3"
      ]
     },
     "execution_count": 435,
     "metadata": {},
     "output_type": "execute_result"
    }
   ],
   "source": [
    "ratings_df.head()"
   ]
  },
  {
   "cell_type": "code",
   "execution_count": 436,
   "id": "0baf58f3-ead4-4e66-8560-55f26a6b857c",
   "metadata": {
    "tags": []
   },
   "outputs": [
    {
     "name": "stdout",
     "output_type": "stream",
     "text": [
      "Rating Data Frame has 5976479 rows and 3 columns\n"
     ]
    }
   ],
   "source": [
    "#check size\n",
    "r_rown, r_coln = ratings_df.shape\n",
    "print(f'Rating Data Frame has {r_rown} rows and {r_coln} columns')"
   ]
  },
  {
   "cell_type": "code",
   "execution_count": 437,
   "id": "6f01cc15-6b44-4f8c-b294-d4dfd74dba16",
   "metadata": {
    "tags": []
   },
   "outputs": [
    {
     "name": "stdout",
     "output_type": "stream",
     "text": [
      "<class 'pandas.core.frame.DataFrame'>\n",
      "RangeIndex: 5976479 entries, 0 to 5976478\n",
      "Data columns (total 3 columns):\n",
      " #   Column   Dtype\n",
      "---  ------   -----\n",
      " 0   user_id  int64\n",
      " 1   book_id  int64\n",
      " 2   rating   int64\n",
      "dtypes: int64(3)\n",
      "memory usage: 136.8 MB\n"
     ]
    }
   ],
   "source": [
    "ratings_df.info()"
   ]
  },
  {
   "cell_type": "code",
   "execution_count": 438,
   "id": "50d245b2-8c2d-4164-b834-aa3ac8424060",
   "metadata": {
    "tags": []
   },
   "outputs": [
    {
     "data": {
      "text/plain": [
       "user_id    0\n",
       "book_id    0\n",
       "rating     0\n",
       "dtype: int64"
      ]
     },
     "execution_count": 438,
     "metadata": {},
     "output_type": "execute_result"
    }
   ],
   "source": [
    "ratings_df.isna().sum()"
   ]
  },
  {
   "cell_type": "code",
   "execution_count": 439,
   "id": "ff0298af-cde1-4ae0-8e12-54bdcb4758e3",
   "metadata": {
    "tags": []
   },
   "outputs": [
    {
     "data": {
      "text/plain": [
       "0"
      ]
     },
     "execution_count": 439,
     "metadata": {},
     "output_type": "execute_result"
    }
   ],
   "source": [
    "ratings_df.duplicated().sum()"
   ]
  },
  {
   "cell_type": "markdown",
   "id": "49f9e7be-808b-4dba-af16-1bd9c1194b74",
   "metadata": {},
   "source": [
    "The data appears to be clean, allowing us to proceed to the exploratory phase. We'll begin by examining the percentage of books with ratings and the number of unique users in our dataset."
   ]
  },
  {
   "cell_type": "code",
   "execution_count": 440,
   "id": "83f16c4f-a62c-4146-a105-3a92b345ac0b",
   "metadata": {
    "tags": []
   },
   "outputs": [
    {
     "name": "stdout",
     "output_type": "stream",
     "text": [
      "100.0% of books have ratings\n",
      "53424 Users have given ratings\n"
     ]
    }
   ],
   "source": [
    "print(f\"{ratings_df['book_id'].unique().size/b_rown*100}% of books have ratings\")\n",
    "print(f\"{ratings_df['user_id'].unique().size} Users have given ratings\")"
   ]
  },
  {
   "cell_type": "markdown",
   "id": "05723ef7-f3c0-472d-8bdc-bf245469ed6a",
   "metadata": {},
   "source": [
    "Now, let's explore the distribution of user ratings, ranging from 1 to 5."
   ]
  },
  {
   "cell_type": "code",
   "execution_count": 441,
   "id": "66df2430-f635-413e-a531-cf66e57ddb04",
   "metadata": {},
   "outputs": [
    {
     "data": {
      "image/png": "[encoded data removed]",
      "text/plain": [
       "<Figure size 640x480 with 1 Axes>"
      ]
     },
     "metadata": {},
     "output_type": "display_data"
    }
   ],
   "source": [
    "rat_cnt = ratings_df['rating'].value_counts().sort_index(ascending = False)\n",
    "\n",
    "plt.figure(facecolor='#fffbf0')\n",
    "ax = plt.axes()\n",
    "ax.set_facecolor(\"#fffbf0\")\n",
    "plt.bar(rat_cnt.index,rat_cnt.values, color = '#26a69a')\n",
    "plt.xlabel('Rating')\n",
    "plt.ylabel('Frequency')\n",
    "plt.title('Distribution of Users Ratings')\n",
    "for i in range(5):\n",
    "    pos = rat_cnt.values[i]-100000\n",
    "    pct = np.round(rat_cnt.values[i]/ratings_df.shape[0]*100,2)\n",
    "    plt.text(5-i, pos, f'{pct}%', ha = 'center',color = 'white',weight=\"bold\")\n",
    "plt.savefig('ratings_dis.png')\n",
    "plt.show()\n"
   ]
  },
  {
   "cell_type": "markdown",
   "id": "b1fae50d-170b-43ae-be8d-fb4669f6597a",
   "metadata": {},
   "source": [
    "Examining this distribution, we observe that ratings of 4 and 5 are the most prevalent, together accounting for just over two-thirds of the total ratings. In contrast, ratings of 1 are the least common, making up only approximately 2% of the user ratings. This distribution indicates a positive bias in our data, which is an essential factor to consider as we develop our recommendation model.\n",
    "\n",
    "Next, let's explore the distribution of the amounts of books that each user rates."
   ]
  },
  {
   "cell_type": "code",
   "execution_count": 442,
   "id": "7d579cb3-0d9c-4297-a734-bb2bdc70760d",
   "metadata": {},
   "outputs": [
    {
     "data": {
      "image/png": "[encoded data removed]",
      "text/plain": [
       "<Figure size 640x480 with 1 Axes>"
      ]
     },
     "metadata": {},
     "output_type": "display_data"
    }
   ],
   "source": [
    "user_agg = ratings_df.groupby(['user_id'])[['rating']].agg(['count', 'mean', 'median'])['rating']\n",
    "\n",
    "plt.figure(facecolor='#fffbf0')\n",
    "ax = plt.axes()\n",
    "ax.set_facecolor(\"#fffbf0\")\n",
    "plt.title('Distribution of The Amount of Books Rated by Each User')\n",
    "plt.xlabel('Number of Books Rated')\n",
    "plt.ylabel('Frequency')\n",
    "plt.hist(user_agg['count'], bins = 30,color = '#26a69a')\n",
    "plt.axvline(user_agg['count'].mean(),ls = '--',color = 'lime', label = f\"Mean = {np.round(user_agg['count'].mean(),2)}\")\n",
    "plt.axvline(user_agg['count'].median(),ls = '--',color = 'cyan', label = f\"Median = {user_agg['count'].median()}\")\n",
    "plt.legend()\n",
    "#plt.savefig('books_dis.png')\n",
    "plt.show()"
   ]
  },
  {
   "cell_type": "markdown",
   "id": "e286dd8c-5b54-40c7-97a5-62854841a342",
   "metadata": {},
   "source": [
    "Exploring the distribution of the number of books that users rate, we notice that it exhibits a relatively normal distribution, with a peak centered at around 111 books rated by each user. This suggests that, on average, users tend to rate around 1.11% of the available books in our dataset.\n",
    "\n",
    "Lastly, we can examine the inverse of this scenario by looking at the distribution of the number of users each book receives"
   ]
  },
  {
   "cell_type": "code",
   "execution_count": 443,
   "id": "2f09439d-a607-4ee5-a818-0bbd06a58883",
   "metadata": {
    "tags": []
   },
   "outputs": [
    {
     "data": {
      "image/png": "[encoded data removed]",
      "text/plain": [
       "<Figure size 640x480 with 1 Axes>"
      ]
     },
     "metadata": {},
     "output_type": "display_data"
    }
   ],
   "source": [
    "num_rates = ratings_df[['book_id','user_id']].groupby('book_id').count()\n",
    "\n",
    "plt.figure(facecolor='#fffbf0')\n",
    "ax = plt.axes()\n",
    "ax.set_facecolor(\"#fffbf0\")\n",
    "plt.title('Distribution of The Number of Rating Each Book')\n",
    "plt.xlabel('Number of User Ratings')\n",
    "plt.ylabel('Frequency')\n",
    "plt.hist(num_rates['user_id'], bins = 40,color = '#26a69a')\n",
    "plt.axvline(num_rates['user_id'].mean(),ls = '--',color = 'lime', label = f\"Mean = {np.round(num_rates['user_id'].mean(),2)}\")\n",
    "plt.axvline(num_rates['user_id'].median(),ls = '--',color = 'cyan', label = f\"Median = {num_rates['user_id'].median()}\")\n",
    "plt.legend()\n",
    "plt.xlim(0)\n",
    "plt.show()"
   ]
  },
  {
   "cell_type": "markdown",
   "id": "56ee351c-b99c-4ac7-a95f-175f4e3234d3",
   "metadata": {},
   "source": [
    "Examining this distribution, we observe a substantial spread, with some books receiving over 10,000 user recommendations. However, most books receive just around a few hundred user recommendations, highlighting the diversity in user engagement. On average, each book garners approximately 600 user ratings. This information provides insights into the varying levels of popularity and user interactions with the books in our dataset."
   ]
  },
  {
   "cell_type": "markdown",
   "id": "06bae862-ac13-467b-8b9d-a90b96ec14e5",
   "metadata": {},
   "source": [
    "---\n",
    "\n",
    "###  Conclusion\n",
    "\n",
    "Our exploration and initial data analysis have provided valuable insights into the diverse landscape of our four datasets. We've addressed data quality concerns, uncovered vital statistics, and gained a deeper understanding of the distribution of user interactions with books. These findings lay a solid foundation for our next phases, including data processing, feature engineering, and creating a baseline recommendation model. As we move forward, we will leverage these insights to craft a robust book recommender system that caters to a wide range of user preferences. "
   ]
  }
 ],
 "metadata": {
  "kernelspec": {
   "display_name": "basicpythonkernel",
   "language": "python",
   "name": "basicpythonkernel"
  },
  "language_info": {
   "codemirror_mode": {
    "name": "ipython",
    "version": 3
   },
   "file_extension": ".py",
   "mimetype": "text/x-python",
   "name": "python",
   "nbconvert_exporter": "python",
   "pygments_lexer": "ipython3",
   "version": "3.11.4"
  }
 },
 "nbformat": 4,
 "nbformat_minor": 5
}
